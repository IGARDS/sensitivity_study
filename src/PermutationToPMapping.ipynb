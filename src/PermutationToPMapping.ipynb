{
 "cells": [
  {
   "cell_type": "code",
   "execution_count": 1,
   "metadata": {},
   "outputs": [],
   "source": [
    "%load_ext autoreload\n",
    "%autoreload 2"
   ]
  },
  {
   "cell_type": "code",
   "execution_count": 2,
   "metadata": {},
   "outputs": [
    {
     "name": "stdout",
     "output_type": "stream",
     "text": [
      "Academic license - for non-commercial use only\n"
     ]
    }
   ],
   "source": [
    "from sensitivity_tests import *\n",
    "\n",
    "import matplotlib.pyplot as plt\n",
    "from tqdm import tqdm\n",
    "from pathlib import Path\n",
    "import os\n",
    "import numpy as np\n",
    "import math\n",
    "import random\n",
    "import sys\n",
    "import itertools\n",
    "from scipy import stats\n",
    "import pandas as pd\n",
    "sys.path.append(\"~/rankability_toolbox\")\n",
    "import pyrankability\n",
    "\n",
    "from gurobipy import *\n",
    "setParam(\"OutputFlag\", 0)\n",
    "setParam(\"Presolve\", 0)"
   ]
  },
  {
   "cell_type": "code",
   "execution_count": 3,
   "metadata": {},
   "outputs": [],
   "source": [
    "# Produces a pandas Series with the optimal rankings found from each permutation\n",
    "def solve_all_permutations(D_orig):\n",
    "    perms = list(itertools.permutations(range(D_orig.shape[0])))\n",
    "    P_elems = []\n",
    "    for perm in tqdm(perms):\n",
    "        D_permuted = D_orig[perm,:][:,perm]\n",
    "        k, details = pyrankability.lop.bilp(D_permuted)\n",
    "        elem = list(details[\"P\"][0])\n",
    "        for i in range(len(elem)):\n",
    "            elem[i] = perm[elem[i]]\n",
    "        P_elems.append(str(elem))\n",
    "    return pd.Series(P_elems)\n",
    "\n",
    "# Checks if the frequencies are uniform or not\n",
    "def check_freqs(freqs):\n",
    "    if len(freqs.unique()) > 1:\n",
    "        print(freqs)\n",
    "        plt.bar(range(1, len(freqs)+1), height=freqs.values)\n",
    "        plt.show()\n",
    "        return False\n",
    "    else:\n",
    "        print(\"Perfectly balanced, as all things should be.\")\n",
    "        print(\"All {0} elements produced by {1} permutations\".format(len(freqs), freqs.unique()[0]), flush=True)\n",
    "        return True\n",
    "\n",
    "# Generates random noisy D matrices and checks for uniform frequncy\n",
    "def test_rand_D(noise_gen, num_attempts):\n",
    "    for i in range(num_attempts):\n",
    "        D2 = noise_gen.apply_noise(D)\n",
    "        print(D2)\n",
    "        P_elems_series = solve_all_permutations(D2)\n",
    "        freqs = P_elems_series.value_counts()\n",
    "        balanced = check_freqs(freqs)"
   ]
  },
  {
   "cell_type": "markdown",
   "metadata": {},
   "source": [
    "## Perfect Dominance with Constant # of Ties"
   ]
  },
  {
   "cell_type": "code",
   "execution_count": 4,
   "metadata": {},
   "outputs": [
    {
     "data": {
      "text/plain": [
       "array([[0, 1, 1, 1, 1, 1, 1],\n",
       "       [0, 0, 1, 1, 1, 1, 1],\n",
       "       [0, 0, 0, 1, 1, 1, 1],\n",
       "       [0, 0, 0, 0, 0, 0, 0],\n",
       "       [0, 0, 0, 0, 0, 0, 0],\n",
       "       [0, 0, 0, 0, 0, 0, 0],\n",
       "       [0, 0, 0, 0, 0, 0, 0]])"
      ]
     },
     "execution_count": 4,
     "metadata": {},
     "output_type": "execute_result"
    }
   ],
   "source": [
    "n_items = 7\n",
    "n_ties = 4\n",
    "\n",
    "# Create perfect binary dominance\n",
    "D = PerfectBinarySource(n_items).init_D()\n",
    "\n",
    "# Tie-up the bottom n_ties items\n",
    "for i in range(n_ties):\n",
    "    D[n_items-i-1] = 0\n",
    "\n",
    "D"
   ]
  },
  {
   "cell_type": "code",
   "execution_count": 5,
   "metadata": {},
   "outputs": [
    {
     "name": "stderr",
     "output_type": "stream",
     "text": [
      "100%|██████████| 5040/5040 [00:17<00:00, 287.00it/s]"
     ]
    },
    {
     "name": "stdout",
     "output_type": "stream",
     "text": [
      "Perfectly balanced, as all things should be.\n",
      "All 24 elements produced by 210 permutations\n"
     ]
    },
    {
     "name": "stderr",
     "output_type": "stream",
     "text": [
      "\n"
     ]
    },
    {
     "data": {
      "text/plain": [
       "True"
      ]
     },
     "execution_count": 5,
     "metadata": {},
     "output_type": "execute_result"
    }
   ],
   "source": [
    "n_ties_series = solve_all_permutations(D)\n",
    "freqs = n_ties_series.value_counts()\n",
    "check_freqs(freqs)"
   ]
  },
  {
   "cell_type": "markdown",
   "metadata": {},
   "source": [
    "## Re-initialize D"
   ]
  },
  {
   "cell_type": "code",
   "execution_count": 6,
   "metadata": {},
   "outputs": [
    {
     "data": {
      "text/plain": [
       "array([[0, 1, 1, 1, 1, 1, 1],\n",
       "       [0, 0, 1, 1, 1, 1, 1],\n",
       "       [0, 0, 0, 1, 1, 1, 1],\n",
       "       [0, 0, 0, 0, 1, 1, 1],\n",
       "       [0, 0, 0, 0, 0, 1, 1],\n",
       "       [0, 0, 0, 0, 0, 0, 1],\n",
       "       [0, 0, 0, 0, 0, 0, 0]])"
      ]
     },
     "execution_count": 6,
     "metadata": {},
     "output_type": "execute_result"
    }
   ],
   "source": [
    "D = PerfectBinarySource(n_items).init_D()\n",
    "D"
   ]
  },
  {
   "cell_type": "markdown",
   "metadata": {},
   "source": [
    "## Swap Noise"
   ]
  },
  {
   "cell_type": "code",
   "execution_count": 7,
   "metadata": {},
   "outputs": [
    {
     "name": "stderr",
     "output_type": "stream",
     "text": [
      "  1%|          | 26/5040 [00:00<00:20, 249.88it/s]"
     ]
    },
    {
     "name": "stdout",
     "output_type": "stream",
     "text": [
      "[[0 0 1 0 1 1 0]\n",
      " [1 0 1 0 0 1 1]\n",
      " [0 0 0 1 1 1 0]\n",
      " [1 1 0 0 1 1 0]\n",
      " [0 1 0 0 0 0 0]\n",
      " [0 0 0 0 1 0 0]\n",
      " [1 0 1 1 1 1 0]]\n"
     ]
    },
    {
     "name": "stderr",
     "output_type": "stream",
     "text": [
      "100%|██████████| 5040/5040 [00:20<00:00, 245.60it/s]\n"
     ]
    },
    {
     "name": "stdout",
     "output_type": "stream",
     "text": [
      "[6, 3, 1, 0, 2, 5, 4]    1237\n",
      "[1, 6, 3, 0, 2, 5, 4]    1136\n",
      "[1, 6, 2, 3, 0, 5, 4]     993\n",
      "[1, 6, 0, 2, 3, 5, 4]     856\n",
      "[3, 1, 6, 0, 2, 5, 4]     818\n",
      "dtype: int64\n"
     ]
    },
    {
     "data": {
      "image/png": "[encoded data removed]",
      "text/plain": [
       "<Figure size 432x288 with 1 Axes>"
      ]
     },
     "metadata": {
      "needs_background": "light"
     },
     "output_type": "display_data"
    },
    {
     "name": "stderr",
     "output_type": "stream",
     "text": [
      "  0%|          | 0/5040 [00:00<?, ?it/s]"
     ]
    },
    {
     "name": "stdout",
     "output_type": "stream",
     "text": [
      "[[0 1 0 1 0 1 0]\n",
      " [0 0 0 1 0 1 1]\n",
      " [1 1 0 1 0 1 0]\n",
      " [0 0 0 0 0 1 1]\n",
      " [1 1 1 1 0 0 0]\n",
      " [0 0 0 0 1 0 1]\n",
      " [1 0 1 0 1 0 0]]\n"
     ]
    },
    {
     "name": "stderr",
     "output_type": "stream",
     "text": [
      "100%|██████████| 5040/5040 [00:20<00:00, 245.84it/s]\n"
     ]
    },
    {
     "name": "stdout",
     "output_type": "stream",
     "text": [
      "[4, 2, 0, 1, 3, 5, 6]    3813\n",
      "[6, 4, 2, 0, 1, 3, 5]    1227\n",
      "dtype: int64\n"
     ]
    },
    {
     "data": {
      "image/png": "[encoded data removed]",
      "text/plain": [
       "<Figure size 432x288 with 1 Axes>"
      ]
     },
     "metadata": {
      "needs_background": "light"
     },
     "output_type": "display_data"
    },
    {
     "name": "stderr",
     "output_type": "stream",
     "text": [
      "  0%|          | 0/5040 [00:00<?, ?it/s]"
     ]
    },
    {
     "name": "stdout",
     "output_type": "stream",
     "text": [
      "[[0 1 0 1 1 1 0]\n",
      " [0 0 0 1 0 0 1]\n",
      " [1 1 0 1 0 1 1]\n",
      " [0 0 0 0 1 0 0]\n",
      " [0 1 1 0 0 1 0]\n",
      " [0 1 0 1 0 0 0]\n",
      " [1 0 0 1 1 1 0]]\n"
     ]
    },
    {
     "name": "stderr",
     "output_type": "stream",
     "text": [
      "100%|██████████| 5040/5040 [00:20<00:00, 244.05it/s]"
     ]
    },
    {
     "name": "stdout",
     "output_type": "stream",
     "text": [
      "Perfectly balanced, as all things should be.\n",
      "All 1 elements produced by 5040 permutations\n"
     ]
    },
    {
     "name": "stderr",
     "output_type": "stream",
     "text": [
      "\n",
      "  1%|          | 27/5040 [00:00<00:18, 268.45it/s]"
     ]
    },
    {
     "name": "stdout",
     "output_type": "stream",
     "text": [
      "[[0 1 1 1 0 0 1]\n",
      " [0 0 0 0 0 1 1]\n",
      " [0 1 0 1 1 0 0]\n",
      " [0 1 0 0 1 0 1]\n",
      " [1 1 0 0 0 1 0]\n",
      " [1 0 1 1 0 0 0]\n",
      " [0 0 1 0 1 1 0]]\n"
     ]
    },
    {
     "name": "stderr",
     "output_type": "stream",
     "text": [
      "100%|██████████| 5040/5040 [00:20<00:00, 251.93it/s]\n"
     ]
    },
    {
     "name": "stdout",
     "output_type": "stream",
     "text": [
      "[0, 6, 5, 2, 3, 4, 1]    639\n",
      "[0, 2, 3, 1, 6, 4, 5]    581\n",
      "[0, 6, 2, 3, 4, 1, 5]    569\n",
      "[0, 2, 3, 6, 4, 1, 5]    466\n",
      "[4, 5, 0, 2, 3, 1, 6]    399\n",
      "[0, 2, 3, 4, 1, 6, 5]    377\n",
      "[0, 3, 6, 2, 4, 1, 5]    373\n",
      "[6, 5, 0, 2, 3, 4, 1]    328\n",
      "[6, 4, 5, 0, 2, 3, 1]    285\n",
      "[5, 0, 2, 3, 4, 1, 6]    236\n",
      "[5, 0, 2, 3, 1, 6, 4]    217\n",
      "[5, 0, 2, 3, 6, 4, 1]    206\n",
      "[5, 0, 3, 6, 2, 4, 1]    187\n",
      "[5, 0, 6, 2, 3, 4, 1]    177\n",
      "dtype: int64\n"
     ]
    },
    {
     "data": {
      "image/png": "[encoded data removed]",
      "text/plain": [
       "<Figure size 432x288 with 1 Axes>"
      ]
     },
     "metadata": {
      "needs_background": "light"
     },
     "output_type": "display_data"
    }
   ],
   "source": [
    "test_rand_D(SwapNoise(0.5), 4)"
   ]
  },
  {
   "cell_type": "markdown",
   "metadata": {},
   "source": [
    "## Binary Flip Noise"
   ]
  },
  {
   "cell_type": "code",
   "execution_count": 8,
   "metadata": {},
   "outputs": [
    {
     "name": "stdout",
     "output_type": "stream",
     "text": [
      "[[0 1 0 1 0 0 0]\n",
      " [0 0 1 0 1 0 1]\n",
      " [1 1 0 1 0 1 0]\n",
      " [0 0 0 0 1 1 0]\n",
      " [1 1 1 1 0 1 1]\n",
      " [1 1 1 0 0 0 0]\n",
      " [1 0 0 0 1 0 0]]\n"
     ]
    },
    {
     "name": "stderr",
     "output_type": "stream",
     "text": [
      "100%|██████████| 5040/5040 [00:20<00:00, 244.87it/s]\n"
     ]
    },
    {
     "name": "stdout",
     "output_type": "stream",
     "text": [
      "[4, 2, 0, 3, 5, 1, 6]    880\n",
      "[4, 5, 1, 6, 2, 0, 3]    442\n",
      "[4, 5, 1, 2, 6, 0, 3]    416\n",
      "[4, 2, 3, 5, 0, 1, 6]    307\n",
      "[4, 2, 3, 5, 1, 6, 0]    305\n",
      "[4, 5, 2, 0, 3, 1, 6]    273\n",
      "[6, 4, 2, 0, 3, 5, 1]    249\n",
      "[4, 2, 3, 6, 5, 0, 1]    242\n",
      "[4, 2, 5, 1, 6, 0, 3]    210\n",
      "[6, 4, 2, 3, 5, 0, 1]    172\n",
      "[4, 5, 6, 2, 0, 3, 1]    124\n",
      "[4, 5, 2, 0, 1, 6, 3]    112\n",
      "[6, 4, 5, 2, 0, 1, 3]    108\n",
      "[4, 2, 3, 5, 6, 0, 1]    100\n",
      "[4, 2, 6, 0, 3, 5, 1]     94\n",
      "[6, 4, 2, 5, 0, 1, 3]     91\n",
      "[6, 4, 5, 2, 0, 3, 1]     88\n",
      "[4, 5, 6, 2, 0, 1, 3]     85\n",
      "[4, 2, 5, 0, 1, 6, 3]     65\n",
      "[4, 6, 2, 0, 3, 5, 1]     59\n",
      "[4, 2, 6, 5, 0, 1, 3]     57\n",
      "[4, 2, 5, 0, 3, 1, 6]     56\n",
      "[4, 2, 6, 3, 5, 0, 1]     54\n",
      "[4, 5, 2, 6, 0, 3, 1]     53\n",
      "[4, 5, 2, 1, 6, 0, 3]     47\n",
      "[4, 5, 2, 0, 1, 3, 6]     43\n",
      "[4, 2, 5, 6, 0, 3, 1]     43\n",
      "[4, 6, 2, 3, 5, 0, 1]     38\n",
      "[4, 2, 5, 0, 1, 3, 6]     32\n",
      "[4, 2, 5, 6, 0, 1, 3]     30\n",
      "[4, 2, 6, 5, 0, 3, 1]     30\n",
      "[4, 5, 2, 6, 0, 1, 3]     30\n",
      "[6, 4, 2, 5, 0, 3, 1]     28\n",
      "[4, 6, 5, 2, 0, 1, 3]     27\n",
      "[4, 6, 2, 5, 0, 1, 3]     22\n",
      "[4, 6, 5, 2, 0, 3, 1]     20\n",
      "[4, 6, 2, 5, 0, 3, 1]      8\n",
      "dtype: int64\n"
     ]
    },
    {
     "data": {
      "image/png": "[encoded data removed]",
      "text/plain": [
       "<Figure size 432x288 with 1 Axes>"
      ]
     },
     "metadata": {
      "needs_background": "light"
     },
     "output_type": "display_data"
    },
    {
     "name": "stderr",
     "output_type": "stream",
     "text": [
      "  0%|          | 0/5040 [00:00<?, ?it/s]"
     ]
    },
    {
     "name": "stdout",
     "output_type": "stream",
     "text": [
      "[[0 1 1 1 1 0 1]\n",
      " [0 0 0 0 1 1 0]\n",
      " [1 1 0 0 0 0 0]\n",
      " [1 0 1 0 1 0 1]\n",
      " [1 0 1 1 0 0 1]\n",
      " [1 1 0 0 0 0 0]\n",
      " [0 1 0 0 0 0 0]]\n"
     ]
    },
    {
     "name": "stderr",
     "output_type": "stream",
     "text": [
      "100%|██████████| 5040/5040 [00:21<00:00, 236.01it/s]\n"
     ]
    },
    {
     "name": "stdout",
     "output_type": "stream",
     "text": [
      "[4, 3, 2, 5, 0, 6, 1]    593\n",
      "[3, 4, 2, 5, 0, 6, 1]    584\n",
      "[5, 0, 4, 3, 6, 2, 1]    369\n",
      "[5, 0, 3, 4, 6, 2, 1]    362\n",
      "[4, 5, 0, 3, 6, 2, 1]    313\n",
      "[3, 5, 0, 4, 6, 2, 1]    311\n",
      "[5, 0, 4, 3, 2, 6, 1]    266\n",
      "[5, 0, 3, 4, 2, 6, 1]    264\n",
      "[4, 3, 5, 0, 6, 2, 1]    210\n",
      "[3, 4, 5, 0, 6, 2, 1]    206\n",
      "[5, 4, 3, 2, 0, 6, 1]    157\n",
      "[5, 3, 4, 2, 0, 6, 1]    155\n",
      "[5, 4, 3, 0, 6, 2, 1]    116\n",
      "[4, 5, 0, 3, 2, 6, 1]    115\n",
      "[4, 5, 3, 0, 6, 2, 1]    114\n",
      "[5, 3, 4, 0, 6, 2, 1]    114\n",
      "[5, 4, 0, 3, 6, 2, 1]    114\n",
      "[5, 3, 0, 4, 6, 2, 1]    113\n",
      "[3, 5, 0, 4, 2, 6, 1]    113\n",
      "[3, 5, 4, 0, 6, 2, 1]    112\n",
      "[4, 5, 3, 2, 0, 6, 1]     68\n",
      "[3, 5, 4, 2, 0, 6, 1]     66\n",
      "[4, 3, 5, 0, 2, 6, 1]     35\n",
      "[3, 4, 5, 0, 2, 6, 1]     35\n",
      "[5, 4, 0, 3, 2, 6, 1]     26\n",
      "[5, 3, 0, 4, 2, 6, 1]     25\n",
      "[4, 3, 5, 2, 0, 6, 1]     21\n",
      "[3, 4, 5, 2, 0, 6, 1]     21\n",
      "[4, 5, 3, 0, 2, 6, 1]     11\n",
      "[5, 4, 3, 0, 2, 6, 1]     11\n",
      "[5, 3, 4, 0, 2, 6, 1]     10\n",
      "[3, 5, 4, 0, 2, 6, 1]     10\n",
      "dtype: int64\n"
     ]
    },
    {
     "data": {
      "image/png": "[encoded data removed]",
      "text/plain": [
       "<Figure size 432x288 with 1 Axes>"
      ]
     },
     "metadata": {
      "needs_background": "light"
     },
     "output_type": "display_data"
    },
    {
     "name": "stderr",
     "output_type": "stream",
     "text": [
      "  0%|          | 0/5040 [00:00<?, ?it/s]"
     ]
    },
    {
     "name": "stdout",
     "output_type": "stream",
     "text": [
      "[[0 1 1 0 0 0 0]\n",
      " [0 0 0 1 1 0 0]\n",
      " [0 0 0 0 1 1 1]\n",
      " [0 1 1 0 1 0 0]\n",
      " [0 0 1 1 0 0 1]\n",
      " [0 1 0 1 0 0 0]\n",
      " [1 1 1 0 0 0 0]]\n"
     ]
    },
    {
     "name": "stderr",
     "output_type": "stream",
     "text": [
      "100%|██████████| 5040/5040 [00:21<00:00, 233.73it/s]\n"
     ]
    },
    {
     "name": "stdout",
     "output_type": "stream",
     "text": [
      "[3, 6, 0, 2, 5, 1, 4]    488\n",
      "[6, 0, 2, 5, 1, 4, 3]    443\n",
      "[6, 0, 5, 1, 4, 3, 2]    418\n",
      "[6, 0, 2, 5, 3, 1, 4]    295\n",
      "[6, 0, 5, 1, 3, 2, 4]    273\n",
      "                        ... \n",
      "[5, 6, 3, 0, 1, 2, 4]      6\n",
      "[4, 5, 6, 3, 0, 1, 2]      5\n",
      "[6, 5, 0, 3, 1, 4, 2]      5\n",
      "[4, 6, 5, 0, 3, 1, 2]      4\n",
      "[6, 5, 0, 3, 1, 2, 4]      2\n",
      "Length: 63, dtype: int64\n"
     ]
    },
    {
     "data": {
      "image/png": "[encoded data removed]",
      "text/plain": [
       "<Figure size 432x288 with 1 Axes>"
      ]
     },
     "metadata": {
      "needs_background": "light"
     },
     "output_type": "display_data"
    },
    {
     "name": "stderr",
     "output_type": "stream",
     "text": [
      "  0%|          | 24/5040 [00:00<00:21, 232.70it/s]"
     ]
    },
    {
     "name": "stdout",
     "output_type": "stream",
     "text": [
      "[[0 0 1 0 1 1 0]\n",
      " [0 0 0 0 1 0 0]\n",
      " [1 1 0 0 1 1 0]\n",
      " [0 0 0 0 0 1 0]\n",
      " [1 0 0 1 0 0 1]\n",
      " [0 0 0 1 1 0 1]\n",
      " [1 1 1 0 0 0 0]]\n"
     ]
    },
    {
     "name": "stderr",
     "output_type": "stream",
     "text": [
      "100%|██████████| 5040/5040 [00:20<00:00, 241.15it/s]\n"
     ]
    },
    {
     "name": "stdout",
     "output_type": "stream",
     "text": [
      "[6, 2, 1, 0, 5, 4, 3]    1668\n",
      "[6, 2, 0, 5, 1, 4, 3]    1256\n",
      "[6, 0, 2, 5, 1, 4, 3]    1244\n",
      "[6, 0, 2, 1, 5, 4, 3]     654\n",
      "[6, 2, 0, 1, 5, 4, 3]     218\n",
      "dtype: int64\n"
     ]
    },
    {
     "data": {
      "image/png": "[encoded data removed]",
      "text/plain": [
       "<Figure size 432x288 with 1 Axes>"
      ]
     },
     "metadata": {
      "needs_background": "light"
     },
     "output_type": "display_data"
    }
   ],
   "source": [
    "test_rand_D(BinaryFlipNoise(0.5), 4)"
   ]
  },
  {
   "cell_type": "markdown",
   "metadata": {},
   "source": [
    "## Normal Resampling Noise"
   ]
  },
  {
   "cell_type": "code",
   "execution_count": 9,
   "metadata": {},
   "outputs": [
    {
     "name": "stderr",
     "output_type": "stream",
     "text": [
      "  0%|          | 0/5040 [00:00<?, ?it/s]"
     ]
    },
    {
     "name": "stdout",
     "output_type": "stream",
     "text": [
      "[[0 1 0 0 1 0 1]\n",
      " [0 0 1 1 1 0 0]\n",
      " [0 0 0 1 0 1 0]\n",
      " [0 0 0 0 1 1 0]\n",
      " [0 0 1 0 0 1 1]\n",
      " [1 0 0 1 0 0 1]\n",
      " [1 0 0 0 0 0 0]]\n"
     ]
    },
    {
     "name": "stderr",
     "output_type": "stream",
     "text": [
      "100%|██████████| 5040/5040 [00:22<00:00, 225.65it/s]\n"
     ]
    },
    {
     "name": "stdout",
     "output_type": "stream",
     "text": [
      "[0, 1, 4, 2, 5, 6, 3]    1628\n",
      "[0, 1, 2, 3, 4, 5, 6]    1465\n",
      "[0, 1, 3, 4, 2, 5, 6]    1051\n",
      "[0, 1, 4, 2, 5, 3, 6]     543\n",
      "[0, 1, 4, 2, 3, 5, 6]     353\n",
      "dtype: int64\n"
     ]
    },
    {
     "data": {
      "image/png": "[encoded data removed]",
      "text/plain": [
       "<Figure size 432x288 with 1 Axes>"
      ]
     },
     "metadata": {
      "needs_background": "light"
     },
     "output_type": "display_data"
    },
    {
     "name": "stderr",
     "output_type": "stream",
     "text": [
      "  0%|          | 0/5040 [00:00<?, ?it/s]"
     ]
    },
    {
     "name": "stdout",
     "output_type": "stream",
     "text": [
      "[[0 1 1 1 1 0 1]\n",
      " [0 0 1 0 1 1 1]\n",
      " [0 0 0 1 0 0 1]\n",
      " [0 0 0 0 1 1 0]\n",
      " [0 1 0 0 0 0 1]\n",
      " [0 0 0 0 1 0 1]\n",
      " [0 0 0 0 0 0 0]]\n"
     ]
    },
    {
     "name": "stderr",
     "output_type": "stream",
     "text": [
      "100%|██████████| 5040/5040 [00:21<00:00, 238.40it/s]"
     ]
    },
    {
     "name": "stdout",
     "output_type": "stream",
     "text": [
      "Perfectly balanced, as all things should be.\n",
      "All 1 elements produced by 5040 permutations\n"
     ]
    },
    {
     "name": "stderr",
     "output_type": "stream",
     "text": [
      "\n",
      "  1%|          | 26/5040 [00:00<00:19, 251.93it/s]"
     ]
    },
    {
     "name": "stdout",
     "output_type": "stream",
     "text": [
      "[[0 0 1 0 0 0 1]\n",
      " [0 0 0 1 0 1 1]\n",
      " [0 1 0 1 1 1 1]\n",
      " [0 1 0 0 1 0 0]\n",
      " [0 1 0 0 0 1 0]\n",
      " [0 0 0 0 0 0 0]\n",
      " [0 1 0 0 0 0 0]]\n"
     ]
    },
    {
     "name": "stderr",
     "output_type": "stream",
     "text": [
      "100%|██████████| 5040/5040 [00:21<00:00, 239.73it/s]\n"
     ]
    },
    {
     "name": "stdout",
     "output_type": "stream",
     "text": [
      "[0, 2, 3, 4, 1, 5, 6]    2469\n",
      "[0, 2, 6, 3, 4, 1, 5]    1020\n",
      "[0, 2, 3, 4, 1, 6, 5]     850\n",
      "[0, 2, 3, 4, 6, 1, 5]     434\n",
      "[0, 2, 3, 6, 4, 1, 5]     267\n",
      "dtype: int64\n"
     ]
    },
    {
     "data": {
      "image/png": "[encoded data removed]",
      "text/plain": [
       "<Figure size 432x288 with 1 Axes>"
      ]
     },
     "metadata": {
      "needs_background": "light"
     },
     "output_type": "display_data"
    },
    {
     "name": "stderr",
     "output_type": "stream",
     "text": [
      "  0%|          | 0/5040 [00:00<?, ?it/s]"
     ]
    },
    {
     "name": "stdout",
     "output_type": "stream",
     "text": [
      "[[0 1 0 1 0 1 1]\n",
      " [0 0 0 1 1 1 1]\n",
      " [0 0 0 1 0 0 0]\n",
      " [0 0 0 0 1 0 1]\n",
      " [0 1 0 0 0 1 0]\n",
      " [0 0 0 0 0 0 1]\n",
      " [1 0 0 0 0 0 0]]\n"
     ]
    },
    {
     "name": "stderr",
     "output_type": "stream",
     "text": [
      "100%|██████████| 5040/5040 [00:20<00:00, 246.05it/s]\n"
     ]
    },
    {
     "name": "stdout",
     "output_type": "stream",
     "text": [
      "[0, 1, 2, 3, 4, 5, 6]    2506\n",
      "[2, 0, 1, 3, 4, 5, 6]    1680\n",
      "[0, 2, 1, 3, 4, 5, 6]     854\n",
      "dtype: int64\n"
     ]
    },
    {
     "data": {
      "image/png": "[encoded data removed]",
      "text/plain": [
       "<Figure size 432x288 with 1 Axes>"
      ]
     },
     "metadata": {
      "needs_background": "light"
     },
     "output_type": "display_data"
    }
   ],
   "source": [
    "test_rand_D(NormalResamplingNoise(0.5), 4)"
   ]
  }
 ],
 "metadata": {
  "kernelspec": {
   "display_name": "Python 3",
   "language": "python",
   "name": "python3"
  },
  "language_info": {
   "codemirror_mode": {
    "name": "ipython",
    "version": 3
   },
   "file_extension": ".py",
   "mimetype": "text/x-python",
   "name": "python",
   "nbconvert_exporter": "python",
   "pygments_lexer": "ipython3",
   "version": "3.6.9"
  }
 },
 "nbformat": 4,
 "nbformat_minor": 4
}
