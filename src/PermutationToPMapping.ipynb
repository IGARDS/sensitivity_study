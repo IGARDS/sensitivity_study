{
 "cells": [
  {
   "cell_type": "code",
   "execution_count": 3,
   "metadata": {},
   "outputs": [
    {
     "name": "stdout",
     "output_type": "stream",
     "text": [
      "The autoreload extension is already loaded. To reload it, use:\n",
      "  %reload_ext autoreload\n"
     ]
    }
   ],
   "source": [
    "%load_ext autoreload\n",
    "%autoreload 2"
   ]
  },
  {
   "cell_type": "code",
   "execution_count": 4,
   "metadata": {},
   "outputs": [],
   "source": [
    "from sensitivity_tests import *\n",
    "\n",
    "import matplotlib.pyplot as plt\n",
    "from tqdm import tqdm\n",
    "from pathlib import Path\n",
    "import os\n",
    "import numpy as np\n",
    "import math\n",
    "import random\n",
    "import sys\n",
    "import itertools\n",
    "from scipy import stats\n",
    "import pandas as pd\n",
    "sys.path.append(\"~/rankability_toolbox\")\n",
    "import pyrankability\n",
    "\n",
    "from gurobipy import *\n",
    "setParam(\"OutputFlag\", 0)\n",
    "setParam(\"Presolve\", 0)"
   ]
  },
  {
   "cell_type": "code",
   "execution_count": 5,
   "metadata": {},
   "outputs": [],
   "source": [
    "# Produces a pandas Series with the optimal rankings found from each permutation\n",
    "def solve_all_permutations(D_orig):\n",
    "    perms = list(itertools.permutations(range(D_orig.shape[0])))\n",
    "    P_elems = []\n",
    "    for perm in tqdm(perms):\n",
    "        D_permuted = D_orig[perm,:][:,perm]\n",
    "        k, details = pyrankability.lop.bilp(D_permuted)\n",
    "        elem = list(details[\"P\"][0])\n",
    "        for i in range(len(elem)):\n",
    "            elem[i] = perm[elem[i]]\n",
    "        P_elems.append(str(elem))\n",
    "    return pd.Series(P_elems)\n",
    "\n",
    "# Checks if the frequencies are uniform or not\n",
    "def check_freqs(freqs):\n",
    "    if len(freqs.unique()) > 1:\n",
    "        print(freqs)\n",
    "        plt.bar(range(1, len(freqs)+1), height=freqs.values)\n",
    "        plt.show()\n",
    "        return False\n",
    "    else:\n",
    "        print(\"Perfectly balanced, as all things should be.\")\n",
    "        print(\"All {0} elements produced by {1} permutations\".format(len(freqs), freqs.unique()[0]), flush=True)\n",
    "        return True  \n",
    "\n",
    "# Generates random noisy D matrices and checks for uniform frequency\n",
    "def test_rand_D(noise_gen, num_attempts):\n",
    "    for i in range(num_attempts):\n",
    "        D2 = noise_gen.apply_noise(D)\n",
    "        print(D2)\n",
    "        P_elems_series = solve_all_permutations(D2)\n",
    "        freqs = P_elems_series.value_counts()\n",
    "        check_freqs(freqs)\n",
    "\n",
    "def test_rand_D_correlate_sensitivity(noise_gen, num_attempts):\n",
    "    for i in range(num_attempts):\n",
    "        D2 = noise_gen.apply_noise(D)\n",
    "        print(D2)\n",
    "        P_elems_series = solve_all_permutations(D2)\n",
    "        freqs = P_elems_series.value_counts()\n",
    "        if not check_freqs(freqs):\n",
    "            D2_P = pd.Series(freqs.index.values)\n",
    "            D2_P_counts = D2_P.copy(deep=True)\n",
    "            D2_P_counts.loc[:] = 0\n",
    "            noise_gen2 = BinaryFlipNoise(0.05)\n",
    "            # Try 20 at a time and plot\n",
    "            for j in range(5):\n",
    "                for k in range(20):\n",
    "                    D3 = noise_gen2.apply_noise(D2)\n",
    "                    D3_P = solve_all_permutations(D3).unique()\n",
    "                    D2_P_counts = D2_P_counts.add(D2_P.isin(D3_P).astype(int))\n",
    "                plt.bar(range(1, len(D2_P_counts)+1), height=D2_P_counts.values)\n",
    "                plt.show()"
   ]
  },
  {
   "cell_type": "markdown",
   "metadata": {},
   "source": [
    "## Perfect Dominance with Constant # of Ties"
   ]
  },
  {
   "cell_type": "code",
   "execution_count": 6,
   "metadata": {},
   "outputs": [
    {
     "data": {
      "text/plain": [
       "array([[0, 1, 1, 1, 1, 1, 1],\n",
       "       [0, 0, 1, 1, 1, 1, 1],\n",
       "       [0, 0, 0, 1, 1, 1, 1],\n",
       "       [0, 0, 0, 0, 0, 0, 0],\n",
       "       [0, 0, 0, 0, 0, 0, 0],\n",
       "       [0, 0, 0, 0, 0, 0, 0],\n",
       "       [0, 0, 0, 0, 0, 0, 0]])"
      ]
     },
     "execution_count": 6,
     "metadata": {},
     "output_type": "execute_result"
    }
   ],
   "source": [
    "n_items = 7\n",
    "n_ties = 4\n",
    "\n",
    "# Create perfect binary dominance\n",
    "D = PerfectBinarySource(n_items).init_D()\n",
    "\n",
    "# Tie-up the bottom n_ties items\n",
    "for i in range(n_ties):\n",
    "    D[n_items-i-1] = 0\n",
    "\n",
    "D"
   ]
  },
  {
   "cell_type": "code",
   "execution_count": 7,
   "metadata": {},
   "outputs": [
    {
     "name": "stderr",
     "output_type": "stream",
     "text": [
      "100%|██████████| 5040/5040 [00:29<00:00, 169.02it/s]"
     ]
    },
    {
     "name": "stdout",
     "output_type": "stream",
     "text": [
      "Perfectly balanced, as all things should be.\n",
      "All 24 elements produced by 210 permutations\n"
     ]
    },
    {
     "name": "stderr",
     "output_type": "stream",
     "text": [
      "\n"
     ]
    },
    {
     "data": {
      "image/png": "[encoded data removed]",
      "text/plain": [
       "<Figure size 432x288 with 1 Axes>"
      ]
     },
     "metadata": {
      "needs_background": "light"
     },
     "output_type": "display_data"
    }
   ],
   "source": [
    "n_ties_series = solve_all_permutations(D)\n",
    "freqs = n_ties_series.value_counts()\n",
    "check_freqs(freqs)\n",
    "plt.bar(range(1, len(freqs)+1), height=freqs.values)\n",
    "plt.show()"
   ]
  },
  {
   "cell_type": "markdown",
   "metadata": {},
   "source": [
    "## Re-initialize D"
   ]
  },
  {
   "cell_type": "code",
   "execution_count": 5,
   "metadata": {},
   "outputs": [
    {
     "data": {
      "text/plain": [
       "array([[0, 1, 1, 1, 1, 1, 1],\n",
       "       [0, 0, 1, 1, 1, 1, 1],\n",
       "       [0, 0, 0, 1, 1, 1, 1],\n",
       "       [0, 0, 0, 0, 1, 1, 1],\n",
       "       [0, 0, 0, 0, 0, 1, 1],\n",
       "       [0, 0, 0, 0, 0, 0, 1],\n",
       "       [0, 0, 0, 0, 0, 0, 0]])"
      ]
     },
     "execution_count": 5,
     "metadata": {},
     "output_type": "execute_result"
    }
   ],
   "source": [
    "D = PerfectBinarySource(n_items).init_D()\n",
    "D"
   ]
  },
  {
   "cell_type": "markdown",
   "metadata": {},
   "source": [
    "## Swap Noise"
   ]
  },
  {
   "cell_type": "code",
   "execution_count": null,
   "metadata": {},
   "outputs": [],
   "source": [
    "test_rand_D(SwapNoise(0.5), 4)"
   ]
  },
  {
   "cell_type": "markdown",
   "metadata": {},
   "source": [
    "## Binary Flip Noise"
   ]
  },
  {
   "cell_type": "code",
   "execution_count": null,
   "metadata": {},
   "outputs": [
    {
     "name": "stderr",
     "output_type": "stream",
     "text": [
      "  0%|          | 24/5040 [00:00<00:21, 234.49it/s]"
     ]
    },
    {
     "name": "stdout",
     "output_type": "stream",
     "text": [
      "[[0 0 1 0 1 0 1]\n",
      " [1 0 0 1 0 0 1]\n",
      " [0 1 0 1 0 1 1]\n",
      " [1 0 1 0 1 1 1]\n",
      " [1 0 0 0 0 1 1]\n",
      " [0 0 1 1 1 0 0]\n",
      " [1 1 1 1 1 0 0]]\n"
     ]
    },
    {
     "name": "stderr",
     "output_type": "stream",
     "text": [
      "100%|██████████| 5040/5040 [00:21<00:00, 238.17it/s]\n"
     ]
    },
    {
     "name": "stdout",
     "output_type": "stream",
     "text": [
      "[1, 3, 4, 0, 2, 5, 6]    127\n",
      "[1, 3, 4, 0, 2, 6, 5]    127\n",
      "[1, 3, 4, 6, 0, 2, 5]    107\n",
      "[1, 3, 4, 5, 0, 2, 6]    107\n",
      "[1, 3, 0, 2, 5, 6, 4]     79\n",
      "                        ... \n",
      "[2, 1, 5, 3, 6, 4, 0]      4\n",
      "[1, 5, 3, 6, 4, 0, 2]      4\n",
      "[2, 1, 6, 3, 5, 0, 4]      4\n",
      "[1, 5, 3, 6, 0, 4, 2]      2\n",
      "[1, 6, 3, 5, 0, 4, 2]      2\n",
      "Length: 210, dtype: int64\n"
     ]
    },
    {
     "data": {
      "image/png": "[encoded data removed]",
      "text/plain": [
       "<Figure size 432x288 with 1 Axes>"
      ]
     },
     "metadata": {
      "needs_background": "light"
     },
     "output_type": "display_data"
    },
    {
     "name": "stderr",
     "output_type": "stream",
     "text": [
      "100%|██████████| 5040/5040 [00:21<00:00, 238.38it/s]\n",
      "100%|██████████| 5040/5040 [00:20<00:00, 244.30it/s]\n",
      "100%|██████████| 5040/5040 [00:20<00:00, 241.45it/s]\n",
      "100%|██████████| 5040/5040 [00:21<00:00, 239.13it/s]\n",
      "100%|██████████| 5040/5040 [00:18<00:00, 269.11it/s]\n",
      "100%|██████████| 5040/5040 [00:20<00:00, 243.84it/s]\n",
      "100%|██████████| 5040/5040 [00:21<00:00, 229.69it/s]\n",
      "100%|██████████| 5040/5040 [00:19<00:00, 260.74it/s]\n",
      "100%|██████████| 5040/5040 [00:20<00:00, 250.56it/s]\n",
      "100%|██████████| 5040/5040 [00:19<00:00, 262.76it/s]\n",
      "100%|██████████| 5040/5040 [00:19<00:00, 253.29it/s]\n",
      "100%|██████████| 5040/5040 [00:20<00:00, 245.06it/s]\n",
      "100%|██████████| 5040/5040 [00:20<00:00, 250.61it/s]\n",
      "100%|██████████| 5040/5040 [00:20<00:00, 248.20it/s]\n",
      "100%|██████████| 5040/5040 [00:21<00:00, 233.90it/s]\n",
      "100%|██████████| 5040/5040 [00:20<00:00, 247.67it/s]\n",
      "100%|██████████| 5040/5040 [00:21<00:00, 239.53it/s]\n",
      "100%|██████████| 5040/5040 [00:21<00:00, 229.90it/s]\n",
      "100%|██████████| 5040/5040 [00:22<00:00, 228.62it/s]\n",
      "100%|██████████| 5040/5040 [00:20<00:00, 249.62it/s]\n"
     ]
    },
    {
     "data": {
      "image/png": "[encoded data removed]",
      "text/plain": [
       "<Figure size 432x288 with 1 Axes>"
      ]
     },
     "metadata": {
      "needs_background": "light"
     },
     "output_type": "display_data"
    },
    {
     "name": "stderr",
     "output_type": "stream",
     "text": [
      "100%|██████████| 5040/5040 [00:21<00:00, 229.98it/s]\n",
      "100%|██████████| 5040/5040 [00:19<00:00, 256.64it/s]\n",
      "100%|██████████| 5040/5040 [00:22<00:00, 227.36it/s]\n",
      "100%|██████████| 5040/5040 [00:20<00:00, 246.58it/s]\n",
      "100%|██████████| 5040/5040 [00:20<00:00, 247.26it/s]\n",
      "100%|██████████| 5040/5040 [00:21<00:00, 235.86it/s]\n",
      "100%|██████████| 5040/5040 [00:21<00:00, 236.61it/s]\n",
      "100%|██████████| 5040/5040 [00:21<00:00, 232.36it/s]\n",
      "100%|██████████| 5040/5040 [00:19<00:00, 255.58it/s]\n",
      "100%|██████████| 5040/5040 [00:21<00:00, 239.41it/s]\n",
      "100%|██████████| 5040/5040 [00:21<00:00, 234.43it/s]\n",
      "100%|██████████| 5040/5040 [00:20<00:00, 248.40it/s]\n",
      "100%|██████████| 5040/5040 [00:20<00:00, 244.83it/s]\n",
      "100%|██████████| 5040/5040 [00:21<00:00, 231.07it/s]\n",
      "100%|██████████| 5040/5040 [00:21<00:00, 238.68it/s]\n",
      "100%|██████████| 5040/5040 [00:21<00:00, 233.30it/s]\n",
      "100%|██████████| 5040/5040 [00:22<00:00, 228.17it/s]\n",
      "100%|██████████| 5040/5040 [00:20<00:00, 242.54it/s]\n",
      "100%|██████████| 5040/5040 [00:22<00:00, 228.34it/s]\n",
      "100%|██████████| 5040/5040 [00:19<00:00, 262.18it/s]\n"
     ]
    },
    {
     "data": {
      "image/png": "[encoded data removed]",
      "text/plain": [
       "<Figure size 432x288 with 1 Axes>"
      ]
     },
     "metadata": {
      "needs_background": "light"
     },
     "output_type": "display_data"
    },
    {
     "name": "stderr",
     "output_type": "stream",
     "text": [
      "100%|██████████| 5040/5040 [00:18<00:00, 266.08it/s]\n",
      "100%|██████████| 5040/5040 [00:21<00:00, 233.74it/s]\n",
      "100%|██████████| 5040/5040 [00:20<00:00, 250.70it/s]\n",
      "100%|██████████| 5040/5040 [00:20<00:00, 241.77it/s]\n",
      "100%|██████████| 5040/5040 [00:21<00:00, 235.11it/s]\n",
      "100%|██████████| 5040/5040 [00:21<00:00, 233.30it/s]\n",
      "100%|██████████| 5040/5040 [00:21<00:00, 236.87it/s]\n",
      "100%|██████████| 5040/5040 [00:19<00:00, 252.03it/s]\n",
      "100%|██████████| 5040/5040 [00:21<00:00, 239.92it/s]\n",
      "100%|██████████| 5040/5040 [00:21<00:00, 234.23it/s]\n",
      "100%|██████████| 5040/5040 [00:19<00:00, 259.05it/s]\n",
      "100%|██████████| 5040/5040 [00:20<00:00, 246.16it/s]\n",
      "100%|██████████| 5040/5040 [00:20<00:00, 243.82it/s]\n",
      "100%|██████████| 5040/5040 [00:19<00:00, 253.44it/s]\n",
      "100%|██████████| 5040/5040 [00:21<00:00, 235.48it/s]\n",
      "100%|██████████| 5040/5040 [00:20<00:00, 251.26it/s]\n",
      "100%|██████████| 5040/5040 [00:21<00:00, 239.79it/s]\n",
      "100%|██████████| 5040/5040 [00:20<00:00, 248.75it/s]\n",
      "100%|██████████| 5040/5040 [00:21<00:00, 237.29it/s]\n",
      "100%|██████████| 5040/5040 [00:20<00:00, 243.11it/s]\n"
     ]
    },
    {
     "data": {
      "image/png": "[encoded data removed]",
      "text/plain": [
       "<Figure size 432x288 with 1 Axes>"
      ]
     },
     "metadata": {
      "needs_background": "light"
     },
     "output_type": "display_data"
    },
    {
     "name": "stderr",
     "output_type": "stream",
     "text": [
      "100%|██████████| 5040/5040 [00:20<00:00, 244.74it/s]\n",
      "100%|██████████| 5040/5040 [00:19<00:00, 254.31it/s]\n",
      "100%|██████████| 5040/5040 [00:21<00:00, 232.39it/s]\n",
      "100%|██████████| 5040/5040 [00:20<00:00, 240.15it/s]\n",
      "100%|██████████| 5040/5040 [00:21<00:00, 238.45it/s]\n",
      "100%|██████████| 5040/5040 [00:20<00:00, 250.76it/s]\n",
      "100%|██████████| 5040/5040 [00:20<00:00, 251.17it/s]\n",
      "100%|██████████| 5040/5040 [00:20<00:00, 249.80it/s]\n",
      "100%|██████████| 5040/5040 [00:21<00:00, 239.31it/s]\n",
      "100%|██████████| 5040/5040 [00:21<00:00, 236.60it/s]\n",
      "100%|██████████| 5040/5040 [00:19<00:00, 261.25it/s]\n",
      "100%|██████████| 5040/5040 [00:21<00:00, 236.96it/s]\n",
      "100%|██████████| 5040/5040 [00:21<00:00, 239.68it/s]\n",
      "100%|██████████| 5040/5040 [00:18<00:00, 268.27it/s]\n",
      "100%|██████████| 5040/5040 [00:19<00:00, 260.71it/s]\n",
      "100%|██████████| 5040/5040 [00:20<00:00, 241.27it/s]\n",
      "100%|██████████| 5040/5040 [00:21<00:00, 233.08it/s]\n",
      "100%|██████████| 5040/5040 [00:21<00:00, 235.38it/s]\n",
      "100%|██████████| 5040/5040 [00:20<00:00, 241.33it/s]\n",
      "100%|██████████| 5040/5040 [00:19<00:00, 252.57it/s]\n"
     ]
    },
    {
     "data": {
      "image/png": "[encoded data removed]",
      "text/plain": [
       "<Figure size 432x288 with 1 Axes>"
      ]
     },
     "metadata": {
      "needs_background": "light"
     },
     "output_type": "display_data"
    },
    {
     "name": "stderr",
     "output_type": "stream",
     "text": [
      "100%|██████████| 5040/5040 [00:19<00:00, 260.44it/s]\n",
      "100%|██████████| 5040/5040 [00:20<00:00, 245.42it/s]\n",
      "100%|██████████| 5040/5040 [00:21<00:00, 232.97it/s]\n",
      "100%|██████████| 5040/5040 [00:20<00:00, 244.05it/s]\n",
      "100%|██████████| 5040/5040 [00:21<00:00, 232.85it/s]\n",
      "100%|██████████| 5040/5040 [00:21<00:00, 232.23it/s]\n",
      "100%|██████████| 5040/5040 [00:20<00:00, 242.12it/s]\n",
      "100%|██████████| 5040/5040 [00:20<00:00, 248.10it/s]\n",
      "100%|██████████| 5040/5040 [00:20<00:00, 242.60it/s]\n",
      "100%|██████████| 5040/5040 [00:21<00:00, 229.87it/s]\n",
      "100%|██████████| 5040/5040 [00:21<00:00, 237.24it/s]\n",
      "100%|██████████| 5040/5040 [00:20<00:00, 241.68it/s]\n",
      "100%|██████████| 5040/5040 [00:20<00:00, 244.66it/s]\n",
      "100%|██████████| 5040/5040 [00:19<00:00, 259.97it/s]\n",
      "100%|██████████| 5040/5040 [00:20<00:00, 247.38it/s]\n",
      "100%|██████████| 5040/5040 [00:19<00:00, 258.46it/s]\n",
      "100%|██████████| 5040/5040 [00:20<00:00, 245.03it/s]\n",
      "100%|██████████| 5040/5040 [00:20<00:00, 248.41it/s]\n",
      "100%|██████████| 5040/5040 [00:19<00:00, 256.04it/s]\n",
      "100%|██████████| 5040/5040 [00:21<00:00, 237.72it/s]\n"
     ]
    },
    {
     "data": {
      "image/png": "[encoded data removed]",
      "text/plain": [
       "<Figure size 432x288 with 1 Axes>"
      ]
     },
     "metadata": {
      "needs_background": "light"
     },
     "output_type": "display_data"
    },
    {
     "name": "stderr",
     "output_type": "stream",
     "text": [
      "  0%|          | 25/5040 [00:00<00:20, 245.34it/s]"
     ]
    },
    {
     "name": "stdout",
     "output_type": "stream",
     "text": [
      "[[0 1 1 0 1 1 1]\n",
      " [1 0 0 1 0 0 1]\n",
      " [0 0 0 1 1 1 0]\n",
      " [1 1 0 0 0 0 0]\n",
      " [0 1 1 1 0 1 1]\n",
      " [1 1 1 1 0 0 0]\n",
      " [1 0 0 0 0 1 0]]\n"
     ]
    },
    {
     "name": "stderr",
     "output_type": "stream",
     "text": [
      "100%|██████████| 5040/5040 [00:22<00:00, 228.31it/s]\n"
     ]
    },
    {
     "name": "stdout",
     "output_type": "stream",
     "text": [
      "[0, 4, 5, 2, 3, 1, 6]    764\n",
      "[0, 2, 4, 5, 3, 1, 6]    511\n",
      "[0, 4, 1, 6, 5, 2, 3]    464\n",
      "[0, 4, 5, 1, 6, 2, 3]    337\n",
      "[0, 4, 1, 2, 6, 5, 3]    328\n",
      "[0, 4, 6, 5, 1, 2, 3]    313\n",
      "[0, 4, 2, 5, 3, 1, 6]    289\n",
      "[0, 4, 6, 5, 2, 3, 1]    264\n",
      "[0, 4, 6, 2, 5, 3, 1]    247\n",
      "[0, 2, 4, 1, 6, 5, 3]    221\n",
      "[0, 4, 1, 6, 2, 5, 3]    193\n",
      "[0, 4, 5, 1, 2, 3, 6]    153\n",
      "[0, 4, 5, 2, 1, 6, 3]    132\n",
      "[0, 4, 6, 2, 5, 1, 3]    132\n",
      "[0, 2, 4, 6, 5, 3, 1]    130\n",
      "[0, 2, 4, 6, 5, 1, 3]    111\n",
      "[0, 2, 4, 5, 1, 6, 3]    104\n",
      "[0, 2, 4, 5, 1, 3, 6]     58\n",
      "[0, 4, 5, 1, 2, 6, 3]     53\n",
      "[0, 4, 6, 5, 2, 1, 3]     53\n",
      "[0, 4, 2, 1, 6, 5, 3]     47\n",
      "[0, 4, 5, 2, 1, 3, 6]     45\n",
      "[0, 4, 2, 6, 5, 3, 1]     30\n",
      "[0, 4, 2, 6, 5, 1, 3]     25\n",
      "[0, 4, 2, 5, 1, 6, 3]     22\n",
      "[0, 4, 2, 5, 1, 3, 6]     14\n",
      "dtype: int64\n"
     ]
    },
    {
     "data": {
      "image/png": "[encoded data removed]",
      "text/plain": [
       "<Figure size 432x288 with 1 Axes>"
      ]
     },
     "metadata": {
      "needs_background": "light"
     },
     "output_type": "display_data"
    },
    {
     "name": "stderr",
     "output_type": "stream",
     "text": [
      "100%|██████████| 5040/5040 [00:21<00:00, 239.14it/s]\n",
      "100%|██████████| 5040/5040 [00:20<00:00, 244.66it/s]\n",
      "100%|██████████| 5040/5040 [00:21<00:00, 232.42it/s]\n",
      "100%|██████████| 5040/5040 [00:21<00:00, 230.68it/s]\n",
      "100%|██████████| 5040/5040 [00:22<00:00, 228.79it/s]\n",
      "100%|██████████| 5040/5040 [00:21<00:00, 231.86it/s]\n",
      "100%|██████████| 5040/5040 [00:21<00:00, 231.93it/s]\n",
      "100%|██████████| 5040/5040 [00:20<00:00, 244.05it/s]\n",
      "100%|██████████| 5040/5040 [00:20<00:00, 245.09it/s]\n",
      "100%|██████████| 5040/5040 [00:20<00:00, 243.44it/s]\n",
      "100%|██████████| 5040/5040 [00:20<00:00, 243.09it/s]\n",
      "100%|██████████| 5040/5040 [00:19<00:00, 255.80it/s]\n",
      "100%|██████████| 5040/5040 [00:21<00:00, 231.90it/s]\n",
      "100%|██████████| 5040/5040 [00:21<00:00, 229.23it/s]\n",
      "100%|██████████| 5040/5040 [00:22<00:00, 226.94it/s]\n",
      "100%|██████████| 5040/5040 [00:20<00:00, 241.17it/s]\n",
      "100%|██████████| 5040/5040 [00:19<00:00, 256.01it/s]\n",
      "100%|██████████| 5040/5040 [00:20<00:00, 241.22it/s]\n",
      "100%|██████████| 5040/5040 [00:22<00:00, 223.11it/s]\n",
      "100%|██████████| 5040/5040 [00:20<00:00, 247.05it/s]\n"
     ]
    },
    {
     "data": {
      "image/png": "[encoded data removed]",
      "text/plain": [
       "<Figure size 432x288 with 1 Axes>"
      ]
     },
     "metadata": {
      "needs_background": "light"
     },
     "output_type": "display_data"
    },
    {
     "name": "stderr",
     "output_type": "stream",
     "text": [
      "100%|██████████| 5040/5040 [00:22<00:00, 228.66it/s]\n",
      "100%|██████████| 5040/5040 [00:19<00:00, 254.29it/s]\n",
      "100%|██████████| 5040/5040 [00:21<00:00, 239.82it/s]\n",
      "100%|██████████| 5040/5040 [00:21<00:00, 231.67it/s]\n",
      "100%|██████████| 5040/5040 [00:21<00:00, 229.19it/s]\n",
      "100%|██████████| 5040/5040 [00:21<00:00, 233.17it/s]\n",
      "100%|██████████| 5040/5040 [00:21<00:00, 237.73it/s]\n",
      "100%|██████████| 5040/5040 [00:21<00:00, 233.59it/s]\n",
      "100%|██████████| 5040/5040 [00:21<00:00, 231.94it/s]\n",
      "100%|██████████| 5040/5040 [00:21<00:00, 230.95it/s]\n",
      "100%|██████████| 5040/5040 [00:20<00:00, 246.30it/s]\n",
      "100%|██████████| 5040/5040 [00:21<00:00, 236.82it/s]\n",
      "100%|██████████| 5040/5040 [00:21<00:00, 237.68it/s]\n",
      "100%|██████████| 5040/5040 [00:20<00:00, 245.61it/s]\n",
      "100%|██████████| 5040/5040 [00:20<00:00, 244.82it/s]\n",
      "100%|██████████| 5040/5040 [00:21<00:00, 231.27it/s]\n",
      "100%|██████████| 5040/5040 [00:19<00:00, 262.09it/s]\n",
      "100%|██████████| 5040/5040 [00:20<00:00, 242.49it/s]\n",
      "100%|██████████| 5040/5040 [00:21<00:00, 236.25it/s]\n",
      "100%|██████████| 5040/5040 [00:21<00:00, 229.97it/s]\n"
     ]
    },
    {
     "data": {
      "image/png": "[encoded data removed]",
      "text/plain": [
       "<Figure size 432x288 with 1 Axes>"
      ]
     },
     "metadata": {
      "needs_background": "light"
     },
     "output_type": "display_data"
    },
    {
     "name": "stderr",
     "output_type": "stream",
     "text": [
      "100%|██████████| 5040/5040 [00:21<00:00, 231.30it/s]\n",
      "100%|██████████| 5040/5040 [00:20<00:00, 243.19it/s]\n",
      "100%|██████████| 5040/5040 [00:19<00:00, 264.71it/s]\n",
      "100%|██████████| 5040/5040 [00:21<00:00, 236.30it/s]\n",
      "100%|██████████| 5040/5040 [00:19<00:00, 252.39it/s]\n",
      "100%|██████████| 5040/5040 [00:21<00:00, 231.35it/s]\n",
      "100%|██████████| 5040/5040 [00:21<00:00, 235.95it/s]\n",
      "100%|██████████| 5040/5040 [00:20<00:00, 240.29it/s]\n",
      "100%|██████████| 5040/5040 [00:19<00:00, 254.57it/s]\n",
      "100%|██████████| 5040/5040 [00:21<00:00, 236.28it/s]\n",
      "100%|██████████| 5040/5040 [00:21<00:00, 230.32it/s]\n",
      "100%|██████████| 5040/5040 [00:21<00:00, 231.83it/s]\n",
      "100%|██████████| 5040/5040 [00:21<00:00, 237.59it/s]\n",
      "100%|██████████| 5040/5040 [00:21<00:00, 232.38it/s]\n",
      "100%|██████████| 5040/5040 [00:21<00:00, 236.52it/s]\n",
      "100%|██████████| 5040/5040 [00:20<00:00, 248.20it/s]\n",
      "100%|██████████| 5040/5040 [00:19<00:00, 260.11it/s]\n",
      "100%|██████████| 5040/5040 [00:20<00:00, 243.25it/s]\n",
      "100%|██████████| 5040/5040 [00:21<00:00, 232.65it/s]\n",
      "100%|██████████| 5040/5040 [00:20<00:00, 249.27it/s]\n"
     ]
    },
    {
     "data": {
      "image/png": "[encoded data removed]",
      "text/plain": [
       "<Figure size 432x288 with 1 Axes>"
      ]
     },
     "metadata": {
      "needs_background": "light"
     },
     "output_type": "display_data"
    },
    {
     "name": "stderr",
     "output_type": "stream",
     "text": [
      "100%|██████████| 5040/5040 [00:22<00:00, 226.92it/s]\n",
      "100%|██████████| 5040/5040 [00:22<00:00, 227.08it/s]\n",
      "100%|██████████| 5040/5040 [00:20<00:00, 250.97it/s]\n",
      "100%|██████████| 5040/5040 [00:21<00:00, 239.51it/s]\n",
      "100%|██████████| 5040/5040 [00:21<00:00, 229.84it/s]\n",
      "100%|██████████| 5040/5040 [00:21<00:00, 232.83it/s]\n",
      "100%|██████████| 5040/5040 [00:20<00:00, 251.51it/s]\n",
      "100%|██████████| 5040/5040 [00:22<00:00, 225.16it/s]\n",
      "100%|██████████| 5040/5040 [00:21<00:00, 234.14it/s]\n",
      "100%|██████████| 5040/5040 [00:20<00:00, 249.24it/s]\n",
      "100%|██████████| 5040/5040 [00:20<00:00, 242.25it/s]\n",
      "100%|██████████| 5040/5040 [00:19<00:00, 254.19it/s]\n",
      "100%|██████████| 5040/5040 [00:21<00:00, 234.63it/s]\n",
      "100%|██████████| 5040/5040 [00:20<00:00, 244.31it/s]\n",
      "100%|██████████| 5040/5040 [00:19<00:00, 258.75it/s]\n",
      "100%|██████████| 5040/5040 [00:19<00:00, 258.09it/s]\n",
      "100%|██████████| 5040/5040 [00:21<00:00, 237.00it/s]\n",
      "100%|██████████| 5040/5040 [00:21<00:00, 232.45it/s]\n",
      "100%|██████████| 5040/5040 [00:21<00:00, 239.61it/s]\n",
      "100%|██████████| 5040/5040 [00:20<00:00, 246.78it/s]\n"
     ]
    },
    {
     "data": {
      "image/png": "[encoded data removed]",
      "text/plain": [
       "<Figure size 432x288 with 1 Axes>"
      ]
     },
     "metadata": {
      "needs_background": "light"
     },
     "output_type": "display_data"
    },
    {
     "name": "stderr",
     "output_type": "stream",
     "text": [
      "100%|██████████| 5040/5040 [00:22<00:00, 228.43it/s]\n",
      "100%|██████████| 5040/5040 [00:21<00:00, 230.62it/s]\n",
      "100%|██████████| 5040/5040 [00:21<00:00, 237.58it/s]\n",
      "100%|██████████| 5040/5040 [00:20<00:00, 246.04it/s]\n",
      "100%|██████████| 5040/5040 [00:21<00:00, 237.58it/s]\n",
      "100%|██████████| 5040/5040 [00:21<00:00, 235.65it/s]\n",
      "100%|██████████| 5040/5040 [00:21<00:00, 232.76it/s]\n",
      "100%|██████████| 5040/5040 [00:20<00:00, 240.79it/s]\n",
      "100%|██████████| 5040/5040 [00:22<00:00, 223.98it/s]\n",
      "100%|██████████| 5040/5040 [00:21<00:00, 236.29it/s]\n",
      "100%|██████████| 5040/5040 [00:20<00:00, 249.01it/s]\n",
      "100%|██████████| 5040/5040 [00:20<00:00, 250.17it/s]\n",
      "100%|██████████| 5040/5040 [00:19<00:00, 260.95it/s]\n",
      "100%|██████████| 5040/5040 [00:21<00:00, 238.87it/s]\n",
      "100%|██████████| 5040/5040 [00:21<00:00, 237.99it/s]\n",
      "100%|██████████| 5040/5040 [00:19<00:00, 253.01it/s]\n",
      "100%|██████████| 5040/5040 [00:18<00:00, 267.01it/s]\n",
      "100%|██████████| 5040/5040 [00:21<00:00, 235.72it/s]\n",
      "100%|██████████| 5040/5040 [00:20<00:00, 247.49it/s]\n",
      "100%|██████████| 5040/5040 [00:20<00:00, 243.55it/s]\n"
     ]
    },
    {
     "data": {
      "image/png": "[encoded data removed]",
      "text/plain": [
       "<Figure size 432x288 with 1 Axes>"
      ]
     },
     "metadata": {
      "needs_background": "light"
     },
     "output_type": "display_data"
    },
    {
     "name": "stderr",
     "output_type": "stream",
     "text": [
      "  0%|          | 23/5040 [00:00<00:22, 226.44it/s]"
     ]
    },
    {
     "name": "stdout",
     "output_type": "stream",
     "text": [
      "[[0 1 1 0 0 0 0]\n",
      " [0 0 1 0 0 0 1]\n",
      " [1 0 0 1 0 0 0]\n",
      " [1 0 0 0 1 1 0]\n",
      " [0 0 1 0 0 1 1]\n",
      " [1 0 1 0 1 0 1]\n",
      " [0 1 1 1 1 0 0]]\n"
     ]
    },
    {
     "name": "stderr",
     "output_type": "stream",
     "text": [
      "100%|██████████| 5040/5040 [00:21<00:00, 233.62it/s]\n"
     ]
    },
    {
     "name": "stdout",
     "output_type": "stream",
     "text": [
      "[5, 6, 3, 0, 1, 4, 2]    1160\n",
      "[5, 6, 3, 4, 0, 1, 2]     800\n",
      "[5, 6, 3, 0, 4, 1, 2]     497\n",
      "[3, 5, 0, 1, 6, 4, 2]     424\n",
      "[3, 5, 0, 1, 4, 6, 2]     357\n",
      "[6, 3, 5, 0, 1, 4, 2]     316\n",
      "[3, 4, 5, 0, 1, 6, 2]     313\n",
      "[3, 4, 5, 0, 6, 1, 2]     124\n",
      "[3, 5, 0, 4, 1, 6, 2]     123\n",
      "[6, 3, 5, 0, 4, 1, 2]     105\n",
      "[3, 4, 5, 6, 0, 1, 2]     104\n",
      "[6, 3, 4, 5, 0, 1, 2]     104\n",
      "[3, 5, 0, 6, 1, 4, 2]     103\n",
      "[3, 5, 0, 4, 6, 1, 2]      99\n",
      "[3, 5, 0, 6, 4, 1, 2]      85\n",
      "[3, 5, 6, 0, 1, 4, 2]      83\n",
      "[6, 3, 5, 4, 0, 1, 2]      78\n",
      "[3, 5, 4, 0, 1, 6, 2]      58\n",
      "[3, 5, 6, 4, 0, 1, 2]      38\n",
      "[3, 5, 6, 0, 4, 1, 2]      27\n",
      "[3, 5, 4, 6, 0, 1, 2]      23\n",
      "[3, 5, 4, 0, 6, 1, 2]      19\n",
      "dtype: int64\n"
     ]
    },
    {
     "data": {
      "image/png": "[encoded data removed]",
      "text/plain": [
       "<Figure size 432x288 with 1 Axes>"
      ]
     },
     "metadata": {
      "needs_background": "light"
     },
     "output_type": "display_data"
    },
    {
     "name": "stderr",
     "output_type": "stream",
     "text": [
      "100%|██████████| 5040/5040 [00:18<00:00, 267.72it/s]\n",
      "100%|██████████| 5040/5040 [00:21<00:00, 237.37it/s]\n",
      "100%|██████████| 5040/5040 [00:21<00:00, 237.63it/s]\n",
      "100%|██████████| 5040/5040 [00:20<00:00, 244.44it/s]\n",
      "100%|██████████| 5040/5040 [00:22<00:00, 221.92it/s]\n",
      "100%|██████████| 5040/5040 [00:20<00:00, 244.67it/s]\n",
      "100%|██████████| 5040/5040 [00:21<00:00, 230.28it/s]\n",
      "100%|██████████| 5040/5040 [00:21<00:00, 230.87it/s]\n",
      "100%|██████████| 5040/5040 [00:20<00:00, 248.00it/s]\n",
      "100%|██████████| 5040/5040 [00:21<00:00, 236.83it/s]\n",
      "100%|██████████| 5040/5040 [00:21<00:00, 229.43it/s]\n",
      "100%|██████████| 5040/5040 [00:21<00:00, 231.55it/s]\n",
      "100%|██████████| 5040/5040 [00:21<00:00, 232.27it/s]\n",
      "100%|██████████| 5040/5040 [00:20<00:00, 242.57it/s]\n",
      "100%|██████████| 5040/5040 [00:21<00:00, 235.90it/s]\n",
      "100%|██████████| 5040/5040 [00:21<00:00, 231.26it/s]\n",
      "100%|██████████| 5040/5040 [00:20<00:00, 242.95it/s]\n",
      "100%|██████████| 5040/5040 [00:20<00:00, 247.55it/s]\n",
      "100%|██████████| 5040/5040 [00:19<00:00, 256.23it/s]\n",
      "100%|██████████| 5040/5040 [00:20<00:00, 245.15it/s]\n"
     ]
    },
    {
     "data": {
      "image/png": "[encoded data removed]",
      "text/plain": [
       "<Figure size 432x288 with 1 Axes>"
      ]
     },
     "metadata": {
      "needs_background": "light"
     },
     "output_type": "display_data"
    },
    {
     "name": "stderr",
     "output_type": "stream",
     "text": [
      "100%|██████████| 5040/5040 [00:21<00:00, 234.71it/s]\n",
      "100%|██████████| 5040/5040 [00:21<00:00, 233.63it/s]\n",
      "100%|██████████| 5040/5040 [00:21<00:00, 233.29it/s]\n",
      "100%|██████████| 5040/5040 [00:21<00:00, 238.32it/s]\n",
      "100%|██████████| 5040/5040 [00:22<00:00, 222.86it/s]\n",
      "100%|██████████| 5040/5040 [00:19<00:00, 252.72it/s]\n",
      "100%|██████████| 5040/5040 [00:22<00:00, 223.53it/s]\n",
      "100%|██████████| 5040/5040 [00:21<00:00, 235.11it/s]\n",
      "100%|██████████| 5040/5040 [00:21<00:00, 237.63it/s]\n",
      "100%|██████████| 5040/5040 [00:21<00:00, 232.33it/s]\n",
      "100%|██████████| 5040/5040 [00:19<00:00, 259.38it/s]\n",
      "100%|██████████| 5040/5040 [00:20<00:00, 245.41it/s]\n",
      "100%|██████████| 5040/5040 [00:21<00:00, 230.59it/s]\n",
      "100%|██████████| 5040/5040 [00:22<00:00, 228.98it/s]\n",
      "100%|██████████| 5040/5040 [00:21<00:00, 232.47it/s]\n",
      "100%|██████████| 5040/5040 [00:19<00:00, 252.07it/s]\n",
      "100%|██████████| 5040/5040 [00:21<00:00, 233.92it/s]\n",
      "100%|██████████| 5040/5040 [00:20<00:00, 245.76it/s]\n",
      "100%|██████████| 5040/5040 [00:21<00:00, 231.20it/s]\n",
      "100%|██████████| 5040/5040 [00:22<00:00, 228.17it/s]\n"
     ]
    },
    {
     "data": {
      "image/png": "[encoded data removed]",
      "text/plain": [
       "<Figure size 432x288 with 1 Axes>"
      ]
     },
     "metadata": {
      "needs_background": "light"
     },
     "output_type": "display_data"
    },
    {
     "name": "stderr",
     "output_type": "stream",
     "text": [
      "100%|██████████| 5040/5040 [00:21<00:00, 235.23it/s]\n",
      "100%|██████████| 5040/5040 [00:21<00:00, 236.61it/s]\n",
      "100%|██████████| 5040/5040 [00:20<00:00, 243.93it/s]\n",
      "100%|██████████| 5040/5040 [00:22<00:00, 227.23it/s]\n",
      "100%|██████████| 5040/5040 [00:21<00:00, 238.81it/s]\n",
      "100%|██████████| 5040/5040 [00:21<00:00, 229.32it/s]\n",
      "100%|██████████| 5040/5040 [00:19<00:00, 260.58it/s]\n",
      "100%|██████████| 5040/5040 [00:21<00:00, 234.07it/s]\n",
      "100%|██████████| 5040/5040 [00:21<00:00, 233.35it/s]\n",
      "100%|██████████| 5040/5040 [00:20<00:00, 246.63it/s]\n",
      "100%|██████████| 5040/5040 [00:22<00:00, 223.53it/s]\n",
      "100%|██████████| 5040/5040 [00:19<00:00, 256.70it/s]\n",
      "100%|██████████| 5040/5040 [00:19<00:00, 256.18it/s]\n",
      "100%|██████████| 5040/5040 [00:20<00:00, 241.11it/s]\n",
      "100%|██████████| 5040/5040 [00:21<00:00, 232.71it/s]\n",
      "100%|██████████| 5040/5040 [00:21<00:00, 233.18it/s]\n",
      "100%|██████████| 5040/5040 [00:22<00:00, 223.61it/s]\n",
      "100%|██████████| 5040/5040 [00:20<00:00, 243.00it/s]\n",
      "100%|██████████| 5040/5040 [00:19<00:00, 258.17it/s]\n",
      "100%|██████████| 5040/5040 [00:22<00:00, 228.29it/s]\n"
     ]
    },
    {
     "data": {
      "image/png": "[encoded data removed]",
      "text/plain": [
       "<Figure size 432x288 with 1 Axes>"
      ]
     },
     "metadata": {
      "needs_background": "light"
     },
     "output_type": "display_data"
    },
    {
     "name": "stderr",
     "output_type": "stream",
     "text": [
      "100%|██████████| 5040/5040 [00:22<00:00, 227.02it/s]\n",
      "100%|██████████| 5040/5040 [00:21<00:00, 232.70it/s]\n",
      "100%|██████████| 5040/5040 [00:22<00:00, 222.31it/s]\n",
      "100%|██████████| 5040/5040 [00:21<00:00, 231.71it/s]\n",
      "100%|██████████| 5040/5040 [00:21<00:00, 239.37it/s]\n",
      "100%|██████████| 5040/5040 [00:20<00:00, 244.13it/s]\n",
      "100%|██████████| 5040/5040 [00:21<00:00, 235.97it/s]\n",
      "100%|██████████| 5040/5040 [00:21<00:00, 234.42it/s]\n",
      "100%|██████████| 5040/5040 [00:21<00:00, 232.47it/s]\n",
      "100%|██████████| 5040/5040 [00:21<00:00, 236.61it/s]\n",
      "100%|██████████| 5040/5040 [00:20<00:00, 248.87it/s]\n",
      "100%|██████████| 5040/5040 [00:22<00:00, 227.18it/s]\n",
      "100%|██████████| 5040/5040 [00:21<00:00, 231.61it/s]\n",
      "100%|██████████| 5040/5040 [00:21<00:00, 233.07it/s]\n",
      "100%|██████████| 5040/5040 [00:21<00:00, 233.72it/s]\n",
      "100%|██████████| 5040/5040 [00:20<00:00, 247.58it/s]\n",
      "100%|██████████| 5040/5040 [00:19<00:00, 252.84it/s]\n",
      "100%|██████████| 5040/5040 [00:21<00:00, 233.71it/s]\n",
      "100%|██████████| 5040/5040 [00:21<00:00, 239.61it/s]\n",
      "100%|██████████| 5040/5040 [00:22<00:00, 226.19it/s]\n"
     ]
    },
    {
     "data": {
      "image/png": "[encoded data removed]",
      "text/plain": [
       "<Figure size 432x288 with 1 Axes>"
      ]
     },
     "metadata": {
      "needs_background": "light"
     },
     "output_type": "display_data"
    },
    {
     "name": "stderr",
     "output_type": "stream",
     "text": [
      "100%|██████████| 5040/5040 [00:22<00:00, 223.67it/s]\n",
      "100%|██████████| 5040/5040 [00:20<00:00, 244.28it/s]\n",
      " 22%|██▏       | 1104/5040 [00:04<00:15, 258.62it/s]"
     ]
    }
   ],
   "source": [
    "#test_rand_D(BinaryFlipNoise(0.5), 4)\n",
    "test_rand_D_correlate_sensitivity(BinaryFlipNoise(0.5), 4)"
   ]
  },
  {
   "cell_type": "markdown",
   "metadata": {},
   "source": [
    "## Normal Resampling Noise"
   ]
  },
  {
   "cell_type": "code",
   "execution_count": null,
   "metadata": {},
   "outputs": [],
   "source": [
    "test_rand_D(NormalResamplingNoise(0.5), 4)"
   ]
  }
 ],
 "metadata": {
  "kernelspec": {
   "display_name": "Python 3",
   "language": "python",
   "name": "python3"
  },
  "language_info": {
   "codemirror_mode": {
    "name": "ipython",
    "version": 3
   },
   "file_extension": ".py",
   "mimetype": "text/x-python",
   "name": "python",
   "nbconvert_exporter": "python",
   "pygments_lexer": "ipython3",
   "version": "3.6.9"
  }
 },
 "nbformat": 4,
 "nbformat_minor": 4
}
