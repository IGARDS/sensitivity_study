{
 "cells": [
  {
   "cell_type": "code",
   "execution_count": null,
   "metadata": {},
   "outputs": [],
   "source": [
    "%load_ext autoreload\n",
    "%autoreload 2"
   ]
  },
  {
   "cell_type": "code",
   "execution_count": null,
   "metadata": {},
   "outputs": [],
   "source": [
    "from sensitivity_tests import *\n",
    "\n",
    "import matplotlib.pyplot as plt\n",
    "from tqdm import tqdm\n",
    "from pathlib import Path\n",
    "import os\n",
    "import numpy as np\n",
    "import math\n",
    "import random\n",
    "import sys\n",
    "import itertools\n",
    "from scipy import stats\n",
    "import pandas as pd\n",
    "sys.path.append(\"~/rankability_toolbox\")\n",
    "import pyrankability\n",
    "\n",
    "from gurobipy import *\n",
    "setParam(\"OutputFlag\", 0)\n",
    "setParam(\"Presolve\", 0)"
   ]
  },
  {
   "cell_type": "code",
   "execution_count": null,
   "metadata": {},
   "outputs": [],
   "source": [
    "# Produces a pandas Series with the optimal rankings found from each permutation\n",
    "def solve_all_permutations(D_orig):\n",
    "    perms = list(itertools.permutations(range(D_orig.shape[0])))\n",
    "    P_elems = []\n",
    "    for perm in tqdm(perms):\n",
    "        D_permuted = D_orig[perm,:][:,perm]\n",
    "        k, details = pyrankability.lop.bilp(D_permuted)\n",
    "        elem = list(details[\"P\"][0])\n",
    "        for i in range(len(elem)):\n",
    "            elem[i] = perm[elem[i]]\n",
    "        P_elems.append(str(elem))\n",
    "    return pd.Series(P_elems)\n",
    "\n",
    "# Checks if the frequencies are uniform or not\n",
    "def check_freqs(freqs):\n",
    "    if len(freqs.unique()) > 1:\n",
    "        print(freqs)\n",
    "        plt.bar(range(1, len(freqs)+1), height=freqs.values)\n",
    "        plt.show()\n",
    "        return False\n",
    "    else:\n",
    "        print(\"Perfectly balanced, as all things should be.\")\n",
    "        print(\"All {0} elements produced by {1} permutations\".format(len(freqs), freqs.unique()[0]), flush=True)\n",
    "        return True  \n",
    "\n",
    "# Generates random noisy D matrices and checks for uniform frequency\n",
    "def test_rand_D(noise_gen, num_attempts):\n",
    "    for i in range(num_attempts):\n",
    "        D2 = noise_gen.apply_noise(D)\n",
    "        print(D2)\n",
    "        P_elems_series = solve_all_permutations(D2)\n",
    "        freqs = P_elems_series.value_counts()\n",
    "        check_freqs(freqs)\n",
    "\n",
    "def test_rand_D_correlate_sensitivity(noise_gen, num_attempts):\n",
    "    for i in range(num_attempts):\n",
    "        D2 = noise_gen.apply_noise(D)\n",
    "        print(D2)\n",
    "        P_elems_series = solve_all_permutations(D2)\n",
    "        freqs = P_elems_series.value_counts()\n",
    "        if not check_freqs(freqs):\n",
    "            D2_P = pd.Series(freqs.index.values)\n",
    "            D2_P_counts = D2_P.copy(deep=True)\n",
    "            D2_P_counts.loc[:] = 0\n",
    "            noise_gen2 = BinaryFlipNoise(0.05)\n",
    "            for k in range(16):\n",
    "                D3 = noise_gen2.apply_noise(D2)\n",
    "                D3_P = solve_all_permutations(D3).unique()\n",
    "                D2_P_counts = D2_P_counts.add(D2_P.isin(D3_P).astype(int))\n",
    "            plt.bar(range(1, len(D2_P_counts)+1), height=D2_P_counts.values)\n",
    "            plt.show()"
   ]
  },
  {
   "cell_type": "markdown",
   "metadata": {},
   "source": [
    "## Perfect Dominance with Constant # of Ties"
   ]
  },
  {
   "cell_type": "code",
   "execution_count": null,
   "metadata": {},
   "outputs": [],
   "source": [
    "n_items = 7\n",
    "n_ties = 4\n",
    "\n",
    "# Create perfect binary dominance\n",
    "D = PerfectBinarySource(n_items).init_D()\n",
    "\n",
    "# Tie-up the bottom n_ties items\n",
    "for i in range(n_ties):\n",
    "    D[n_items-i-1] = 0\n",
    "\n",
    "D"
   ]
  },
  {
   "cell_type": "code",
   "execution_count": null,
   "metadata": {},
   "outputs": [],
   "source": [
    "n_ties_series = solve_all_permutations(D)\n",
    "freqs = n_ties_series.value_counts()\n",
    "check_freqs(freqs)"
   ]
  },
  {
   "cell_type": "markdown",
   "metadata": {},
   "source": [
    "## Re-initialize D"
   ]
  },
  {
   "cell_type": "code",
   "execution_count": null,
   "metadata": {},
   "outputs": [],
   "source": [
    "D = PerfectBinarySource(n_items).init_D()\n",
    "D"
   ]
  },
  {
   "cell_type": "markdown",
   "metadata": {},
   "source": [
    "## Swap Noise"
   ]
  },
  {
   "cell_type": "code",
   "execution_count": null,
   "metadata": {},
   "outputs": [],
   "source": [
    "test_rand_D(SwapNoise(0.5), 4)"
   ]
  },
  {
   "cell_type": "markdown",
   "metadata": {},
   "source": [
    "## Binary Flip Noise"
   ]
  },
  {
   "cell_type": "code",
   "execution_count": null,
   "metadata": {},
   "outputs": [],
   "source": [
    "test_rand_D(BinaryFlipNoise(0.5), 4)"
   ]
  },
  {
   "cell_type": "markdown",
   "metadata": {},
   "source": [
    "## Normal Resampling Noise"
   ]
  },
  {
   "cell_type": "code",
   "execution_count": null,
   "metadata": {},
   "outputs": [],
   "source": [
    "test_rand_D(NormalResamplingNoise(0.5), 4)"
   ]
  }
 ],
 "metadata": {
  "kernelspec": {
   "display_name": "Python 3",
   "language": "python",
   "name": "python3"
  },
  "language_info": {
   "codemirror_mode": {
    "name": "ipython",
    "version": 3
   },
   "file_extension": ".py",
   "mimetype": "text/x-python",
   "name": "python",
   "nbconvert_exporter": "python",
   "pygments_lexer": "ipython3",
   "version": "3.6.9"
  }
 },
 "nbformat": 4,
 "nbformat_minor": 4
}
