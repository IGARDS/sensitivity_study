{
 "cells": [
  {
   "cell_type": "raw",
   "metadata": {},
   "source": [
    "This file contains an experiment comparing Pearson's rho to tau.\n",
    "\n",
    "Experiment on Rankability vs Sensitivity:\n",
    "Rankability Metrics as Well\n",
    "Rho vs. Tau\n",
    "Synthetic, NFL, LOLib\n",
    "Many Noises: Bootstrap, Team by Team, Normal Additive, SwapNoise\n",
    "NoiseStrength: 5% to 50%\n",
    "Massey, Colley"
   ]
  },
  {
   "cell_type": "code",
   "execution_count": 172,
   "metadata": {},
   "outputs": [
    {
     "name": "stdout",
     "output_type": "stream",
     "text": [
      "['/usr/lib/python36.zip', '/usr/lib/python3.6', '/usr/lib/python3.6/lib-dynload', '', '/data/env/lib/python3.6/site-packages', '/data/env/lib/python3.6/site-packages/pyrankability-0.0.11-py3.6.egg', '/data/env/lib/python3.6/site-packages/IPython/extensions', '/disk/home/egoldfar/.ipython', '~/rankability_toolbox_dev/pyrankability_dev', '~/rankability_toolbox_dev/pyrankability_dev', '~/rankability_toolbox_dev/pyrankability_dev', '~/rankability_toolbox_dev/pyrankability_dev', '~/rankability_toolbox_dev/pyrankability_dev', '~/rankability_toolbox_dev/pyrankability', '~/rankability_toolbox_dev/pyrankability', '~/rankability_toolbox_dev/pyrankability', '~/rankability_toolbox_dev/pyrankability', '~/rankability_toolbox_dev']\n"
     ]
    },
    {
     "data": {
      "text/plain": [
       "<module 'utilities' from '/disk/home/egoldfar/sensitivity_study/src/utilities.py'>"
      ]
     },
     "execution_count": 172,
     "metadata": {},
     "output_type": "execute_result"
    }
   ],
   "source": [
    "import sys\n",
    "import importlib\n",
    "print(sys.path)\n",
    "sys.path.append(\"~/rankability_toolbox_dev/pyrankability\")\n",
    "#import pyrankability\n",
    "import sensitivity_tests\n",
    "from sensitivity_tests import *\n",
    "importlib.reload(sensitivity_tests)\n",
    "import pandas as pd\n",
    "import utilities\n",
    "from utilities import *\n",
    "importlib.reload(utilities)"
   ]
  },
  {
   "cell_type": "code",
   "execution_count": 156,
   "metadata": {},
   "outputs": [],
   "source": [
    "nfl2019_nfc = open(\"./nfl_data/nfl2019_nfc\", 'r')\n",
    "nfl1990_nfc = open(\"./nfl_data/nfl1990_nfc\", 'r')\n",
    "Necon36 = open(\"./lolib_data/N-econ36\", 'r')\n",
    "Npal27 = open(\"./lolib_data/N-pal27\", 'r')"
   ]
  },
  {
   "cell_type": "code",
   "execution_count": 157,
   "metadata": {},
   "outputs": [],
   "source": [
    "nfl2019_nfc = open(\"./nfl_data/nfl2019_nfc\", 'r')\n",
    "n = int(nfl2019_nfc.readline().strip('\\n'))\n",
    "n\n",
    "lines = []\n",
    "for line in nfl2019_nfc:\n",
    "    lines.append(np.array(list(map(int, line.strip().split(\" \")))))\n",
    "nf1_D = np.stack([np.array(lines[i]) for i in range(len(lines))])\n"
   ]
  },
  {
   "cell_type": "code",
   "execution_count": 158,
   "metadata": {},
   "outputs": [],
   "source": [
    "nfl1990_nfc = open(\"./nfl_data/nfl1990_nfc\", 'r')\n",
    "n = int(nfl1990_nfc.readline().strip('\\n'))\n",
    "n\n",
    "lines = []\n",
    "for line in nfl1990_nfc:\n",
    "    lines.append(np.array(list(map(int, line.strip().split(\" \")))))\n",
    "nf1_D = np.stack([np.array(lines[i]) for i in range(len(lines))])\n"
   ]
  },
  {
   "cell_type": "code",
   "execution_count": 159,
   "metadata": {},
   "outputs": [],
   "source": [
    "Necon36 = open(\"./lolib_data/N-econ36\", 'r')\n",
    "n = int(Necon36.readline().strip('\\n'))\n",
    "n\n",
    "lines = []\n",
    "for line in Necon36:\n",
    "    lines.append(np.array(list(map(int, line.strip().split(\" \")))))\n",
    "Necon36_D = np.stack([np.array(lines[i]) for i in range(len(lines))])\n"
   ]
  },
  {
   "cell_type": "code",
   "execution_count": 160,
   "metadata": {},
   "outputs": [],
   "source": [
    "Npal27 = open(\"./lolib_data/N-pal27\", 'r')\n",
    "n = int(Npal27.readline().strip('\\n'))\n",
    "n\n",
    "lines = []\n",
    "for line in Npal27:\n",
    "    lines.append(np.array(list(map(int, line.strip().split(\" \")))))\n",
    "nf1_D = np.stack([np.array(lines[i]) for i in range(len(lines))])\n"
   ]
  },
  {
   "cell_type": "code",
   "execution_count": 100,
   "metadata": {},
   "outputs": [
    {
     "data": {
      "text/plain": [
       "array([[0., 3., 1., 3., 2., 2., 2., 1., 1., 2., 2., 0., 1., 2., 2., 3.,\n",
       "        3., 2., 2., 3.],\n",
       "       [0., 0., 1., 2., 2., 1., 1., 2., 1., 1., 1., 3., 2., 2., 3., 3.,\n",
       "        1., 3., 1., 2.],\n",
       "       [2., 2., 0., 0., 1., 0., 2., 0., 1., 0., 1., 1., 2., 2., 2., 1.,\n",
       "        1., 0., 3., 0.],\n",
       "       [0., 1., 3., 0., 2., 1., 2., 0., 1., 2., 1., 1., 0., 2., 0., 2.,\n",
       "        1., 2., 2., 1.],\n",
       "       [1., 1., 2., 1., 0., 2., 1., 2., 0., 1., 1., 2., 1., 2., 0., 2.,\n",
       "        2., 2., 1., 1.],\n",
       "       [1., 2., 3., 2., 1., 0., 0., 2., 0., 3., 2., 2., 1., 2., 3., 1.,\n",
       "        1., 2., 2., 2.],\n",
       "       [1., 2., 1., 1., 2., 3., 0., 2., 2., 1., 3., 2., 1., 1., 1., 0.,\n",
       "        0., 2., 1., 3.],\n",
       "       [2., 1., 3., 3., 1., 1., 1., 0., 1., 1., 1., 2., 3., 3., 0., 2.,\n",
       "        1., 2., 2., 1.],\n",
       "       [2., 2., 2., 2., 3., 3., 1., 2., 0., 3., 2., 1., 1., 0., 0., 2.,\n",
       "        2., 2., 1., 2.],\n",
       "       [1., 2., 3., 1., 2., 0., 2., 2., 0., 0., 2., 1., 1., 2., 2., 3.,\n",
       "        3., 2., 3., 2.],\n",
       "       [1., 2., 2., 2., 2., 1., 0., 2., 1., 1., 0., 2., 2., 2., 1., 3.,\n",
       "        2., 2., 3., 2.],\n",
       "       [3., 0., 2., 2., 1., 1., 1., 1., 2., 2., 1., 0., 2., 1., 1., 2.,\n",
       "        1., 3., 2., 2.],\n",
       "       [2., 1., 1., 3., 2., 2., 2., 0., 2., 2., 1., 1., 0., 1., 2., 1.,\n",
       "        1., 1., 2., 3.],\n",
       "       [1., 1., 1., 1., 1., 1., 2., 0., 3., 1., 1., 2., 2., 0., 3., 1.,\n",
       "        2., 1., 2., 3.],\n",
       "       [1., 0., 1., 3., 3., 0., 2., 3., 3., 1., 2., 2., 1., 0., 0., 1.,\n",
       "        1., 1., 2., 2.],\n",
       "       [0., 0., 2., 1., 1., 2., 3., 1., 1., 0., 0., 1., 2., 2., 2., 0.,\n",
       "        2., 1., 1., 2.],\n",
       "       [0., 2., 2., 2., 1., 2., 3., 2., 1., 0., 1., 2., 2., 1., 2., 1.,\n",
       "        0., 1., 0., 2.],\n",
       "       [1., 0., 3., 1., 1., 1., 1., 1., 1., 1., 1., 0., 2., 2., 2., 2.,\n",
       "        2., 0., 1., 1.],\n",
       "       [1., 2., 0., 1., 2., 1., 2., 1., 2., 0., 0., 1., 1., 1., 1., 2.,\n",
       "        3., 2., 0., 1.],\n",
       "       [0., 1., 3., 2., 2., 1., 0., 2., 1., 1., 1., 1., 0., 0., 1., 1.,\n",
       "        1., 2., 2., 0.]])"
      ]
     },
     "execution_count": 100,
     "metadata": {},
     "output_type": "execute_result"
    }
   ],
   "source": [
    "competitiveELOTournament = SynthELOTournamentSource(15, 3, 5, 800)\n",
    "competitiveELOTournamentBig = SynthELOTournamentSource(20, 3, 5, 800)\n",
    "compELOMatrixBig = competitiveELOTournamentBig.init_D()\n",
    "compELOMatrix = competitiveELOTournament.init_D()\n",
    "compELOMatrixBig"
   ]
  },
  {
   "cell_type": "code",
   "execution_count": 173,
   "metadata": {},
   "outputs": [
    {
     "data": {
      "text/plain": [
       "-1.0"
      ]
     },
     "execution_count": 173,
     "metadata": {},
     "output_type": "execute_result"
    }
   ],
   "source": [
    "importlib.reload(utilities)\n",
    "spearman_r(np.array([0,1,2]), np.array([2,1,0]))\n"
   ]
  },
  {
   "cell_type": "code",
   "execution_count": 122,
   "metadata": {},
   "outputs": [
    {
     "name": "stdout",
     "output_type": "stream",
     "text": [
      "Read MPS format model from file /tmp/tmpet0d44i4/model.mps\n",
      "Reading time = 0.00 seconds\n",
      "lop: 910 rows, 105 columns, 2730 nonzeros\n",
      "Read MPS format model from file /tmp/tmpet0d44i4/model.mps\n",
      "Reading time = 0.00 seconds\n",
      "lop: 910 rows, 105 columns, 2730 nonzeros\n",
      "{'kendall_w': 0.703968253968254, 'p_lowerbound': 3, 'max_L2_dist': 19.339079605813716, 'mean_L2_dist': 14.346391452381594, 'min_tau': 0.6571428571428571, 'mean_tau': 0.7714285714285715, 'k': 199.0, 'degree_of_linearity': 0.6317460317460317, 'model': 'lop', 'D': '[[0.0, 1.0, 2.0, 2.0, 2.0, 1.0, 2.0, 1.0, 2.0, 1.0, 0.0, 1.0, 2.0, 1.0, 1.0], [2.0, 0.0, 2.0, 2.0, 1.0, 2.0, 2.0, 1.0, 2.0, 2.0, 2.0, 1.0, 0.0, 2.0, 2.0], [1.0, 1.0, 0.0, 2.0, 1.0, 2.0, 0.0, 1.0, 1.0, 1.0, 1.0, 2.0, 1.0, 1.0, 3.0], [1.0, 1.0, 1.0, 0.0, 0.0, 2.0, 1.0, 1.0, 1.0, 0.0, 0.0, 2.0, 1.0, 1.0, 2.0], [1.0, 2.0, 2.0, 3.0, 0.0, 2.0, 1.0, 0.0, 1.0, 2.0, 2.0, 2.0, 3.0, 2.0, 0.0], [2.0, 1.0, 1.0, 1.0, 1.0, 0.0, 1.0, 2.0, 3.0, 1.0, 2.0, 2.0, 3.0, 2.0, 2.0], [1.0, 1.0, 3.0, 2.0, 2.0, 2.0, 0.0, 3.0, 2.0, 3.0, 2.0, 0.0, 2.0, 2.0, 2.0], [2.0, 2.0, 2.0, 2.0, 3.0, 1.0, 0.0, 0.0, 2.0, 2.0, 2.0, 2.0, 1.0, 1.0, 2.0], [1.0, 1.0, 2.0, 2.0, 2.0, 0.0, 1.0, 1.0, 0.0, 2.0, 2.0, 0.0, 2.0, 1.0, 0.0], [2.0, 1.0, 2.0, 3.0, 1.0, 2.0, 0.0, 1.0, 1.0, 0.0, 2.0, 2.0, 1.0, 0.0, 2.0], [3.0, 1.0, 2.0, 3.0, 1.0, 1.0, 1.0, 1.0, 1.0, 1.0, 0.0, 2.0, 3.0, 2.0, 1.0], [2.0, 2.0, 1.0, 1.0, 1.0, 1.0, 3.0, 1.0, 3.0, 1.0, 1.0, 0.0, 3.0, 1.0, 2.0], [1.0, 3.0, 2.0, 2.0, 0.0, 0.0, 1.0, 2.0, 1.0, 2.0, 0.0, 0.0, 0.0, 1.0, 2.0], [2.0, 1.0, 2.0, 2.0, 1.0, 1.0, 1.0, 2.0, 2.0, 3.0, 1.0, 2.0, 2.0, 0.0, 1.0], [2.0, 1.0, 0.0, 1.0, 3.0, 1.0, 1.0, 1.0, 3.0, 1.0, 2.0, 1.0, 1.0, 2.0, 0.0]]', 'Source': 'SynthELOTournamentSource(15,3,5,800)', 'n_items': 15, 'P': '[(11, 1, 6, 5, 13, 7, 14, 8, 4, 9, 10, 0, 12, 2, 3), (1, 6, 5, 7, 14, 4, 13, 9, 10, 11, 0, 8, 12, 2, 3), (1, 6, 5, 7, 14, 4, 10, 13, 9, 11, 0, 8, 12, 2, 3)]', 'P_repeats': '[(1, 6, 5, 7, 14, 4, 10, 13, 9, 11, 0, 8, 12, 2, 3), (11, 1, 6, 5, 13, 7, 14, 8, 4, 9, 10, 0, 12, 2, 3), (1, 6, 5, 7, 14, 4, 13, 9, 10, 11, 0, 8, 12, 2, 3), (1, 6, 5, 7, 14, 4, 10, 13, 9, 11, 0, 8, 12, 2, 3), (1, 6, 5, 7, 14, 4, 13, 9, 10, 11, 0, 8, 12, 2, 3)]', 'LOPRankingAlgorithm_DOL': 0.5873015873015873, 'mean_sensitivity(LOPRankingAlgorithm,SwapNoise(0.05))': 0.16190476190476183, 'std_sensitivity(LOPRankingAlgorithm,SwapNoise(0.05))': 0.03761603363453618, 'mean_rho_sensitivity(LOPRankingAlgorithm,SwapNoise(0.05))': 0.32659773204987647, 'std_rho_sensitivity(LOPRankingAlgorithm,SwapNoise(0.05))': 0.1708081610548355, 'mean_sensitivity(LOPRankingAlgorithm,BinaryFlipNoise(0.05))': 0.11428571428571424, 'std_sensitivity(LOPRankingAlgorithm,BinaryFlipNoise(0.05))': 0.0366388267841359, 'mean_rho_sensitivity(LOPRankingAlgorithm,BinaryFlipNoise(0.05))': 0.41765482066468096, 'std_rho_sensitivity(LOPRankingAlgorithm,BinaryFlipNoise(0.05))': 0.15147581081584707, 'MasseyRankingAlgorithm_DOL': 0.6, 'mean_sensitivity(MasseyRankingAlgorithm,SwapNoise(0.05))': 0.11428571428571428, 'std_sensitivity(MasseyRankingAlgorithm,SwapNoise(0.05))': 0.03187276291558382, 'mean_rho_sensitivity(MasseyRankingAlgorithm,SwapNoise(0.05))': 0.35607992984084724, 'std_rho_sensitivity(MasseyRankingAlgorithm,SwapNoise(0.05))': 0.15019728752521622, 'mean_sensitivity(MasseyRankingAlgorithm,BinaryFlipNoise(0.05))': 0.1333333333333333, 'std_sensitivity(MasseyRankingAlgorithm,BinaryFlipNoise(0.05))': 0.021717627144745486, 'mean_rho_sensitivity(MasseyRankingAlgorithm,BinaryFlipNoise(0.05))': 0.328079499862003, 'std_rho_sensitivity(MasseyRankingAlgorithm,BinaryFlipNoise(0.05))': 0.1252497746230735, 'ColleyRankingAlgorithm_DOL': 0.5968253968253968, 'mean_sensitivity(ColleyRankingAlgorithm,SwapNoise(0.05))': 0.1428571428571428, 'std_sensitivity(ColleyRankingAlgorithm,SwapNoise(0.05))': 0.04704414870563227, 'mean_rho_sensitivity(ColleyRankingAlgorithm,SwapNoise(0.05))': 0.3539571448864954, 'std_rho_sensitivity(ColleyRankingAlgorithm,SwapNoise(0.05))': 0.14794422927644413, 'mean_sensitivity(ColleyRankingAlgorithm,BinaryFlipNoise(0.05))': 0.15428571428571428, 'std_sensitivity(ColleyRankingAlgorithm,BinaryFlipNoise(0.05))': 0.04401607622206225, 'mean_rho_sensitivity(ColleyRankingAlgorithm,BinaryFlipNoise(0.05))': 0.3309346477591414, 'std_rho_sensitivity(ColleyRankingAlgorithm,BinaryFlipNoise(0.05))': 0.22182506697734936}\n"
     ]
    },
    {
     "data": {
      "text/plain": [
       "{'kendall_w': 0.703968253968254,\n",
       " 'p_lowerbound': 3,\n",
       " 'max_L2_dist': 19.339079605813716,\n",
       " 'mean_L2_dist': 14.346391452381594,\n",
       " 'min_tau': 0.6571428571428571,\n",
       " 'mean_tau': 0.7714285714285715,\n",
       " 'k': 199.0,\n",
       " 'degree_of_linearity': 0.6317460317460317,\n",
       " 'model': 'lop',\n",
       " 'D': '[[0.0, 1.0, 2.0, 2.0, 2.0, 1.0, 2.0, 1.0, 2.0, 1.0, 0.0, 1.0, 2.0, 1.0, 1.0], [2.0, 0.0, 2.0, 2.0, 1.0, 2.0, 2.0, 1.0, 2.0, 2.0, 2.0, 1.0, 0.0, 2.0, 2.0], [1.0, 1.0, 0.0, 2.0, 1.0, 2.0, 0.0, 1.0, 1.0, 1.0, 1.0, 2.0, 1.0, 1.0, 3.0], [1.0, 1.0, 1.0, 0.0, 0.0, 2.0, 1.0, 1.0, 1.0, 0.0, 0.0, 2.0, 1.0, 1.0, 2.0], [1.0, 2.0, 2.0, 3.0, 0.0, 2.0, 1.0, 0.0, 1.0, 2.0, 2.0, 2.0, 3.0, 2.0, 0.0], [2.0, 1.0, 1.0, 1.0, 1.0, 0.0, 1.0, 2.0, 3.0, 1.0, 2.0, 2.0, 3.0, 2.0, 2.0], [1.0, 1.0, 3.0, 2.0, 2.0, 2.0, 0.0, 3.0, 2.0, 3.0, 2.0, 0.0, 2.0, 2.0, 2.0], [2.0, 2.0, 2.0, 2.0, 3.0, 1.0, 0.0, 0.0, 2.0, 2.0, 2.0, 2.0, 1.0, 1.0, 2.0], [1.0, 1.0, 2.0, 2.0, 2.0, 0.0, 1.0, 1.0, 0.0, 2.0, 2.0, 0.0, 2.0, 1.0, 0.0], [2.0, 1.0, 2.0, 3.0, 1.0, 2.0, 0.0, 1.0, 1.0, 0.0, 2.0, 2.0, 1.0, 0.0, 2.0], [3.0, 1.0, 2.0, 3.0, 1.0, 1.0, 1.0, 1.0, 1.0, 1.0, 0.0, 2.0, 3.0, 2.0, 1.0], [2.0, 2.0, 1.0, 1.0, 1.0, 1.0, 3.0, 1.0, 3.0, 1.0, 1.0, 0.0, 3.0, 1.0, 2.0], [1.0, 3.0, 2.0, 2.0, 0.0, 0.0, 1.0, 2.0, 1.0, 2.0, 0.0, 0.0, 0.0, 1.0, 2.0], [2.0, 1.0, 2.0, 2.0, 1.0, 1.0, 1.0, 2.0, 2.0, 3.0, 1.0, 2.0, 2.0, 0.0, 1.0], [2.0, 1.0, 0.0, 1.0, 3.0, 1.0, 1.0, 1.0, 3.0, 1.0, 2.0, 1.0, 1.0, 2.0, 0.0]]',\n",
       " 'Source': 'SynthELOTournamentSource(15,3,5,800)',\n",
       " 'n_items': 15,\n",
       " 'P': '[(11, 1, 6, 5, 13, 7, 14, 8, 4, 9, 10, 0, 12, 2, 3), (1, 6, 5, 7, 14, 4, 13, 9, 10, 11, 0, 8, 12, 2, 3), (1, 6, 5, 7, 14, 4, 10, 13, 9, 11, 0, 8, 12, 2, 3)]',\n",
       " 'P_repeats': '[(1, 6, 5, 7, 14, 4, 10, 13, 9, 11, 0, 8, 12, 2, 3), (11, 1, 6, 5, 13, 7, 14, 8, 4, 9, 10, 0, 12, 2, 3), (1, 6, 5, 7, 14, 4, 13, 9, 10, 11, 0, 8, 12, 2, 3), (1, 6, 5, 7, 14, 4, 10, 13, 9, 11, 0, 8, 12, 2, 3), (1, 6, 5, 7, 14, 4, 13, 9, 10, 11, 0, 8, 12, 2, 3)]',\n",
       " 'LOPRankingAlgorithm_DOL': 0.5873015873015873,\n",
       " 'mean_sensitivity(LOPRankingAlgorithm,SwapNoise(0.05))': 0.16190476190476183,\n",
       " 'std_sensitivity(LOPRankingAlgorithm,SwapNoise(0.05))': 0.03761603363453618,\n",
       " 'mean_rho_sensitivity(LOPRankingAlgorithm,SwapNoise(0.05))': 0.32659773204987647,\n",
       " 'std_rho_sensitivity(LOPRankingAlgorithm,SwapNoise(0.05))': 0.1708081610548355,\n",
       " 'mean_sensitivity(LOPRankingAlgorithm,BinaryFlipNoise(0.05))': 0.11428571428571424,\n",
       " 'std_sensitivity(LOPRankingAlgorithm,BinaryFlipNoise(0.05))': 0.0366388267841359,\n",
       " 'mean_rho_sensitivity(LOPRankingAlgorithm,BinaryFlipNoise(0.05))': 0.41765482066468096,\n",
       " 'std_rho_sensitivity(LOPRankingAlgorithm,BinaryFlipNoise(0.05))': 0.15147581081584707,\n",
       " 'MasseyRankingAlgorithm_DOL': 0.6,\n",
       " 'mean_sensitivity(MasseyRankingAlgorithm,SwapNoise(0.05))': 0.11428571428571428,\n",
       " 'std_sensitivity(MasseyRankingAlgorithm,SwapNoise(0.05))': 0.03187276291558382,\n",
       " 'mean_rho_sensitivity(MasseyRankingAlgorithm,SwapNoise(0.05))': 0.35607992984084724,\n",
       " 'std_rho_sensitivity(MasseyRankingAlgorithm,SwapNoise(0.05))': 0.15019728752521622,\n",
       " 'mean_sensitivity(MasseyRankingAlgorithm,BinaryFlipNoise(0.05))': 0.1333333333333333,\n",
       " 'std_sensitivity(MasseyRankingAlgorithm,BinaryFlipNoise(0.05))': 0.021717627144745486,\n",
       " 'mean_rho_sensitivity(MasseyRankingAlgorithm,BinaryFlipNoise(0.05))': 0.328079499862003,\n",
       " 'std_rho_sensitivity(MasseyRankingAlgorithm,BinaryFlipNoise(0.05))': 0.1252497746230735,\n",
       " 'ColleyRankingAlgorithm_DOL': 0.5968253968253968,\n",
       " 'mean_sensitivity(ColleyRankingAlgorithm,SwapNoise(0.05))': 0.1428571428571428,\n",
       " 'std_sensitivity(ColleyRankingAlgorithm,SwapNoise(0.05))': 0.04704414870563227,\n",
       " 'mean_rho_sensitivity(ColleyRankingAlgorithm,SwapNoise(0.05))': 0.3539571448864954,\n",
       " 'std_rho_sensitivity(ColleyRankingAlgorithm,SwapNoise(0.05))': 0.14794422927644413,\n",
       " 'mean_sensitivity(ColleyRankingAlgorithm,BinaryFlipNoise(0.05))': 0.15428571428571428,\n",
       " 'std_sensitivity(ColleyRankingAlgorithm,BinaryFlipNoise(0.05))': 0.04401607622206225,\n",
       " 'mean_rho_sensitivity(ColleyRankingAlgorithm,BinaryFlipNoise(0.05))': 0.3309346477591414,\n",
       " 'std_rho_sensitivity(ColleyRankingAlgorithm,BinaryFlipNoise(0.05))': 0.22182506697734936}"
      ]
     },
     "execution_count": 122,
     "metadata": {},
     "output_type": "execute_result"
    }
   ],
   "source": [
    "importlib.reload(sensitivity_tests)\n",
    "prob_inst_nfl2019_nfc = ProblemInstance(competitiveELOTournament)\n",
    "notsurewhatsgonnahppen = prob_inst_nfl2019_nfc.collect_data(correlation_metrics=kendall_tau, num_random_restarts=2, n_sensitivity_trials=5)\n",
    "notsurewhatsgonnahppen"
   ]
  },
  {
   "cell_type": "code",
   "execution_count": null,
   "metadata": {},
   "outputs": [],
   "source": [
    "\"\"\"\n",
    "for rankingAlg in ranking_algorithms:\n",
    "            perfect_ranking = rankingAlg.rank(D)\n",
    "            data[\"{}_DOL\".format(str(rankingAlg))] = np.triu(D[:,perfect_ranking][perfect_ranking,:],1).sum() / total_weight\n",
    "            for noiseGenerator in noise_generators:\n",
    "                # Measure the similarity between original ranking and post-noise ranking\n",
    "                # for many samples of noise.\n",
    "                cors = {}\n",
    "                for correlation_metric in correlation_metrics:\n",
    "                    cors[str(correlation_metric)] = []\n",
    "                taus = []\n",
    "                rhos = []\n",
    "                for trial_index in range(n_sensitivity_trials):\n",
    "                    D_noisy = noiseGenerator.apply_noise(D)\n",
    "                    noisy_ranking = rankingAlg.rank(D_noisy)\n",
    "                    for correlation_metric in correlation_metrics:\n",
    "                        cors[str(correlation_metric)].append(correlation_metric(perfect_ranking, noisy_ranking))\n",
    "                    #tau = kendall_tau(perfect_ranking, noisy_ranking)\n",
    "                    #taus.append(tau)\n",
    "                    #rho = stats.spearmanr\n",
    "                \n",
    "                # Transforms taus into \"sensitivity scores\" such that higher values mean more sensitive to noise\n",
    "                for correlation_metric in correlation_metrics:\n",
    "                    sensitivities = (1.0 - np.array(cors[correlation_metric])) / 2.0\n",
    "                    mean_tau_name = \"mean_sensitivity({},{})\".format(str(rankingAlg), str(noiseGenerator))\n",
    "                    data[mean_tau_name] = np.mean(sensitivities)\n",
    "                    std_tau_name = \"std_sensitivity({},{})\".format(str(rankingAlg), str(noiseGenerator))\n",
    "                    data[std_tau_name] = np.std(sensitivities)\n",
    "        \n",
    "        return data\"\"\""
   ]
  }
 ],
 "metadata": {
  "kernelspec": {
   "display_name": "Python 3",
   "language": "python",
   "name": "python3"
  },
  "language_info": {
   "codemirror_mode": {
    "name": "ipython",
    "version": 3
   },
   "file_extension": ".py",
   "mimetype": "text/x-python",
   "name": "python",
   "nbconvert_exporter": "python",
   "pygments_lexer": "ipython3",
   "version": "3.6.9"
  }
 },
 "nbformat": 4,
 "nbformat_minor": 4
}
