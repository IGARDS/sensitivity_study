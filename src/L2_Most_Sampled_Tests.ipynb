{
 "cells": [
  {
   "cell_type": "markdown",
   "metadata": {},
   "source": [
    "#### This file compares distances of vectors in P based on the Tau metric, contrasting between those obtained from sampling and from most distant.\n",
    "#### This would be considered an auxiliary file, as it is exploratory and not directly concerned with the testbed"
   ]
  },
  {
   "cell_type": "code",
   "execution_count": 8,
   "metadata": {},
   "outputs": [
    {
     "data": {
      "text/plain": [
       "'###rerun with tau comparison###'"
      ]
     },
     "execution_count": 8,
     "metadata": {},
     "output_type": "execute_result"
    }
   ],
   "source": [
    "from sensitivity_tests import *\n",
    "import pandas as pd\n",
    "\n",
    "#A programmer's note to themselves. Beautiful\n",
    "\"\"\"###rerun with tau comparison###\"\"\""
   ]
  },
  {
   "cell_type": "code",
   "execution_count": null,
   "metadata": {},
   "outputs": [],
   "source": [
    "#D matrix generators\n",
    "eloTournament = SynthELOTournamentSource(50, 5, 80, 800)\n",
    "smalleloTournament = SynthELOTournamentSource(4, 5, 80, 800)\n",
    "l2dm = L2DifferenceMetric(\"max\")\n",
    "    \n",
    "eloMatrix = eloTournament.init_D()\n",
    "smalleloMatrix = smalleloTournament.init_D()\n",
    "\n",
    "k, details = pyrankability.search.solve_pair_max_tau(eloMatrix)\n",
    "\n",
    "print(l2dm._compute(k, [details[\"perm_x\"],details[\"perm_y\"]]))\n",
    "k, details = pyrankability.search.solve_pair_max_tau(smalleloMatrix)\n",
    "\n",
    "print(l2dm._compute(k, [details[\"perm_x\"],details[\"perm_y\"]]))\n",
    "\n",
    "most_dist = []\n",
    "sampled_dist = []\n",
    "\n",
    "#Very straightforward. Generate tournament matricies, locate members of P with both methods, \n",
    "#and place in corresponding arrays.\n",
    "for i in range(30):     \n",
    "    eloMatrix = eloTournament.init_D()\n",
    "    \n",
    "    k, details = pyrankability.search.bilp(eloMatrix, num_random_restarts=10, find_pair=True)\n",
    "    \n",
    "    sampled_dist.append(l2dm._compute(k, details[\"P\"]))\n",
    "    \n",
    "    k_most, details_most = pyrankability.search.solve_pair_max_tau(eloMatrix)\n",
    "    \n",
    "    most_dist.append(l2dm._compute(k_most, [details_most[\"perm_x\"],details_most[\"perm_y\"]]))\n",
    "    \n",
    "comp = pd.DataFrame(data={'most_distant': most_dist, 'sampled_most_distant': sampled_dist})\n",
    "comp\n",
    "comp.plot.scatter(\"most_distant\", \"sampled_most_distant\", title=\"Comparison of L2 Metric\")\n",
    "\n",
    "[(most_dist[i]-sampled_dist[i]) for i in range(len(most_dist))]"
   ]
  },
  {
   "cell_type": "code",
   "execution_count": null,
   "metadata": {},
   "outputs": [],
   "source": [
    "sampled_dist"
   ]
  },
  {
   "cell_type": "code",
   "execution_count": null,
   "metadata": {},
   "outputs": [],
   "source": [
    "most_dist"
   ]
  },
  {
   "cell_type": "code",
   "execution_count": 18,
   "metadata": {},
   "outputs": [
    {
     "data": {
      "text/plain": [
       "<matplotlib.axes._subplots.AxesSubplot at 0x7f4f161709b0>"
      ]
     },
     "execution_count": 18,
     "metadata": {},
     "output_type": "execute_result"
    },
    {
     "data": {
      "image/png": "[encoded data removed]",
      "text/plain": [
       "<Figure size 432x288 with 1 Axes>"
      ]
     },
     "metadata": {
      "needs_background": "light"
     },
     "output_type": "display_data"
    }
   ],
   "source": [
    "comp = pd.DataFrame(data={'most_distant': most_dist, 'sampled_most_distant': sampled_dist})\n",
    "comp\n",
    "comp.plot.scatter(\"most_distant\", \"sampled_most_distant\", title=\"Comparison of L2 Metric\")"
   ]
  },
  {
   "cell_type": "code",
   "execution_count": null,
   "metadata": {},
   "outputs": [],
   "source": [
    "#ensuring data matches what is expected/presented\n",
    "[(most_dist[i]-sampled_dist[i]) for i in range(len(most_dist))]"
   ]
  },
  {
   "cell_type": "code",
   "execution_count": null,
   "metadata": {},
   "outputs": [],
   "source": [
    "#ensuring data matches what is expected/presented\n",
    "comp = pd.DataFrame(data={'most_distant': most_dist, 'sampled_most_distant': sampled_dist})\n",
    "comp\n",
    "comp.plot.scatter(\"most_distant\", \"sampled_most_distant\", title=\"Comparison of L2 Metric\")\n",
    "with pd.option_context('display.max_rows', None, 'display.max_columns', None):  # more options can be specified also\n",
    "    display(comp)\n",
    "[(most_dist[i]-sampled_dist[i]) for i in range(len(most_dist))]"
   ]
  },
  {
   "cell_type": "code",
   "execution_count": null,
   "metadata": {},
   "outputs": [],
   "source": [
    "comp.to_csv(index=True)"
   ]
  },
  {
   "cell_type": "code",
   "execution_count": null,
   "metadata": {},
   "outputs": [],
   "source": [
    "comp = pd.DataFrame(data={'most_distant': most_dist, 'sampled_most_distant': sampled_dist})\n",
    "comp\n",
    "comp.plot.scatter(\"most_distant\", \"sampled_most_distant\", title=\"Comparison of L2 Metric\")\n",
    "\n",
    "[(most_dist[i]-sampled_dist[i]) for i in range(len(most_dist))]"
   ]
  },
  {
   "cell_type": "code",
   "execution_count": null,
   "metadata": {},
   "outputs": [],
   "source": [
    "comp.to_csv(index=True)"
   ]
  }
 ],
 "metadata": {
  "kernelspec": {
   "display_name": "Python 3",
   "language": "python",
   "name": "python3"
  },
  "language_info": {
   "codemirror_mode": {
    "name": "ipython",
    "version": 3
   },
   "file_extension": ".py",
   "mimetype": "text/x-python",
   "name": "python",
   "nbconvert_exporter": "python",
   "pygments_lexer": "ipython3",
   "version": "3.6.9"
  }
 },
 "nbformat": 4,
 "nbformat_minor": 4
}
