{
 "cells": [
  {
   "cell_type": "code",
   "execution_count": 23,
   "metadata": {},
   "outputs": [],
   "source": [
    "sys.path.append(\"~/rankability_toolbox\")\n",
    "import pyrankability\n",
    "from sensitivity_tests import *\n",
    "import pandas as pd\n",
    "from utilities import *"
   ]
  },
  {
   "cell_type": "code",
   "execution_count": 26,
   "metadata": {},
   "outputs": [
    {
     "name": "stdout",
     "output_type": "stream",
     "text": [
      "Read MPS format model from file /tmp/tmp7e4489cs/model.mps\n",
      "Reading time = 0.00 seconds\n",
      "hillside: 20 rows, 10 columns, 60 nonzeros\n",
      "Read MPS format model from file /tmp/tmp7e4489cs/model.mps\n",
      "Reading time = 0.00 seconds\n",
      "hillside: 20 rows, 10 columns, 60 nonzeros\n",
      "Read MPS format model from file /tmp/tmp7e4489cs/model.mps\n",
      "Reading time = 0.00 seconds\n",
      "hillside: 20 rows, 10 columns, 60 nonzeros\n",
      "Read MPS format model from file /tmp/tmp7e4489cs/model.mps\n",
      "Reading time = 0.00 seconds\n",
      "hillside: 20 rows, 10 columns, 60 nonzeros\n",
      "Read MPS format model from file /tmp/tmp7e4489cs/model.mps\n",
      "Reading time = 0.00 seconds\n",
      "hillside: 20 rows, 10 columns, 60 nonzeros\n",
      "Read MPS format model from file /tmp/tmp7e4489cs/model.mps\n",
      "Reading time = 0.00 seconds\n",
      "hillside: 20 rows, 10 columns, 60 nonzeros\n",
      "Read MPS format model from file /tmp/tmp7e4489cs/model.mps\n",
      "Reading time = 0.00 seconds\n",
      "hillside: 20 rows, 10 columns, 60 nonzeros\n",
      "Read MPS format model from file /tmp/tmp7e4489cs/model.mps\n",
      "Reading time = 0.00 seconds\n",
      "hillside: 20 rows, 10 columns, 60 nonzeros\n",
      "Read MPS format model from file /tmp/tmp7e4489cs/model.mps\n",
      "Reading time = 0.00 seconds\n",
      "hillside: 20 rows, 10 columns, 60 nonzeros\n",
      "Read MPS format model from file /tmp/tmp7e4489cs/model.mps\n",
      "Reading time = 0.00 seconds\n",
      "hillside: 20 rows, 10 columns, 60 nonzeros\n",
      "Read MPS format model from file /tmp/tmp7e4489cs/model.mps\n",
      "Reading time = 0.00 seconds\n",
      "hillside: 20 rows, 10 columns, 60 nonzeros\n",
      "Read MPS format model from file /tmp/tmp7e4489cs/model.mps\n",
      "Reading time = 0.00 seconds\n",
      "hillside: 20 rows, 10 columns, 60 nonzeros\n",
      "Read MPS format model from file /tmp/tmp7e4489cs/model.mps\n",
      "Reading time = 0.00 seconds\n",
      "hillside: 20 rows, 10 columns, 60 nonzeros\n"
     ]
    },
    {
     "ename": "AttributeError",
     "evalue": "module 'pyrankability' has no attribute 'hillside'",
     "output_type": "error",
     "traceback": [
      "\u001b[0;31m---------------------------------------------------------------------------\u001b[0m",
      "\u001b[0;31mAttributeError\u001b[0m                            Traceback (most recent call last)",
      "\u001b[0;32m<ipython-input-26-82faf42bfff3>\u001b[0m in \u001b[0;36m<module>\u001b[0;34m\u001b[0m\n\u001b[1;32m     36\u001b[0m     \u001b[0mmassey_ranks\u001b[0m\u001b[0;34m[\u001b[0m\u001b[0;34m\"small\"\u001b[0m\u001b[0;34m]\u001b[0m\u001b[0;34m.\u001b[0m\u001b[0mappend\u001b[0m\u001b[0;34m(\u001b[0m\u001b[0mmassey\u001b[0m\u001b[0;34m.\u001b[0m\u001b[0mrank\u001b[0m\u001b[0;34m(\u001b[0m\u001b[0meloMatrixSmall\u001b[0m\u001b[0;34m)\u001b[0m\u001b[0;34m)\u001b[0m\u001b[0;34m\u001b[0m\u001b[0;34m\u001b[0m\u001b[0m\n\u001b[1;32m     37\u001b[0m \u001b[0;34m\u001b[0m\u001b[0m\n\u001b[0;32m---> 38\u001b[0;31m     \u001b[0mk\u001b[0m\u001b[0;34m,\u001b[0m \u001b[0mdetails\u001b[0m \u001b[0;34m=\u001b[0m \u001b[0mpyrankability\u001b[0m\u001b[0;34m.\u001b[0m\u001b[0mhillside\u001b[0m\u001b[0;34m.\u001b[0m\u001b[0mbilp\u001b[0m\u001b[0;34m(\u001b[0m\u001b[0mcompELOMatrixSmall\u001b[0m\u001b[0;34m,\u001b[0m \u001b[0mnum_random_restarts\u001b[0m\u001b[0;34m=\u001b[0m\u001b[0;36m6\u001b[0m\u001b[0;34m,\u001b[0m \u001b[0mfind_pair\u001b[0m\u001b[0;34m=\u001b[0m\u001b[0;32mTrue\u001b[0m\u001b[0;34m)\u001b[0m\u001b[0;34m\u001b[0m\u001b[0;34m\u001b[0m\u001b[0m\n\u001b[0m\u001b[1;32m     39\u001b[0m     \u001b[0mP_sets\u001b[0m\u001b[0;34m[\u001b[0m\u001b[0;34m\"compsmall\"\u001b[0m\u001b[0;34m]\u001b[0m\u001b[0;34m.\u001b[0m\u001b[0mappend\u001b[0m\u001b[0;34m(\u001b[0m\u001b[0mlist\u001b[0m\u001b[0;34m(\u001b[0m\u001b[0mset\u001b[0m\u001b[0;34m(\u001b[0m\u001b[0mdetails\u001b[0m\u001b[0;34m[\u001b[0m\u001b[0;34m\"P\"\u001b[0m\u001b[0;34m]\u001b[0m\u001b[0;34m)\u001b[0m\u001b[0;34m)\u001b[0m\u001b[0;34m)\u001b[0m\u001b[0;34m\u001b[0m\u001b[0;34m\u001b[0m\u001b[0m\n\u001b[1;32m     40\u001b[0m     \u001b[0mmassey_ranks\u001b[0m\u001b[0;34m[\u001b[0m\u001b[0;34m\"compsmall\"\u001b[0m\u001b[0;34m]\u001b[0m\u001b[0;34m.\u001b[0m\u001b[0mappend\u001b[0m\u001b[0;34m(\u001b[0m\u001b[0mmassey\u001b[0m\u001b[0;34m.\u001b[0m\u001b[0mrank\u001b[0m\u001b[0;34m(\u001b[0m\u001b[0mcompELOMatrixSmall\u001b[0m\u001b[0;34m)\u001b[0m\u001b[0;34m)\u001b[0m\u001b[0;34m\u001b[0m\u001b[0;34m\u001b[0m\u001b[0m\n",
      "\u001b[0;31mAttributeError\u001b[0m: module 'pyrankability' has no attribute 'hillside'"
     ]
    }
   ],
   "source": [
    "massey = MasseyRankingAlgorithm()\n",
    "\n",
    "eloTournamentSmall = SynthELOTournamentSource(5, 5, 100, 800)\n",
    "competitiveELOTournamentSmall = SynthELOTournamentSource(5, 3, 8, 800)\n",
    "eloTournament = SynthELOTournamentSource(10, 5, 100, 800)\n",
    "competitiveELOTournament = SynthELOTournamentSource(10, 3, 8, 800)\n",
    "eloTournamentBig = SynthELOTournamentSource(20, 5, 100, 800)\n",
    "competitiveELOTournamentBig = SynthELOTournamentSource(20, 3, 8, 800)\n",
    "\n",
    "\n",
    "\n",
    "massey_ranks = {}\n",
    "massey_ranks[\"small\"] = []\n",
    "massey_ranks[\"compsmall\"] = []\n",
    "massey_ranks[\"normal\"] = []\n",
    "massey_ranks[\"compnormal\"] = []\n",
    "massey_ranks[\"big\"] = []\n",
    "massey_ranks[\"compbig\"] = []\n",
    "P_sets = {}\n",
    "P_sets[\"small\"] = []\n",
    "P_sets[\"compsmall\"] = []\n",
    "P_sets[\"normal\"] = []\n",
    "P_sets[\"compnormal\"] = []\n",
    "P_sets[\"big\"] = []\n",
    "P_sets[\"compbig\"] = []\n",
    "for i in range(100):\n",
    "    eloMatrixSmall = eloTournamentSmall.init_D()\n",
    "    compELOMatrixSmall = competitiveELOTournamentSmall.init_D()\n",
    "    eloMatrix = eloTournament.init_D()\n",
    "    compELOMatrix = competitiveELOTournament.init_D()\n",
    "    eloMatrixBig = eloTournamentBig.init_D()\n",
    "    compELOMatrixBig = competitiveELOTournamentBig.init_D()\n",
    "    \n",
    "    k, details = pyrankability.rank.solve(eloMatrixSmall, method=\"hillside\", num_random_restarts=6, find_pair=True)\n",
    "    P_sets[\"small\"].append(list(set(details[\"P\"])))\n",
    "    massey_ranks[\"small\"].append(massey.rank(eloMatrixSmall))\n",
    "    \n",
    "    k, details = pyrankability.rank.solve(compELOMatrixSmall, method=\"hillside\", num_random_restarts=6, find_pair=True)\n",
    "    P_sets[\"compsmall\"].append(list(set(details[\"P\"])))\n",
    "    massey_ranks[\"compsmall\"].append(massey.rank(compELOMatrixSmall))\n",
    "    \n",
    "    k, details = pyrankability.rank.solve(eloMatrix, method=\"hillside\", num_random_restarts=12, find_pair=True)\n",
    "    P_sets[\"normal\"].append(list(set(details[\"P\"])))\n",
    "    massey_ranks[\"normal\"].append(massey.rank(eloMatrix))\n",
    "    \n",
    "    k, details = pyrankability.rank.solve(compELOMatrix, method=\"hillside\", num_random_restarts=12, find_pair=True)\n",
    "    P_sets[\"compnormal\"].append(list(set(details[\"P\"])))\n",
    "    massey_ranks[\"compnormal\"].append(massey.rank(compELOMatrix))\n",
    "    \n",
    "    k, details = pyrankability.rank.solve(eloMatrixBig, method=\"hillside\", num_random_restarts=20, find_pair=True)\n",
    "    P_sets[\"big\"].append(list(set(details[\"P\"])))\n",
    "    massey_ranks[\"big\"].append(massey.rank(eloMatrixBig))\n",
    "    \n",
    "    k, details = pyrankability.rank.solve(compELOMatrixBig, method=\"hillside\", num_random_restarts=20, find_pair=True)\n",
    "    P_sets[\"compbig\"].append(list(set(details[\"P\"])))\n",
    "    massey_ranks[\"compbig\"].append(massey.rank(compELOMatrixBig))\n",
    "\n"
   ]
  },
  {
   "cell_type": "code",
   "execution_count": 21,
   "metadata": {},
   "outputs": [
    {
     "ename": "NameError",
     "evalue": "name 'tausdf' is not defined",
     "output_type": "error",
     "traceback": [
      "\u001b[0;31m---------------------------------------------------------------------------\u001b[0m",
      "\u001b[0;31mNameError\u001b[0m                                 Traceback (most recent call last)",
      "\u001b[0;32m<ipython-input-21-528d853e4a7a>\u001b[0m in \u001b[0;36m<module>\u001b[0;34m\u001b[0m\n\u001b[1;32m     15\u001b[0m \u001b[0mtaudfs\u001b[0m \u001b[0;34m=\u001b[0m \u001b[0;34m[\u001b[0m\u001b[0;34m]\u001b[0m\u001b[0;34m\u001b[0m\u001b[0;34m\u001b[0m\u001b[0m\n\u001b[1;32m     16\u001b[0m \u001b[0;32mfor\u001b[0m \u001b[0mq\u001b[0m \u001b[0;32min\u001b[0m \u001b[0mtaus\u001b[0m\u001b[0;34m.\u001b[0m\u001b[0mkeys\u001b[0m\u001b[0;34m(\u001b[0m\u001b[0;34m)\u001b[0m\u001b[0;34m:\u001b[0m\u001b[0;34m\u001b[0m\u001b[0;34m\u001b[0m\u001b[0m\n\u001b[0;32m---> 17\u001b[0;31m     \u001b[0mtaudfs\u001b[0m\u001b[0;34m.\u001b[0m\u001b[0mappend\u001b[0m\u001b[0;34m(\u001b[0m\u001b[0mtausdf\u001b[0m\u001b[0;34m)\u001b[0m\u001b[0;34m\u001b[0m\u001b[0;34m\u001b[0m\u001b[0m\n\u001b[0m\u001b[1;32m     18\u001b[0m     \u001b[0mtausdf\u001b[0m \u001b[0;34m=\u001b[0m \u001b[0mpd\u001b[0m\u001b[0;34m.\u001b[0m\u001b[0mDataFrame\u001b[0m\u001b[0;34m(\u001b[0m\u001b[0mtaus\u001b[0m\u001b[0;34m[\u001b[0m\u001b[0mq\u001b[0m\u001b[0;34m]\u001b[0m\u001b[0;34m)\u001b[0m\u001b[0;34m\u001b[0m\u001b[0;34m\u001b[0m\u001b[0m\n\u001b[1;32m     19\u001b[0m     \u001b[0;32mif\u001b[0m \u001b[0;34m\"small\"\u001b[0m \u001b[0;32min\u001b[0m \u001b[0mq\u001b[0m\u001b[0;34m:\u001b[0m\u001b[0;34m\u001b[0m\u001b[0;34m\u001b[0m\u001b[0m\n",
      "\u001b[0;31mNameError\u001b[0m: name 'tausdf' is not defined"
     ]
    }
   ],
   "source": [
    "taus = {}\n",
    "for j in massey_ranks.keys():\n",
    "    taus[j] = []\n",
    "    #print(j)\n",
    "    #print(len(massey_ranks[j]))\n",
    "    #print(len(P_sets[j]))\n",
    "    #print(massey_ranks[j])\n",
    "    #print(P_sets[j])\n",
    "    for k in range(len(massey_ranks[j])):\n",
    "        for o in range(len(P_sets[j][k])):\n",
    "            taus[j].append(kendall_tau(massey_ranks[j][k], P_sets[j][k][o]))\n",
    "#tausdf = pd.DataFrame(taus)\n",
    "#tausdf.plot.hist(\"Taus\", title=\"Taus between Massey Ranking and Members of P for Low-Variance ELO Tournament, n=10\")\n",
    "taus\n",
    "taudfs = []\n",
    "for q in taus.keys():\n",
    "    taudfs.append(tausdf)\n",
    "    tausdf = pd.DataFrame(taus[q])\n",
    "    if \"small\" in q:\n",
    "        tausdf.plot.hist(\"Taus\", title=\"Taus between Massey Ranking and Members of P for Low-Variance ELO Tournament, n=5\")\n",
    "    elif \"big\" in q:\n",
    "        tausdf.plot.hist(\"Taus\", title=\"Taus between Massey Ranking and Members of P for Low-Variance ELO Tournament, n=20\")\n",
    "    else:\n",
    "        tausdf.plot.hist(\"Taus\", title=\"Taus between Massey Ranking and Members of P for Low-Variance ELO Tournament, n=10\")        \n",
    "for i in range(len(taudfs)):\n",
    "        taudfs[i].to_csv(\"taudf\" + str(i) + \".csv\")"
   ]
  },
  {
   "cell_type": "code",
   "execution_count": 2,
   "metadata": {},
   "outputs": [
    {
     "ename": "NameError",
     "evalue": "name 'massey_ranks' is not defined",
     "output_type": "error",
     "traceback": [
      "\u001b[0;31m---------------------------------------------------------------------------\u001b[0m",
      "\u001b[0;31mNameError\u001b[0m                                 Traceback (most recent call last)",
      "\u001b[0;32m<ipython-input-2-05494f497b9a>\u001b[0m in \u001b[0;36m<module>\u001b[0;34m\u001b[0m\n\u001b[1;32m      1\u001b[0m \u001b[0mtaus\u001b[0m \u001b[0;34m=\u001b[0m \u001b[0;34m{\u001b[0m\u001b[0;34m}\u001b[0m\u001b[0;34m\u001b[0m\u001b[0;34m\u001b[0m\u001b[0m\n\u001b[0;32m----> 2\u001b[0;31m \u001b[0;32mfor\u001b[0m \u001b[0mj\u001b[0m \u001b[0;32min\u001b[0m \u001b[0mmassey_ranks\u001b[0m\u001b[0;34m.\u001b[0m\u001b[0mkeys\u001b[0m\u001b[0;34m(\u001b[0m\u001b[0;34m)\u001b[0m\u001b[0;34m:\u001b[0m\u001b[0;34m\u001b[0m\u001b[0;34m\u001b[0m\u001b[0m\n\u001b[0m\u001b[1;32m      3\u001b[0m     \u001b[0mtaus\u001b[0m\u001b[0;34m[\u001b[0m\u001b[0mj\u001b[0m\u001b[0;34m]\u001b[0m \u001b[0;34m=\u001b[0m \u001b[0;34m[\u001b[0m\u001b[0;34m]\u001b[0m\u001b[0;34m\u001b[0m\u001b[0;34m\u001b[0m\u001b[0m\n\u001b[1;32m      4\u001b[0m     \u001b[0;31m#print(j)\u001b[0m\u001b[0;34m\u001b[0m\u001b[0;34m\u001b[0m\u001b[0;34m\u001b[0m\u001b[0m\n\u001b[1;32m      5\u001b[0m     \u001b[0;31m#print(len(massey_ranks[j]))\u001b[0m\u001b[0;34m\u001b[0m\u001b[0;34m\u001b[0m\u001b[0;34m\u001b[0m\u001b[0m\n",
      "\u001b[0;31mNameError\u001b[0m: name 'massey_ranks' is not defined"
     ]
    }
   ],
   "source": [
    "taus = {}\n",
    "for j in massey_ranks.keys():\n",
    "    taus[j] = []\n",
    "    #print(j)\n",
    "    #print(len(massey_ranks[j]))\n",
    "    #print(len(P_sets[j]))\n",
    "    #print(massey_ranks[j])\n",
    "    #print(P_sets[j])\n",
    "    for k in range(len(massey_ranks[j])):\n",
    "        for o in range(len(P_sets[j][k])):\n",
    "            taus[j].append(kendall_tau(massey_ranks[j][k], P_sets[j][k][o]))\n",
    "#tausdf = pd.DataFrame(taus)\n",
    "#tausdf.plot.hist(\"Taus\", title=\"Taus between Massey Ranking and Members of P for Low-Variance ELO Tournament, n=10\")\n",
    "taus\n",
    "taudfs = []\n",
    "for q in taus.keys():\n",
    "    taudfs.append(tausdf)\n",
    "    tausdf = pd.DataFrame(taus[q])\n",
    "    if \"small\" in q:\n",
    "        tausdf.plot.hist(\"Taus\", title=\"Taus between Massey Ranking and Members of P for Low-Variance ELO Tournament, n=5\", xlim=(-1,1))\n",
    "    elif \"big\" in q:\n",
    "        tausdf.plot.hist(\"Taus\", title=\"Taus between Massey Ranking and Members of P for Low-Variance ELO Tournament, n=20\", xlim=(-1,1))\n",
    "    else:\n",
    "        tausdf.plot.hist(\"Taus\", title=\"Taus between Massey Ranking and Members of P for Low-Variance ELO Tournament, n=10\",xlim=(-1,1))        "
   ]
  },
  {
   "cell_type": "code",
   "execution_count": 72,
   "metadata": {},
   "outputs": [],
   "source": [
    "'''taus = []\n",
    "for k in range(len(massey_ranks)):\n",
    "    #print(massey_ranks[k], end='         ')\n",
    "    #print(P_sets[k])\n",
    "    for o in range(len(list(P_sets[k]))):\n",
    "        taus.append(kendall_tau(massey_ranks[k], list(P_sets[k])[o]))\n",
    "tausdf = pd.DataFrame({\"Taus\": taus})\n",
    "tausdf.plot.hist(\"Taus\", title=\"Taus between Massey Ranking and Members of P for Low-Variance ELO Tournament, n=10\")'''\n",
    "\n",
    "P_sets\n",
    "psetdfs = []\n",
    "for q in P_sets.keys():\n",
    "    psetdf = pd.DataFrame(P_sets[q])\n",
    "    psetdfs.append(psetdf)\n",
    "    psetdf.to_csv(\"psetdf\" + str(q) + \".csv\")"
   ]
  },
  {
   "cell_type": "code",
   "execution_count": 74,
   "metadata": {},
   "outputs": [],
   "source": [
    "\"\"\"taus = []\n",
    "for k in range(len(massey_ranks)):\n",
    "    #print(massey_ranks[k], end='         ')\n",
    "    #print(P_sets[k])\n",
    "    for o in range(len(list(P_sets[k]))):\n",
    "        taus.append(kendall_tau(massey_ranks[k], list(P_sets[k])[o]))\n",
    "tausdf = pd.DataFrame({\"Taus\": taus})\n",
    "tausdf.plot.hist(\"Taus\", title=\"Taus between Massey Ranking and Members of P for Low-Variance ELO Tournament, n=10\")\n",
    "P_sets\n",
    "massey_ranks\"\"\"\n",
    "\n",
    "massey_ranks\n",
    "psetdfs = []\n",
    "for q in massey_ranks.keys():\n",
    "    psetdf = pd.DataFrame(massey_ranks[q])\n",
    "    psetdfs.append(psetdf)\n",
    "    psetdf.to_csv(\"masseyranksdf\" + str(q) + \".csv\")"
   ]
  },
  {
   "cell_type": "code",
   "execution_count": null,
   "metadata": {},
   "outputs": [],
   "source": [
    "colley = ColleyRankingAlgorithm()\n",
    "\n",
    "eloTournamentSmall = SynthELOTournamentSource(5, 1, 100, 800)\n",
    "competitiveELOTournamentSmall = SynthELOTournamentSource(5, 1, 8, 800)\n",
    "eloTournament = SynthELOTournamentSource(10, 1, 100, 800)\n",
    "competitiveELOTournament = SynthELOTournamentSource(10, 1, 8, 800)\n",
    "eloTournamentBig = SynthELOTournamentSource(20, 1, 100, 800)\n",
    "competitiveELOTournamentBig = SynthELOTournamentSource(20, 1, 8, 800)\n",
    "\n",
    "colley_ranks = []\n",
    "P_sets_c = []\n",
    "for i in range(100):\n",
    "    compELOMatrix = competitiveELOTournament.init_D()\n",
    "\n",
    "    k, details = pyrankability.hillside.bilp(compELOMatrix, num_random_restarts=15, find_pair=True)\n",
    "\n",
    "    #sampled_dist.append(l2dm._compute(k, details[\"P\"]))\n",
    "    colley_ranks.append(massey.rank(compELOMatrix))\n",
    "    P_sets_c.append(set(details[\"P\"]))"
   ]
  },
  {
   "cell_type": "code",
   "execution_count": 46,
   "metadata": {},
   "outputs": [
    {
     "data": {
      "text/plain": [
       "<matplotlib.axes._subplots.AxesSubplot at 0x7fe0450cc2b0>"
      ]
     },
     "execution_count": 46,
     "metadata": {},
     "output_type": "execute_result"
    },
    {
     "data": {
      "image/png": "[encoded data removed]",
      "text/plain": [
       "<Figure size 432x288 with 1 Axes>"
      ]
     },
     "metadata": {
      "needs_background": "light"
     },
     "output_type": "display_data"
    }
   ],
   "source": [
    "colley_ranks\n",
    "P_sets_c\n",
    "tausc = []\n",
    "for k in range(len(colley_ranks)):\n",
    "    #print(massey_ranks[k], end='         ')\n",
    "    #print(P_sets[k])\n",
    "    for o in range(len(list(P_sets[k]))):\n",
    "        tausc.append(kendall_tau(massey_ranks[k], list(P_sets[k])[o]))\n",
    "tausc\n",
    "tauscdf = pd.DataFrame({\"Taus Colley\": tausc})\n",
    "tauscdf.plot.hist(\"Taus Colley\", title=\"Taus between Colley Ranking and Members of P for Low-Variance ELO Tournament, n=10\")"
   ]
  },
  {
   "cell_type": "code",
   "execution_count": null,
   "metadata": {},
   "outputs": [],
   "source": []
  }
 ],
 "metadata": {
  "kernelspec": {
   "display_name": "Python 3",
   "language": "python",
   "name": "python3"
  },
  "language_info": {
   "codemirror_mode": {
    "name": "ipython",
    "version": 3
   },
   "file_extension": ".py",
   "mimetype": "text/x-python",
   "name": "python",
   "nbconvert_exporter": "python",
   "pygments_lexer": "ipython3",
   "version": "3.6.9"
  }
 },
 "nbformat": 4,
 "nbformat_minor": 4
}
