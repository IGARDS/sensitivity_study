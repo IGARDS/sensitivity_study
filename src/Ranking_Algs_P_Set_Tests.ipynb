{
 "cells": [
  {
   "cell_type": "code",
   "execution_count": 1,
   "metadata": {},
   "outputs": [],
   "source": [
    "from sensitivity_tests import *\n",
    "import pandas as pd\n",
    "from utilities import *"
   ]
  },
  {
   "cell_type": "code",
   "execution_count": null,
   "metadata": {},
   "outputs": [],
   "source": [
    "massey = MasseyRankingAlgorithm()\n",
    "colley = ColleyRankingAlgorithm()\n",
    "\n",
    "eloTournament = SynthELOTournamentSource(10, 5, 80, 800)\n",
    "competitiveELOTournament = SynthELOTournamentSource(10, 3, 8, 800)\n",
    "\n",
    "eloMatrix = eloTournament.init_D()\n",
    "\n",
    "massey_ranks = []\n",
    "P_sets = []\n",
    "for i in range(100):\n",
    "    compELOMatrix = competitiveELOTournament.init_D()\n",
    "\n",
    "    k, details = pyrankability.hillside.bilp(compELOMatrix, num_random_restarts=15, find_pair=True)\n",
    "\n",
    "    #sampled_dist.append(l2dm._compute(k, details[\"P\"]))\n",
    "    massey_ranks.append(massey.rank(compELOMatrix))\n",
    "    P_sets.append(set(details[\"P\"]))"
   ]
  },
  {
   "cell_type": "code",
   "execution_count": 31,
   "metadata": {},
   "outputs": [
    {
     "data": {
      "text/plain": [
       "<matplotlib.axes._subplots.AxesSubplot at 0x7fe045152828>"
      ]
     },
     "execution_count": 31,
     "metadata": {},
     "output_type": "execute_result"
    },
    {
     "data": {
      "image/png": "[encoded data removed]",
      "text/plain": [
       "<Figure size 432x288 with 1 Axes>"
      ]
     },
     "metadata": {
      "needs_background": "light"
     },
     "output_type": "display_data"
    }
   ],
   "source": [
    "taus = []\n",
    "for k in range(len(massey_ranks)):\n",
    "    #print(massey_ranks[k], end='         ')\n",
    "    #print(P_sets[k])\n",
    "    for o in range(len(list(P_sets[k]))):\n",
    "        taus.append(kendall_tau(massey_ranks[k], list(P_sets[k])[o]))\n",
    "tausdf = pd.DataFrame({\"Taus\": taus})\n",
    "tausdf.plot.hist(\"Taus\", title=\"Taus between Massey Ranking and Members of P for Low-Variance ELO Tournament, n=10\")"
   ]
  },
  {
   "cell_type": "code",
   "execution_count": null,
   "metadata": {},
   "outputs": [],
   "source": [
    "colley = ColleyRankingAlgorithm()\n",
    "\n",
    "competitiveELOTournament = SynthELOTournamentSource(10, 1, 8, 800)\n",
    "competitiveELOTournament.init_D()\n",
    "\n",
    "colley_ranks = []\n",
    "P_sets_c = []\n",
    "for i in range(100):\n",
    "    compELOMatrix = competitiveELOTournament.init_D()\n",
    "\n",
    "    k, details = pyrankability.hillside.bilp(compELOMatrix, num_random_restarts=15, find_pair=True)\n",
    "\n",
    "    #sampled_dist.append(l2dm._compute(k, details[\"P\"]))\n",
    "    colley_ranks.append(massey.rank(compELOMatrix))\n",
    "    P_sets_c.append(set(details[\"P\"]))"
   ]
  },
  {
   "cell_type": "code",
   "execution_count": 45,
   "metadata": {},
   "outputs": [
    {
     "name": "stdout",
     "output_type": "stream",
     "text": [
      "[2, 4, 6, 8, 3, 0, 5, 1, 7, 9]         {(4, 2, 0, 8, 9, 3, 6, 5, 1, 7), (4, 2, 6, 9, 0, 8, 3, 5, 1, 7), (4, 2, 8, 9, 0, 3, 6, 5, 1, 7), (4, 2, 6, 8, 9, 0, 3, 5, 1, 7), (4, 2, 9, 0, 8, 3, 6, 5, 1, 7)}\n",
      "[4, 7, 2, 1, 5, 0, 6, 3, 8, 9]         {(4, 7, 2, 1, 9, 0, 5, 6, 3, 8), (7, 4, 2, 1, 9, 0, 5, 6, 3, 8)}\n",
      "[0, 3, 6, 1, 4, 2, 8, 5, 7, 9]         {(0, 6, 3, 1, 9, 4, 8, 2, 5, 7), (0, 3, 6, 1, 9, 4, 8, 2, 5, 7)}\n",
      "[4, 6, 7, 2, 1, 0, 8, 3, 5, 9]         {(4, 7, 6, 9, 2, 1, 3, 0, 8, 5), (4, 6, 7, 2, 9, 1, 0, 3, 8, 5), (4, 6, 7, 9, 2, 1, 0, 8, 3, 5), (4, 6, 7, 2, 9, 1, 0, 8, 3, 5), (4, 6, 7, 9, 2, 1, 0, 3, 8, 5)}\n",
      "[7, 5, 8, 0, 3, 1, 4, 6, 2, 9]         {(9, 7, 5, 8, 0, 3, 4, 1, 6, 2), (9, 7, 5, 8, 0, 3, 1, 4, 6, 2)}\n",
      "[7, 8, 1, 3, 6, 5, 2, 0, 4, 9]         {(7, 1, 8, 6, 5, 3, 2, 4, 0, 9), (1, 7, 8, 6, 5, 3, 2, 4, 9, 0), (7, 1, 8, 6, 5, 3, 2, 4, 9, 0), (1, 7, 8, 6, 5, 3, 2, 4, 0, 9)}\n",
      "[4, 6, 8, 3, 1, 7, 5, 0, 2, 9]         {(9, 8, 4, 6, 3, 1, 5, 2, 0, 7), (9, 4, 8, 6, 3, 1, 5, 2, 0, 7)}\n",
      "[7, 0, 4, 6, 3, 8, 5, 2, 1, 9]         {(0, 7, 4, 3, 6, 8, 5, 2, 9, 1), (0, 7, 4, 3, 6, 5, 8, 2, 9, 1)}\n",
      "[4, 3, 6, 5, 8, 7, 0, 2, 1, 9]         {(3, 6, 4, 5, 8, 2, 0, 7, 9, 1), (6, 3, 4, 5, 8, 0, 2, 7, 9, 1), (3, 6, 4, 5, 8, 0, 2, 7, 9, 1), (6, 3, 4, 5, 8, 2, 0, 7, 9, 1)}\n",
      "[8, 0, 6, 1, 4, 7, 5, 3, 2, 9]         {(8, 9, 0, 6, 1, 7, 4, 3, 5, 2), (9, 8, 0, 6, 1, 7, 4, 3, 5, 2), (9, 8, 0, 6, 1, 7, 4, 5, 3, 2)}\n",
      "[7, 0, 2, 3, 5, 4, 6, 8, 1, 9]         {(7, 2, 0, 3, 4, 5, 6, 9, 8, 1), (7, 2, 0, 3, 4, 5, 6, 1, 9, 8), (7, 2, 0, 3, 4, 5, 6, 8, 1, 9)}\n",
      "[7, 8, 6, 4, 0, 3, 2, 5, 1, 9]         {(7, 9, 8, 2, 6, 0, 3, 4, 1, 5), (7, 9, 8, 2, 6, 0, 3, 5, 4, 1)}\n",
      "[6, 5, 0, 2, 1, 7, 3, 8, 4, 9]         {(6, 5, 1, 0, 8, 7, 3, 2, 9, 4), (6, 5, 1, 0, 7, 2, 3, 9, 4, 8), (6, 5, 1, 0, 7, 3, 2, 9, 4, 8), (6, 5, 0, 1, 7, 3, 2, 9, 4, 8), (6, 5, 0, 1, 7, 2, 3, 9, 4, 8), (6, 5, 0, 1, 8, 7, 3, 2, 9, 4), (6, 5, 0, 1, 8, 7, 2, 3, 9, 4), (0, 6, 5, 1, 7, 3, 2, 9, 4, 8)}\n",
      "[8, 0, 7, 6, 4, 2, 5, 1, 3, 9]         {(8, 4, 2, 0, 1, 6, 7, 5, 3, 9), (8, 4, 2, 0, 1, 7, 5, 6, 3, 9), (8, 4, 2, 1, 0, 7, 5, 6, 3, 9)}\n",
      "[1, 7, 3, 5, 8, 4, 6, 2, 0, 9]         {(7, 5, 3, 1, 8, 9, 4, 2, 0, 6), (3, 7, 5, 1, 8, 4, 9, 2, 0, 6), (3, 7, 5, 1, 8, 4, 2, 9, 0, 6), (3, 7, 1, 5, 8, 4, 9, 2, 0, 6)}\n",
      "[0, 7, 6, 2, 5, 8, 3, 4, 1, 9]         {(7, 0, 6, 5, 9, 2, 3, 8, 4, 1), (7, 0, 6, 5, 9, 2, 8, 4, 3, 1)}\n",
      "[2, 5, 0, 7, 3, 6, 1, 8, 4, 9]         {(2, 5, 9, 0, 3, 7, 6, 8, 1, 4), (2, 5, 9, 0, 7, 3, 8, 6, 1, 4), (2, 5, 9, 0, 3, 7, 8, 6, 1, 4), (2, 5, 9, 0, 7, 3, 6, 8, 1, 4)}\n",
      "[8, 6, 7, 5, 0, 4, 1, 3, 2, 9]         {(8, 7, 6, 5, 9, 0, 4, 1, 3, 2), (8, 7, 5, 6, 9, 0, 4, 1, 3, 2), (8, 7, 6, 5, 9, 0, 4, 3, 1, 2)}\n",
      "[4, 2, 8, 1, 0, 5, 6, 3, 7, 9]         {(4, 2, 9, 8, 1, 5, 3, 0, 6, 7), (4, 2, 9, 1, 8, 5, 3, 0, 6, 7), (4, 9, 1, 8, 2, 5, 3, 0, 6, 7), (4, 9, 1, 2, 8, 5, 3, 0, 6, 7), (4, 9, 8, 1, 2, 5, 3, 0, 6, 7)}\n",
      "[5, 0, 6, 8, 3, 2, 1, 4, 7, 9]         {(6, 0, 5, 9, 8, 2, 3, 1, 4, 7), (6, 0, 5, 8, 2, 3, 1, 9, 4, 7), (5, 6, 0, 8, 2, 3, 1, 9, 4, 7), (0, 5, 6, 9, 8, 2, 3, 1, 4, 7), (6, 0, 5, 8, 2, 3, 1, 9, 7, 4), (0, 5, 6, 8, 2, 3, 1, 9, 4, 7)}\n",
      "[1, 5, 2, 6, 8, 0, 4, 3, 7, 9]         {(1, 5, 2, 9, 8, 0, 6, 3, 4, 7)}\n",
      "[7, 8, 5, 1, 0, 6, 3, 4, 2, 9]         {(7, 9, 8, 5, 6, 0, 1, 4, 3, 2), (7, 9, 8, 5, 0, 6, 1, 4, 3, 2), (7, 9, 8, 6, 5, 0, 1, 4, 3, 2), (7, 9, 8, 6, 5, 1, 0, 4, 3, 2), (7, 9, 8, 6, 0, 5, 1, 4, 3, 2), (7, 9, 8, 0, 5, 6, 1, 4, 3, 2), (7, 9, 8, 0, 6, 5, 1, 4, 3, 2)}\n",
      "[6, 7, 2, 8, 5, 1, 0, 3, 4, 9]         {(7, 2, 6, 9, 1, 0, 5, 8, 3, 4), (7, 2, 6, 9, 1, 5, 0, 8, 3, 4), (7, 2, 6, 9, 1, 0, 8, 5, 3, 4), (7, 2, 6, 9, 5, 1, 8, 0, 4, 3)}\n",
      "[6, 2, 8, 5, 7, 3, 0, 1, 4, 9]         {(6, 5, 8, 2, 7, 1, 4, 3, 9, 0), (6, 5, 8, 7, 2, 1, 4, 3, 9, 0), (5, 6, 8, 7, 2, 1, 4, 3, 9, 0), (5, 6, 8, 2, 7, 1, 4, 3, 9, 0)}\n",
      "[1, 8, 0, 5, 2, 3, 6, 7, 4, 9]         {(1, 0, 8, 5, 3, 2, 6, 7, 9, 4), (0, 1, 8, 5, 3, 2, 6, 7, 9, 4), (1, 0, 8, 5, 2, 3, 6, 7, 9, 4), (1, 0, 8, 5, 3, 2, 6, 7, 4, 9), (0, 1, 8, 5, 3, 2, 6, 7, 4, 9), (1, 0, 8, 5, 2, 3, 6, 7, 4, 9), (0, 1, 8, 5, 2, 3, 6, 7, 9, 4), (1, 5, 0, 8, 3, 2, 6, 7, 9, 4), (0, 1, 8, 5, 2, 3, 6, 7, 4, 9)}\n",
      "[6, 3, 4, 8, 5, 2, 1, 0, 7, 9]         {(9, 6, 4, 2, 5, 3, 8, 1, 0, 7), (9, 6, 4, 2, 5, 8, 3, 1, 0, 7), (9, 6, 4, 2, 3, 8, 5, 1, 0, 7), (9, 6, 4, 2, 3, 5, 8, 1, 0, 7), (9, 6, 4, 2, 8, 3, 5, 1, 0, 7), (9, 6, 4, 2, 8, 5, 3, 1, 0, 7), (9, 6, 5, 4, 2, 8, 3, 1, 0, 7)}\n",
      "[0, 6, 3, 7, 1, 8, 4, 5, 2, 9]         {(0, 6, 7, 8, 1, 3, 4, 5, 2, 9), (0, 6, 7, 8, 1, 4, 3, 5, 2, 9)}\n",
      "[0, 8, 4, 6, 5, 1, 3, 2, 7, 9]         {(0, 6, 8, 4, 5, 2, 9, 1, 3, 7), (0, 6, 8, 4, 5, 1, 2, 9, 3, 7), (0, 6, 8, 4, 5, 9, 2, 1, 7, 3), (0, 6, 8, 4, 5, 2, 1, 9, 3, 7), (0, 6, 8, 4, 5, 1, 9, 2, 3, 7), (0, 6, 8, 4, 5, 9, 1, 2, 3, 7)}\n",
      "[5, 3, 6, 1, 0, 8, 7, 2, 4, 9]         {(5, 3, 9, 6, 0, 1, 8, 7, 2, 4), (3, 9, 5, 6, 0, 1, 8, 7, 2, 4)}\n",
      "[2, 6, 3, 5, 8, 1, 7, 4, 0, 9]         {(2, 8, 6, 5, 3, 7, 4, 9, 1, 0), (2, 6, 8, 3, 5, 7, 4, 9, 1, 0), (2, 6, 3, 8, 5, 7, 4, 9, 1, 0), (2, 6, 8, 5, 3, 7, 4, 9, 1, 0)}\n",
      "[3, 8, 4, 2, 1, 6, 0, 7, 5, 9]         {(3, 8, 4, 9, 2, 1, 0, 6, 5, 7), (8, 3, 9, 2, 4, 1, 0, 6, 5, 7), (3, 8, 9, 2, 4, 1, 0, 6, 5, 7)}\n",
      "[3, 2, 0, 5, 8, 4, 6, 1, 7, 9]         {(3, 2, 9, 0, 5, 8, 4, 6, 7, 1), (3, 2, 9, 0, 5, 8, 6, 4, 7, 1), (3, 2, 9, 0, 5, 8, 7, 6, 4, 1), (3, 2, 9, 0, 5, 8, 6, 7, 4, 1), (3, 2, 0, 9, 5, 8, 6, 7, 4, 1), (3, 2, 0, 9, 5, 8, 7, 6, 4, 1), (3, 2, 9, 0, 5, 8, 7, 4, 6, 1), (3, 2, 0, 9, 5, 8, 4, 6, 7, 1)}\n",
      "[7, 5, 2, 1, 4, 0, 8, 3, 6, 9]         {(5, 7, 2, 1, 9, 0, 4, 3, 8, 6)}\n",
      "[0, 8, 3, 6, 7, 2, 4, 1, 5, 9]         {(0, 8, 3, 9, 6, 2, 7, 5, 4, 1), (0, 8, 3, 9, 6, 2, 7, 1, 5, 4), (8, 0, 9, 3, 6, 4, 2, 7, 5, 1), (0, 8, 3, 9, 6, 2, 7, 5, 1, 4), (8, 0, 3, 9, 6, 2, 7, 1, 4, 5), (8, 0, 3, 9, 6, 2, 7, 5, 4, 1), (8, 0, 3, 9, 6, 2, 7, 1, 5, 4), (0, 8, 3, 9, 6, 2, 7, 4, 1, 5), (8, 0, 3, 9, 6, 2, 7, 4, 5, 1), (8, 0, 3, 9, 6, 2, 7, 5, 1, 4)}\n",
      "[7, 8, 4, 6, 2, 0, 5, 1, 3, 9]         {(7, 4, 8, 6, 0, 5, 2, 9, 3, 1), (7, 4, 8, 6, 0, 2, 5, 9, 3, 1), (7, 4, 8, 6, 0, 2, 9, 5, 3, 1), (7, 4, 8, 6, 0, 2, 5, 9, 1, 3), (7, 4, 8, 6, 0, 2, 9, 5, 1, 3)}\n",
      "[0, 2, 3, 8, 6, 1, 7, 5, 4, 9]         {(0, 2, 6, 3, 8, 1, 5, 4, 7, 9), (0, 2, 6, 3, 8, 1, 4, 5, 7, 9), (0, 2, 6, 3, 8, 1, 7, 4, 5, 9), (0, 2, 6, 3, 8, 1, 5, 7, 4, 9), (0, 2, 6, 3, 8, 1, 7, 5, 4, 9)}\n",
      "[8, 2, 6, 7, 1, 0, 3, 5, 4, 9]         {(6, 8, 2, 1, 7, 9, 3, 0, 5, 4), (6, 8, 2, 1, 9, 7, 3, 0, 5, 4), (6, 8, 2, 1, 7, 9, 3, 0, 4, 5)}\n",
      "[8, 4, 1, 0, 2, 3, 6, 7, 5, 9]         {(4, 8, 1, 2, 0, 3, 9, 6, 7, 5), (4, 8, 1, 0, 2, 3, 9, 6, 7, 5)}\n",
      "[8, 0, 2, 4, 5, 6, 3, 1, 7, 9]         {(8, 5, 4, 2, 3, 6, 0, 7, 1, 9), (8, 4, 5, 2, 3, 6, 0, 1, 7, 9), (8, 5, 4, 2, 3, 6, 0, 1, 7, 9)}\n",
      "[7, 6, 4, 5, 0, 3, 1, 8, 2, 9]         {(6, 7, 4, 5, 0, 9, 1, 3, 8, 2), (7, 0, 6, 4, 5, 9, 1, 3, 8, 2), (7, 6, 4, 5, 0, 9, 3, 8, 2, 1), (7, 6, 4, 5, 0, 9, 1, 3, 8, 2)}\n",
      "[0, 5, 4, 1, 3, 7, 2, 8, 6, 9]         {(9, 0, 5, 4, 3, 1, 7, 2, 8, 6), (9, 5, 0, 4, 3, 1, 7, 2, 8, 6), (9, 5, 4, 0, 3, 1, 7, 2, 8, 6)}\n",
      "[4, 3, 5, 1, 0, 6, 2, 7, 8, 9]         {(3, 5, 4, 0, 1, 6, 2, 8, 9, 7), (3, 5, 4, 0, 1, 6, 2, 9, 8, 7), (3, 4, 0, 1, 5, 6, 9, 2, 8, 7), (3, 4, 0, 1, 5, 6, 2, 8, 9, 7), (3, 4, 0, 1, 5, 6, 2, 9, 8, 7)}\n",
      "[1, 7, 5, 4, 3, 2, 6, 0, 8, 9]         {(1, 5, 7, 3, 4, 2, 6, 9, 0, 8)}\n",
      "[4, 1, 0, 7, 3, 8, 5, 6, 2, 9]         {(4, 1, 0, 8, 9, 7, 3, 5, 6, 2), (4, 1, 0, 9, 7, 3, 5, 8, 6, 2), (1, 4, 0, 8, 9, 7, 3, 5, 6, 2), (1, 4, 0, 9, 7, 3, 5, 8, 6, 2)}\n",
      "[3, 5, 7, 6, 0, 1, 4, 2, 8, 9]         {(3, 9, 7, 5, 1, 6, 4, 0, 2, 8)}\n",
      "[7, 5, 8, 1, 0, 3, 6, 4, 2, 9]         {(5, 7, 0, 1, 8, 3, 9, 6, 4, 2), (5, 7, 1, 0, 8, 3, 9, 6, 4, 2)}\n",
      "[3, 7, 2, 5, 8, 0, 1, 6, 4, 9]         {(3, 7, 2, 8, 9, 0, 1, 5, 6, 4), (3, 7, 2, 8, 9, 0, 1, 6, 5, 4)}\n",
      "[7, 4, 8, 5, 3, 2, 6, 1, 0, 9]         {(9, 8, 7, 5, 2, 6, 4, 0, 3, 1), (9, 4, 8, 7, 5, 2, 6, 3, 0, 1), (9, 4, 8, 7, 5, 2, 6, 3, 1, 0), (9, 8, 7, 5, 2, 6, 4, 3, 0, 1), (9, 8, 7, 5, 2, 6, 4, 3, 1, 0)}\n",
      "[7, 6, 4, 2, 0, 3, 8, 5, 1, 9]         {(7, 6, 9, 4, 2, 0, 3, 8, 5, 1), (7, 6, 9, 4, 2, 0, 8, 3, 5, 1), (7, 6, 9, 4, 0, 2, 3, 8, 5, 1), (7, 6, 9, 4, 0, 2, 8, 3, 5, 1), (7, 9, 6, 4, 2, 0, 8, 3, 5, 1)}\n",
      "[1, 4, 7, 0, 8, 2, 3, 6, 5, 9]         {(1, 4, 7, 9, 2, 0, 8, 6, 5, 3), (1, 4, 7, 9, 2, 0, 8, 6, 3, 5)}\n",
      "[3, 1, 7, 8, 6, 4, 5, 0, 2, 9]         {(1, 3, 8, 7, 9, 4, 6, 0, 5, 2)}\n",
      "[6, 7, 4, 1, 2, 8, 0, 5, 3, 9]         {(6, 1, 4, 7, 9, 2, 8, 5, 0, 3)}\n",
      "[5, 2, 1, 6, 4, 0, 7, 8, 3, 9]         {(5, 1, 2, 6, 4, 0, 9, 7, 3, 8), (5, 1, 2, 0, 6, 4, 9, 7, 3, 8), (5, 1, 2, 6, 0, 4, 9, 7, 3, 8)}\n",
      "[0, 7, 2, 6, 5, 4, 1, 8, 3, 9]         {(0, 2, 6, 7, 5, 1, 9, 4, 8, 3), (2, 0, 7, 6, 8, 5, 1, 9, 4, 3), (2, 0, 6, 7, 8, 5, 1, 9, 4, 3), (0, 2, 7, 6, 5, 1, 9, 4, 8, 3), (2, 0, 7, 6, 5, 1, 9, 4, 8, 3), (2, 7, 0, 6, 4, 8, 5, 1, 9, 3), (2, 0, 6, 7, 5, 1, 9, 4, 8, 3)}\n",
      "[3, 0, 2, 4, 6, 7, 5, 8, 1, 9]         {(9, 0, 4, 2, 3, 6, 7, 5, 8, 1), (9, 0, 4, 2, 3, 6, 5, 7, 8, 1), (0, 4, 9, 2, 3, 6, 5, 7, 8, 1), (0, 4, 9, 2, 3, 6, 7, 5, 8, 1), (4, 2, 0, 3, 9, 7, 6, 5, 8, 1), (9, 4, 0, 2, 3, 6, 5, 7, 8, 1), (9, 4, 0, 2, 3, 6, 7, 5, 8, 1), (4, 0, 9, 2, 3, 6, 7, 5, 8, 1), (4, 0, 9, 2, 3, 6, 5, 7, 8, 1)}\n",
      "[7, 2, 4, 1, 5, 3, 6, 0, 8, 9]         {(9, 7, 2, 4, 1, 3, 5, 0, 6, 8), (9, 7, 1, 2, 4, 3, 5, 0, 6, 8)}\n",
      "[6, 3, 1, 4, 8, 7, 5, 2, 0, 9]         {(6, 3, 1, 8, 7, 4, 5, 0, 2, 9)}\n",
      "[7, 8, 5, 4, 2, 6, 3, 0, 1, 9]         {(7, 5, 9, 4, 8, 2, 6, 0, 3, 1), (7, 5, 9, 8, 4, 2, 6, 0, 3, 1)}\n",
      "[7, 3, 6, 4, 2, 8, 0, 5, 9, 1]         {(9, 3, 7, 2, 4, 6, 8, 5, 0, 1), (9, 7, 3, 4, 2, 6, 8, 5, 1, 0), (9, 7, 3, 2, 4, 6, 8, 5, 0, 1)}\n",
      "[0, 8, 6, 1, 4, 5, 7, 3, 2, 9]         {(8, 0, 1, 7, 4, 6, 5, 3, 2, 9), (8, 1, 0, 7, 4, 6, 5, 3, 2, 9)}\n",
      "[2, 3, 4, 1, 0, 5, 7, 6, 8, 9]         {(2, 4, 3, 1, 9, 6, 5, 7, 0, 8), (2, 4, 3, 1, 9, 5, 6, 7, 0, 8)}\n",
      "[2, 6, 5, 4, 1, 7, 0, 8, 3, 9]         {(2, 6, 9, 0, 4, 5, 7, 1, 3, 8), (2, 6, 9, 0, 5, 4, 1, 7, 3, 8), (2, 6, 9, 0, 5, 4, 7, 1, 3, 8), (2, 6, 9, 5, 4, 0, 7, 1, 3, 8), (2, 6, 9, 5, 4, 0, 1, 7, 3, 8), (2, 6, 9, 5, 0, 4, 1, 7, 3, 8), (2, 6, 9, 4, 0, 5, 1, 7, 3, 8), (2, 6, 9, 4, 0, 5, 7, 1, 3, 8), (2, 6, 9, 5, 4, 7, 0, 1, 8, 3), (2, 6, 9, 0, 4, 5, 1, 7, 3, 8), (2, 6, 9, 5, 0, 4, 7, 1, 3, 8)}\n",
      "[1, 3, 2, 5, 4, 8, 7, 6, 0, 9]         {(1, 3, 4, 5, 9, 2, 8, 7, 6, 0), (1, 3, 2, 9, 4, 5, 8, 7, 6, 0), (1, 3, 2, 4, 5, 9, 8, 7, 6, 0), (1, 3, 5, 9, 4, 2, 8, 7, 6, 0), (1, 3, 2, 5, 9, 4, 8, 7, 6, 0), (1, 3, 9, 4, 5, 2, 8, 7, 6, 0)}\n",
      "[3, 8, 5, 1, 6, 0, 4, 7, 2, 9]         {(8, 3, 1, 0, 6, 5, 7, 4, 2, 9)}\n",
      "[4, 0, 5, 6, 2, 1, 8, 3, 7, 9]         {(0, 4, 5, 6, 2, 9, 8, 1, 3, 7), (0, 4, 5, 6, 2, 9, 1, 8, 3, 7), (0, 4, 6, 5, 2, 9, 8, 1, 3, 7), (0, 4, 6, 5, 2, 9, 1, 8, 3, 7), (4, 0, 5, 6, 2, 9, 1, 8, 3, 7), (4, 0, 5, 6, 2, 9, 8, 1, 3, 7), (4, 0, 6, 5, 2, 9, 1, 8, 3, 7), (4, 0, 6, 5, 2, 9, 8, 1, 3, 7)}\n",
      "[3, 0, 2, 5, 1, 4, 8, 7, 6, 9]         {(3, 2, 0, 9, 5, 1, 8, 4, 7, 6), (3, 2, 0, 9, 5, 8, 1, 4, 7, 6), (3, 9, 2, 0, 5, 1, 8, 4, 7, 6)}\n",
      "[6, 8, 0, 1, 9, 7, 3, 2, 5, 4]         {(9, 8, 6, 1, 0, 3, 7, 2, 5, 4), (9, 6, 8, 0, 1, 3, 7, 2, 5, 4), (9, 8, 6, 0, 1, 3, 7, 2, 5, 4)}\n",
      "[4, 3, 5, 8, 7, 2, 0, 6, 1, 9]         {(3, 4, 8, 5, 2, 7, 6, 0, 9, 1), (3, 4, 8, 2, 5, 7, 6, 9, 0, 1), (3, 4, 8, 5, 2, 7, 6, 9, 0, 1), (3, 4, 8, 2, 5, 7, 0, 6, 9, 1), (3, 4, 8, 2, 5, 7, 6, 0, 9, 1)}\n",
      "[7, 8, 3, 4, 2, 6, 0, 5, 1, 9]         {(3, 7, 6, 8, 4, 2, 0, 5, 9, 1), (3, 7, 6, 8, 4, 2, 5, 0, 9, 1), (3, 7, 6, 8, 4, 2, 0, 9, 5, 1), (3, 7, 6, 8, 2, 4, 0, 9, 5, 1), (3, 7, 6, 8, 2, 4, 0, 5, 9, 1)}\n",
      "[0, 7, 4, 2, 5, 3, 1, 6, 8, 9]         {(0, 7, 9, 4, 2, 5, 6, 3, 8, 1), (0, 9, 4, 7, 2, 5, 6, 3, 8, 1), (0, 9, 4, 7, 2, 6, 5, 3, 8, 1)}\n",
      "[8, 1, 4, 2, 5, 0, 7, 6, 3, 9]         {(8, 1, 4, 9, 2, 5, 7, 0, 6, 3), (8, 1, 4, 9, 2, 5, 0, 7, 6, 3)}\n",
      "[3, 8, 5, 4, 2, 6, 1, 7, 0, 9]         {(9, 3, 8, 2, 4, 6, 5, 7, 0, 1), (9, 8, 3, 2, 4, 6, 5, 7, 0, 1), (9, 3, 8, 2, 4, 6, 5, 1, 7, 0), (9, 3, 8, 2, 4, 6, 5, 0, 1, 7), (9, 8, 3, 2, 4, 6, 5, 1, 7, 0)}\n",
      "[0, 2, 4, 8, 5, 3, 6, 7, 1, 9]         {(0, 2, 9, 4, 3, 6, 5, 7, 8, 1), (0, 2, 4, 9, 3, 6, 5, 7, 8, 1)}\n",
      "[5, 0, 3, 4, 8, 6, 1, 2, 7, 9]         {(5, 3, 4, 0, 6, 9, 8, 1, 7, 2), (5, 3, 4, 0, 6, 9, 8, 7, 1, 2)}\n",
      "[7, 4, 3, 0, 6, 5, 1, 2, 8, 9]         {(9, 4, 7, 5, 3, 8, 0, 6, 2, 1), (9, 4, 0, 7, 3, 5, 6, 8, 1, 2), (9, 4, 0, 7, 3, 5, 8, 6, 1, 2), (9, 4, 7, 5, 0, 3, 6, 8, 1, 2), (9, 4, 7, 3, 5, 0, 8, 1, 6, 2), (9, 4, 7, 5, 0, 3, 6, 8, 2, 1), (9, 4, 7, 5, 0, 3, 8, 6, 1, 2), (9, 4, 7, 5, 0, 3, 8, 1, 6, 2)}\n",
      "[2, 4, 3, 7, 8, 0, 1, 6, 5, 9]         {(2, 4, 9, 8, 7, 3, 6, 0, 1, 5), (2, 9, 8, 4, 7, 3, 6, 1, 0, 5), (2, 9, 4, 8, 7, 3, 6, 0, 1, 5), (2, 9, 4, 8, 7, 3, 6, 1, 0, 5)}\n",
      "[1, 5, 3, 2, 4, 7, 8, 0, 6, 9]         {(5, 1, 3, 4, 9, 2, 0, 8, 7, 6), (1, 5, 3, 4, 9, 2, 0, 8, 7, 6)}\n",
      "[2, 0, 8, 5, 3, 6, 1, 4, 7, 9]         {(0, 2, 8, 9, 6, 5, 3, 1, 4, 7), (0, 2, 8, 9, 6, 5, 1, 3, 4, 7), (0, 2, 9, 6, 8, 5, 1, 3, 4, 7), (0, 2, 6, 8, 9, 5, 3, 1, 4, 7), (0, 2, 6, 8, 9, 5, 1, 3, 4, 7), (0, 8, 2, 9, 5, 3, 1, 4, 6, 7)}\n",
      "[7, 6, 0, 4, 2, 1, 8, 3, 5, 9]         {(0, 7, 6, 4, 8, 9, 5, 2, 1, 3), (0, 7, 6, 4, 9, 8, 5, 2, 1, 3)}\n",
      "[2, 3, 6, 5, 1, 4, 0, 8, 7, 9]         {(2, 3, 6, 0, 9, 1, 5, 7, 4, 8), (2, 3, 6, 0, 9, 1, 5, 8, 7, 4)}\n",
      "[2, 8, 5, 6, 3, 0, 7, 4, 1, 9]         {(2, 3, 6, 8, 5, 0, 7, 4, 1, 9), (2, 6, 3, 8, 5, 0, 7, 4, 1, 9)}\n",
      "[3, 6, 1, 5, 8, 0, 7, 4, 2, 9]         {(6, 3, 1, 5, 9, 8, 4, 0, 7, 2), (6, 3, 1, 5, 9, 8, 0, 7, 4, 2), (6, 3, 1, 5, 9, 8, 7, 4, 0, 2), (6, 3, 5, 1, 9, 8, 4, 0, 7, 2), (6, 3, 5, 1, 9, 8, 7, 4, 0, 2), (6, 3, 5, 1, 9, 8, 0, 7, 4, 2), (6, 3, 5, 1, 9, 8, 7, 4, 2, 0)}\n",
      "[2, 3, 7, 4, 1, 0, 8, 6, 5, 9]         {(2, 0, 1, 3, 4, 7, 8, 6, 9, 5), (2, 0, 3, 1, 4, 7, 8, 6, 9, 5), (2, 0, 3, 4, 1, 7, 8, 9, 6, 5), (2, 0, 3, 4, 1, 7, 8, 6, 9, 5)}\n",
      "[0, 3, 2, 4, 5, 8, 6, 7, 1, 9]         {(9, 0, 5, 4, 3, 1, 2, 6, 8, 7), (9, 0, 3, 1, 4, 2, 5, 6, 8, 7), (9, 0, 3, 4, 1, 2, 5, 6, 8, 7), (9, 0, 5, 3, 1, 4, 2, 6, 8, 7), (9, 0, 5, 3, 4, 1, 2, 6, 8, 7)}\n",
      "[4, 5, 3, 1, 8, 6, 7, 2, 0, 9]         {(4, 5, 1, 3, 6, 9, 8, 2, 0, 7), (4, 5, 1, 3, 6, 9, 2, 8, 0, 7), (4, 5, 3, 6, 1, 9, 8, 2, 0, 7), (4, 5, 3, 1, 6, 9, 2, 8, 0, 7), (4, 5, 1, 3, 7, 6, 9, 2, 8, 0), (4, 5, 1, 3, 7, 6, 9, 8, 2, 0)}\n",
      "[7, 8, 0, 2, 3, 5, 1, 6, 4, 9]         {(7, 8, 2, 0, 9, 5, 3, 6, 1, 4), (7, 0, 8, 2, 9, 5, 3, 1, 6, 4), (7, 2, 0, 8, 9, 5, 3, 1, 6, 4), (7, 8, 0, 2, 9, 5, 3, 1, 6, 4), (7, 2, 0, 8, 9, 5, 3, 6, 1, 4), (7, 0, 2, 8, 9, 5, 3, 1, 6, 4), (7, 2, 8, 0, 9, 5, 3, 1, 6, 4), (7, 2, 8, 0, 9, 5, 3, 6, 1, 4)}\n",
      "[4, 2, 8, 6, 3, 0, 1, 7, 5, 9]         {(2, 4, 0, 8, 9, 6, 3, 1, 7, 5), (4, 2, 0, 8, 9, 6, 3, 1, 7, 5)}\n",
      "[0, 7, 6, 8, 1, 3, 4, 2, 5, 9]         {(0, 7, 6, 8, 9, 3, 1, 4, 2, 5), (0, 7, 6, 9, 8, 3, 1, 4, 2, 5)}\n",
      "[5, 4, 0, 7, 3, 1, 2, 8, 6, 9]         {(5, 0, 9, 7, 3, 1, 2, 4, 8, 6), (9, 5, 7, 0, 3, 1, 2, 4, 8, 6), (0, 9, 5, 7, 3, 1, 2, 4, 8, 6), (0, 5, 9, 7, 3, 1, 2, 4, 8, 6), (5, 9, 7, 0, 3, 1, 2, 4, 8, 6)}\n",
      "[7, 2, 4, 3, 6, 8, 0, 1, 5, 9]         {(2, 7, 4, 3, 9, 6, 0, 8, 1, 5), (7, 2, 4, 9, 3, 6, 0, 8, 1, 5)}\n",
      "[2, 1, 6, 5, 7, 8, 3, 0, 4, 9]         {(2, 1, 9, 0, 5, 6, 8, 7, 3, 4), (2, 1, 9, 5, 6, 8, 7, 0, 3, 4), (2, 1, 9, 0, 5, 6, 3, 8, 7, 4), (2, 1, 9, 0, 5, 6, 8, 3, 7, 4)}\n",
      "[3, 5, 2, 8, 6, 7, 4, 0, 1, 9]         {(2, 3, 5, 6, 0, 7, 8, 4, 1, 9), (2, 5, 6, 3, 4, 0, 7, 8, 1, 9)}\n",
      "[6, 7, 5, 3, 0, 1, 2, 4, 8, 9]         {(6, 0, 7, 3, 5, 2, 4, 1, 9, 8), (6, 0, 7, 3, 2, 5, 4, 1, 9, 8)}\n",
      "[8, 7, 2, 1, 3, 5, 6, 4, 0, 9]         {(8, 2, 7, 1, 3, 9, 5, 6, 0, 4), (8, 2, 7, 1, 3, 9, 5, 6, 4, 0), (8, 2, 7, 1, 9, 3, 5, 6, 4, 0)}\n",
      "[5, 4, 7, 8, 2, 6, 1, 0, 3, 9]         {(5, 7, 8, 4, 6, 2, 1, 0, 9, 3), (5, 7, 8, 4, 6, 2, 1, 9, 0, 3)}\n",
      "[7, 5, 4, 3, 8, 1, 2, 6, 0, 9]         {(9, 7, 5, 2, 1, 3, 8, 6, 4, 0), (7, 9, 5, 2, 3, 4, 1, 8, 6, 0), (9, 7, 5, 2, 1, 3, 8, 4, 6, 0), (7, 9, 5, 2, 1, 3, 8, 4, 6, 0), (9, 7, 5, 2, 3, 4, 1, 8, 6, 0)}\n",
      "[3, 1, 5, 8, 6, 7, 0, 2, 4, 9]         {(5, 1, 3, 8, 9, 6, 7, 0, 2, 4)}\n",
      "[7, 6, 4, 3, 2, 1, 5, 0, 8, 9]         {(6, 7, 2, 4, 1, 3, 9, 5, 8, 0), (6, 7, 4, 3, 1, 9, 2, 5, 8, 0), (6, 7, 4, 1, 3, 9, 2, 5, 8, 0), (6, 7, 2, 4, 3, 1, 9, 5, 8, 0)}\n",
      "[1, 5, 8, 7, 2, 6, 3, 4, 0, 9]         {(5, 9, 1, 2, 8, 7, 4, 3, 6, 0), (5, 9, 1, 2, 8, 7, 6, 4, 0, 3), (5, 9, 1, 2, 8, 7, 4, 6, 0, 3)}\n",
      "[8, 7, 6, 0, 1, 5, 2, 4, 3, 9]         {(7, 1, 8, 0, 3, 6, 5, 4, 2, 9), (7, 1, 8, 0, 3, 6, 4, 5, 2, 9), (7, 1, 8, 0, 6, 5, 3, 4, 2, 9), (7, 1, 8, 6, 0, 5, 3, 2, 4, 9)}\n"
     ]
    },
    {
     "data": {
      "text/plain": [
       "<matplotlib.axes._subplots.AxesSubplot at 0x7fe04502af98>"
      ]
     },
     "execution_count": 45,
     "metadata": {},
     "output_type": "execute_result"
    },
    {
     "data": {
      "image/png": "[encoded data removed]",
      "text/plain": [
       "<Figure size 432x288 with 1 Axes>"
      ]
     },
     "metadata": {
      "needs_background": "light"
     },
     "output_type": "display_data"
    }
   ],
   "source": [
    "colley_ranks\n",
    "P_sets_c\n",
    "tausc = []\n",
    "for k in range(len(colley_ranks)):\n",
    "    #print(massey_ranks[k], end='         ')\n",
    "    #print(P_sets[k])\n",
    "    for o in range(len(list(P_sets[k]))):\n",
    "        tausc.append(kendall_tau(massey_ranks[k], list(P_sets[k])[o]))\n",
    "tausc\n",
    "tauscdf = pd.DataFrame({\"Taus Colley\": tausc})\n",
    "tauscdf.plot.hist(\"Taus Colley\", title=\"Taus between Colley Ranking and Members of P for Low-Variance ELO Tournament, n=10\")"
   ]
  },
  {
   "cell_type": "code",
   "execution_count": null,
   "metadata": {},
   "outputs": [],
   "source": []
  }
 ],
 "metadata": {
  "kernelspec": {
   "display_name": "Python 3",
   "language": "python",
   "name": "python3"
  },
  "language_info": {
   "codemirror_mode": {
    "name": "ipython",
    "version": 3
   },
   "file_extension": ".py",
   "mimetype": "text/x-python",
   "name": "python",
   "nbconvert_exporter": "python",
   "pygments_lexer": "ipython3",
   "version": "3.6.9"
  }
 },
 "nbformat": 4,
 "nbformat_minor": 4
}
