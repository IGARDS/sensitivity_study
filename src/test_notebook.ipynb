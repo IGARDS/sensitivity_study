{
 "cells": [
  {
   "cell_type": "code",
   "execution_count": 1,
   "metadata": {},
   "outputs": [],
   "source": [
    "from sensitivity_tests import *"
   ]
  },
  {
   "cell_type": "code",
   "execution_count": 2,
   "metadata": {},
   "outputs": [],
   "source": [
    "# Data Sources\n",
    "perfect_dom = PerfectBinarySource(n=8)\n",
    "\n",
    "# Noise Generators\n",
    "noise015 = PercentageFlipNoise(noisePercentage=0.15)\n",
    "\n",
    "# Ranking Algorithms\n",
    "colley = ColleyRankingAlgorithm()\n",
    "massey = MasseyRankingAlgorithm()\n",
    "lop_alg = LOPRankingAlgorithm()"
   ]
  },
  {
   "cell_type": "code",
   "execution_count": 3,
   "metadata": {},
   "outputs": [
    {
     "name": "stdout",
     "output_type": "stream",
     "text": [
      "Academic license - for non-commercial use only\n"
     ]
    },
    {
     "name": "stderr",
     "output_type": "stream",
     "text": [
      " 25%|##5       | 5/20 [00:00<00:00, 42.47it/s]"
     ]
    },
    {
     "name": "stdout",
     "output_type": "stream",
     "text": [
      "[[ 0  0  0  0  0  0  0  0]\n",
      " [ 9  0  0  0  0  0  0  0]\n",
      " [10  9  0  0  0  0  0  0]\n",
      " [11 10  9  0  0  0  0  0]\n",
      " [12 11 10  9  0  0  0  0]\n",
      " [13 12 11 10  9  0  0  0]\n",
      " [14 13 12 11 10  9  0  0]\n",
      " [15 14 13 12 11 10  9  0]]\n",
      "308.0000000000125\n",
      "308.0000000000125 [[0, 1, 2, 3, 4, 5, 6, 7]]\n",
      "[[0 1 2 3 4 5 6 7]]\n"
     ]
    },
    {
     "name": "stderr",
     "output_type": "stream",
     "text": [
      "100%|##########| 20/20 [00:04<00:00,  4.34it/s]\n"
     ]
    },
    {
     "data": {
      "text/plain": [
       "([0.9997271825396825, 1.0],\n",
       " [0.9999999999999998,\n",
       "  0.8571428571428571,\n",
       "  0.9285714285714285,\n",
       "  0.8571428571428571,\n",
       "  0.9999999999999998,\n",
       "  0.5714285714285714,\n",
       "  0.7857142857142856,\n",
       "  0.9285714285714285,\n",
       "  0.8571428571428571,\n",
       "  0.5714285714285714,\n",
       "  0.5714285714285714,\n",
       "  0.9285714285714285,\n",
       "  0.8571428571428571,\n",
       "  0.8571428571428571,\n",
       "  0.8571428571428571,\n",
       "  0.9285714285714285,\n",
       "  0.5714285714285714,\n",
       "  0.7857142857142856,\n",
       "  0.7142857142857142,\n",
       "  0.5714285714285714])"
      ]
     },
     "execution_count": 3,
     "metadata": {},
     "output_type": "execute_result"
    }
   ],
   "source": [
    "\n",
    "inst = ProblemInstance(perfect_dom, noise015)\n",
    "inst.get_sensitivity(lop_alg, [RatioToMaxMetric(), PDiversityMetric()], n_trials=20, progress_bar=True)"
   ]
  },
  {
   "cell_type": "code",
   "execution_count": null,
   "metadata": {},
   "outputs": [],
   "source": []
  }
 ],
 "metadata": {
  "kernelspec": {
   "display_name": "Python 3",
   "language": "python",
   "name": "python3"
  },
  "language_info": {
   "codemirror_mode": {
    "name": "ipython",
    "version": 3
   },
   "file_extension": ".py",
   "mimetype": "text/x-python",
   "name": "python",
   "nbconvert_exporter": "python",
   "pygments_lexer": "ipython3",
   "version": "3.6.9"
  }
 },
 "nbformat": 4,
 "nbformat_minor": 4
}
