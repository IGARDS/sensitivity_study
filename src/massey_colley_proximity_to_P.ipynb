{
 "cells": [
  {
   "cell_type": "code",
   "execution_count": 1,
   "metadata": {},
   "outputs": [],
   "source": [
    "import numpy as np\n",
    "import matplotlib.pyplot as plt\n",
    "import pandas as pd\n",
    "import json\n",
    "from scipy import stats\n",
    "from tqdm import tqdm\n",
    "from sensitivity_tests import *"
   ]
  },
  {
   "cell_type": "code",
   "execution_count": 2,
   "metadata": {},
   "outputs": [],
   "source": [
    "DATA_CSV_NAME = \"sensitivity_dataset_fixed.csv\""
   ]
  },
  {
   "cell_type": "code",
   "execution_count": 3,
   "metadata": {},
   "outputs": [],
   "source": [
    "data = pd.read_csv(DATA_CSV_NAME)[[\"D\",\"P\", \"p_lowerbound\"]]"
   ]
  },
  {
   "cell_type": "code",
   "execution_count": 4,
   "metadata": {},
   "outputs": [
    {
     "data": {
      "text/plain": [
       "1101"
      ]
     },
     "execution_count": 4,
     "metadata": {},
     "output_type": "execute_result"
    }
   ],
   "source": [
    "data = data.loc[data[\"p_lowerbound\"]>2]\n",
    "len(data)"
   ]
  },
  {
   "cell_type": "code",
   "execution_count": 5,
   "metadata": {},
   "outputs": [
    {
     "data": {
      "text/html": [
       "<div>\n",
       "<style scoped>\n",
       "    .dataframe tbody tr th:only-of-type {\n",
       "        vertical-align: middle;\n",
       "    }\n",
       "\n",
       "    .dataframe tbody tr th {\n",
       "        vertical-align: top;\n",
       "    }\n",
       "\n",
       "    .dataframe thead th {\n",
       "        text-align: right;\n",
       "    }\n",
       "</style>\n",
       "<table border=\"1\" class=\"dataframe\">\n",
       "  <thead>\n",
       "    <tr style=\"text-align: right;\">\n",
       "      <th></th>\n",
       "      <th>D</th>\n",
       "      <th>P</th>\n",
       "      <th>p_lowerbound</th>\n",
       "    </tr>\n",
       "  </thead>\n",
       "  <tbody>\n",
       "    <tr>\n",
       "      <td>0</td>\n",
       "      <td>[[0. 2. 1. 1. 0. 1. 2. 2. 2. 1. 1. 1. 1. 1. 1....</td>\n",
       "      <td>[(5, 1, 6, 11, 3, 4, 13, 8, 14, 7, 10, 12, 2, ...</td>\n",
       "      <td>10</td>\n",
       "    </tr>\n",
       "    <tr>\n",
       "      <td>1</td>\n",
       "      <td>[[0. 2. 2. 2. 1. 2. 2. 0. 0. 2. 1. 2. 0. 0. 1....</td>\n",
       "      <td>[(1, 8, 12, 9, 4, 2, 6, 13, 11, 10, 14, 3, 7, ...</td>\n",
       "      <td>5</td>\n",
       "    </tr>\n",
       "    <tr>\n",
       "      <td>2</td>\n",
       "      <td>[[0. 3. 1. 1. 1. 1. 1. 1. 0. 3. 0. 2. 2. 0. 0....</td>\n",
       "      <td>[(1, 13, 6, 2, 12, 8, 11, 9, 10, 14, 3, 7, 5, ...</td>\n",
       "      <td>5</td>\n",
       "    </tr>\n",
       "    <tr>\n",
       "      <td>3</td>\n",
       "      <td>[[0. 3. 2. 1. 1. 0. 1. 1. 1. 1. 1. 0. 0. 1. 1....</td>\n",
       "      <td>[(8, 6, 5, 3, 13, 9, 7, 14, 10, 4, 12, 11, 0, ...</td>\n",
       "      <td>6</td>\n",
       "    </tr>\n",
       "    <tr>\n",
       "      <td>6</td>\n",
       "      <td>[[0. 2. 2. 2. 1. 3. 1. 2. 3. 2. 2. 2. 2. 0. 2....</td>\n",
       "      <td>[(6, 9, 13, 0, 12, 10, 3, 2, 1, 11, 5, 7, 8, 4...</td>\n",
       "      <td>4</td>\n",
       "    </tr>\n",
       "  </tbody>\n",
       "</table>\n",
       "</div>"
      ],
      "text/plain": [
       "                                                   D  \\\n",
       "0  [[0. 2. 1. 1. 0. 1. 2. 2. 2. 1. 1. 1. 1. 1. 1....   \n",
       "1  [[0. 2. 2. 2. 1. 2. 2. 0. 0. 2. 1. 2. 0. 0. 1....   \n",
       "2  [[0. 3. 1. 1. 1. 1. 1. 1. 0. 3. 0. 2. 2. 0. 0....   \n",
       "3  [[0. 3. 2. 1. 1. 0. 1. 1. 1. 1. 1. 0. 0. 1. 1....   \n",
       "6  [[0. 2. 2. 2. 1. 3. 1. 2. 3. 2. 2. 2. 2. 0. 2....   \n",
       "\n",
       "                                                   P  p_lowerbound  \n",
       "0  [(5, 1, 6, 11, 3, 4, 13, 8, 14, 7, 10, 12, 2, ...            10  \n",
       "1  [(1, 8, 12, 9, 4, 2, 6, 13, 11, 10, 14, 3, 7, ...             5  \n",
       "2  [(1, 13, 6, 2, 12, 8, 11, 9, 10, 14, 3, 7, 5, ...             5  \n",
       "3  [(8, 6, 5, 3, 13, 9, 7, 14, 10, 4, 12, 11, 0, ...             6  \n",
       "6  [(6, 9, 13, 0, 12, 10, 3, 2, 1, 11, 5, 7, 8, 4...             4  "
      ]
     },
     "execution_count": 5,
     "metadata": {},
     "output_type": "execute_result"
    }
   ],
   "source": [
    "data.head()"
   ]
  },
  {
   "cell_type": "code",
   "execution_count": 6,
   "metadata": {},
   "outputs": [],
   "source": [
    "def read_P(string):\n",
    "    return json.loads(string.replace(\"(\", \"[\").replace(\")\", \"]\"))\n",
    "\n",
    "# Assumes integer D\n",
    "def read_D(string):\n",
    "    return np.array(json.loads(string.replace(\"\\n \", \",\").replace(\". \", \", \").replace(\".]\", \"]\")))"
   ]
  },
  {
   "cell_type": "code",
   "execution_count": 7,
   "metadata": {},
   "outputs": [
    {
     "name": "stderr",
     "output_type": "stream",
     "text": [
      "100%|██████████| 1101/1101 [00:17<00:00, 62.37it/s]\n"
     ]
    }
   ],
   "source": [
    "massey = MasseyRankingAlgorithm()\n",
    "colley = ColleyRankingAlgorithm()\n",
    "\n",
    "massey_max_taus = []\n",
    "massey_mean_taus = []\n",
    "colley_max_taus = []\n",
    "colley_mean_taus = []\n",
    "for idx in tqdm(range(len(data))):\n",
    "    D = read_D(data[\"D\"].iloc[idx])\n",
    "    P = read_P(data[\"P\"].iloc[idx])\n",
    "    massey_ranking = massey.rank(D)\n",
    "    colley_ranking = colley.rank(D)\n",
    "    massey_taus = []\n",
    "    colley_taus = []\n",
    "    for opt_ranking in P:\n",
    "        m_tau, _ = stats.kendalltau(opt_ranking, massey_ranking)\n",
    "        massey_taus.append(m_tau)\n",
    "        c_tau, _ = stats.kendalltau(opt_ranking, colley_ranking)\n",
    "        colley_taus.append(c_tau)\n",
    "    massey_max_taus.append(np.max(massey_taus))\n",
    "    massey_mean_taus.append(np.mean(massey_taus))\n",
    "    colley_max_taus.append(np.max(colley_taus))\n",
    "    colley_mean_taus.append(np.mean(colley_taus))\n",
    "\n",
    "data[\"massey_max_tau\"] = massey_max_taus\n",
    "data[\"colley_max_tau\"] = colley_max_taus\n",
    "data[\"massey_mean_tau\"] = massey_mean_taus\n",
    "data[\"colley_mean_tau\"] = colley_mean_taus"
   ]
  },
  {
   "cell_type": "code",
   "execution_count": 8,
   "metadata": {},
   "outputs": [
    {
     "data": {
      "image/png": "[encoded data removed]",
      "text/plain": [
       "<Figure size 432x288 with 1 Axes>"
      ]
     },
     "metadata": {
      "needs_background": "light"
     },
     "output_type": "display_data"
    },
    {
     "data": {
      "image/png": "[encoded data removed]",
      "text/plain": [
       "<Figure size 432x288 with 1 Axes>"
      ]
     },
     "metadata": {
      "needs_background": "light"
     },
     "output_type": "display_data"
    },
    {
     "data": {
      "image/png": "[encoded data removed]",
      "text/plain": [
       "<Figure size 432x288 with 1 Axes>"
      ]
     },
     "metadata": {
      "needs_background": "light"
     },
     "output_type": "display_data"
    },
    {
     "data": {
      "image/png": "[encoded data removed]",
      "text/plain": [
       "<Figure size 432x288 with 1 Axes>"
      ]
     },
     "metadata": {
      "needs_background": "light"
     },
     "output_type": "display_data"
    }
   ],
   "source": [
    "for col in [\"massey_max_tau\", \"massey_mean_tau\", \"colley_max_tau\", \"colley_mean_tau\"]:\n",
    "    data[col].plot.hist(title=col, bins=np.linspace(start=-1.0, stop=1.0, num=30))\n",
    "    plt.show()"
   ]
  },
  {
   "cell_type": "code",
   "execution_count": 9,
   "metadata": {},
   "outputs": [
    {
     "data": {
      "text/plain": [
       "(935, -0.3904761904761905)"
      ]
     },
     "execution_count": 9,
     "metadata": {},
     "output_type": "execute_result"
    }
   ],
   "source": [
    "worst_massey_idx = data[\"massey_max_tau\"].idxmin()\n",
    "worst_massey_idx, data[\"massey_max_tau\"].loc[worst_massey_idx]"
   ]
  },
  {
   "cell_type": "code",
   "execution_count": 19,
   "metadata": {},
   "outputs": [
    {
     "data": {
      "text/plain": [
       "([13, 6, 1, 7, 4, 3, 14, 5, 11, 0, 9, 10, 8, 12, 2],\n",
       " [1, 6, 13, 3, 4, 7, 0, 5, 12, 10, 11, 8, 9, 2, 14])"
      ]
     },
     "execution_count": 19,
     "metadata": {},
     "output_type": "execute_result"
    }
   ],
   "source": [
    "worst_massey_D = read_D(data.loc[worst_massey_idx][\"D\"])\n",
    "worst_massey_P = read_P(data.loc[worst_massey_idx][\"P\"])\n",
    "worst_massey_ranking = massey.rank(worst_massey_D)\n",
    "worst_massey_P, worst_massey_ranking\n",
    "\n",
    "taus = []\n",
    "for opt_rank in worst_massey_P:\n",
    "    tau, _ = stats.kendalltau(worst_massey_ranking, opt_rank)\n",
    "    taus.append(tau)\n",
    "closest_idx = np.array(taus).argmax()\n",
    "worst_massey_P[closest_idx], worst_massey_ranking"
   ]
  },
  {
   "cell_type": "code",
   "execution_count": 20,
   "metadata": {},
   "outputs": [
    {
     "data": {
      "text/plain": [
       "<matplotlib.image.AxesImage at 0x7fc1d04d5390>"
      ]
     },
     "execution_count": 20,
     "metadata": {},
     "output_type": "execute_result"
    },
    {
     "data": {
      "image/png": "[encoded data removed]",
      "text/plain": [
       "<Figure size 432x288 with 1 Axes>"
      ]
     },
     "metadata": {
      "needs_background": "light"
     },
     "output_type": "display_data"
    }
   ],
   "source": [
    "plt.imshow(worst_massey_D)"
   ]
  },
  {
   "cell_type": "code",
   "execution_count": 21,
   "metadata": {},
   "outputs": [
    {
     "data": {
      "text/plain": [
       "<matplotlib.image.AxesImage at 0x7fc1d04b8278>"
      ]
     },
     "execution_count": 21,
     "metadata": {},
     "output_type": "execute_result"
    },
    {
     "data": {
      "image/png": "[encoded data removed]",
      "text/plain": [
       "<Figure size 432x288 with 1 Axes>"
      ]
     },
     "metadata": {
      "needs_background": "light"
     },
     "output_type": "display_data"
    }
   ],
   "source": [
    "r = worst_massey_P[closest_idx]\n",
    "plt.imshow(worst_massey_D[r,:][:,r])"
   ]
  },
  {
   "cell_type": "code",
   "execution_count": 22,
   "metadata": {},
   "outputs": [
    {
     "data": {
      "text/plain": [
       "<matplotlib.image.AxesImage at 0x7fc1d040fc18>"
      ]
     },
     "execution_count": 22,
     "metadata": {},
     "output_type": "execute_result"
    },
    {
     "data": {
      "image/png": "[encoded data removed]",
      "text/plain": [
       "<Figure size 432x288 with 1 Axes>"
      ]
     },
     "metadata": {
      "needs_background": "light"
     },
     "output_type": "display_data"
    }
   ],
   "source": [
    "r = worst_massey_ranking\n",
    "plt.imshow(worst_massey_D[r,:][:,r])"
   ]
  },
  {
   "cell_type": "code",
   "execution_count": 24,
   "metadata": {},
   "outputs": [
    {
     "data": {
      "text/plain": [
       "(302, -0.3523809523809524)"
      ]
     },
     "execution_count": 24,
     "metadata": {},
     "output_type": "execute_result"
    }
   ],
   "source": [
    "worst_colley_idx = data[\"colley_max_tau\"].idxmin()\n",
    "worst_colley_idx, data[\"colley_max_tau\"].loc[worst_colley_idx]"
   ]
  },
  {
   "cell_type": "code",
   "execution_count": 25,
   "metadata": {},
   "outputs": [
    {
     "data": {
      "text/plain": [
       "([5, 11, 8, 9, 10, 14, 0, 1, 3, 4, 13, 2, 7, 12, 6],\n",
       " [10, 9, 5, 11, 8, 1, 14, 13, 7, 6, 4, 2, 12, 0, 3])"
      ]
     },
     "execution_count": 25,
     "metadata": {},
     "output_type": "execute_result"
    }
   ],
   "source": [
    "worst_colley_D = read_D(data.loc[worst_colley_idx][\"D\"])\n",
    "worst_colley_P = read_P(data.loc[worst_colley_idx][\"P\"])\n",
    "worst_colley_ranking = colley.rank(worst_colley_D)\n",
    "worst_colley_P, worst_colley_ranking\n",
    "\n",
    "taus = []\n",
    "for opt_rank in worst_colley_P:\n",
    "    tau, _ = stats.kendalltau(worst_colley_ranking, opt_rank)\n",
    "    taus.append(tau)\n",
    "closest_idx = np.array(taus).argmax()\n",
    "worst_colley_P[closest_idx], worst_colley_ranking"
   ]
  },
  {
   "cell_type": "code",
   "execution_count": 26,
   "metadata": {},
   "outputs": [
    {
     "data": {
      "text/plain": [
       "<matplotlib.image.AxesImage at 0x7fc1d03f6668>"
      ]
     },
     "execution_count": 26,
     "metadata": {},
     "output_type": "execute_result"
    },
    {
     "data": {
      "image/png": "[encoded data removed]",
      "text/plain": [
       "<Figure size 432x288 with 1 Axes>"
      ]
     },
     "metadata": {
      "needs_background": "light"
     },
     "output_type": "display_data"
    }
   ],
   "source": [
    "plt.imshow(worst_colley_D)"
   ]
  },
  {
   "cell_type": "code",
   "execution_count": 27,
   "metadata": {},
   "outputs": [
    {
     "data": {
      "text/plain": [
       "<matplotlib.image.AxesImage at 0x7fc1d07c35c0>"
      ]
     },
     "execution_count": 27,
     "metadata": {},
     "output_type": "execute_result"
    },
    {
     "data": {
      "image/png": "[encoded data removed]",
      "text/plain": [
       "<Figure size 432x288 with 1 Axes>"
      ]
     },
     "metadata": {
      "needs_background": "light"
     },
     "output_type": "display_data"
    }
   ],
   "source": [
    "r = worst_colley_P[closest_idx]\n",
    "plt.imshow(worst_colley_D[r,:][:,r])"
   ]
  },
  {
   "cell_type": "code",
   "execution_count": 28,
   "metadata": {},
   "outputs": [
    {
     "data": {
      "text/plain": [
       "<matplotlib.image.AxesImage at 0x7fc1d07fb4a8>"
      ]
     },
     "execution_count": 28,
     "metadata": {},
     "output_type": "execute_result"
    },
    {
     "data": {
      "image/png": "[encoded data removed]",
      "text/plain": [
       "<Figure size 432x288 with 1 Axes>"
      ]
     },
     "metadata": {
      "needs_background": "light"
     },
     "output_type": "display_data"
    }
   ],
   "source": [
    "r = worst_colley_ranking\n",
    "plt.imshow(worst_colley_D[r,:][:,r])"
   ]
  },
  {
   "cell_type": "code",
   "execution_count": null,
   "metadata": {},
   "outputs": [],
   "source": []
  }
 ],
 "metadata": {
  "kernelspec": {
   "display_name": "Python 3",
   "language": "python",
   "name": "python3"
  },
  "language_info": {
   "codemirror_mode": {
    "name": "ipython",
    "version": 3
   },
   "file_extension": ".py",
   "mimetype": "text/x-python",
   "name": "python",
   "nbconvert_exporter": "python",
   "pygments_lexer": "ipython3",
   "version": "3.6.9"
  }
 },
 "nbformat": 4,
 "nbformat_minor": 4
}
