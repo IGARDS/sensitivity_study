{
 "cells": [
  {
   "cell_type": "code",
   "execution_count": 1,
   "metadata": {},
   "outputs": [],
   "source": [
    "import math\n",
    "from scipy import stats\n",
    "import numpy as np\n",
    "import matplotlib.pyplot as plt\n",
    "import time"
   ]
  },
  {
   "cell_type": "code",
   "execution_count": 2,
   "metadata": {},
   "outputs": [],
   "source": [
    "def nCr(n,r):\n",
    "    f = math.factorial\n",
    "    return f(n) // f(r) // f(n-r)\n",
    "\n",
    "def calc_con_dis(perm_x,perm_y):\n",
    "    ncon = 0\n",
    "    ndis = 0\n",
    "    for i in range(len(perm_x)): # i is an item\n",
    "        i_x = np.where(np.array(perm_x)==i)[0] # location of i in perm_x\n",
    "        i_y = np.where(np.array(perm_y)==i)[0] # location of i in perm_y\n",
    "        for j in range(i+1,len(perm_x)): # j is another item\n",
    "            j_x = np.where(np.array(perm_x)==j)[0] # location of j in perm_x\n",
    "            j_y = np.where(np.array(perm_y)==j)[0] # location of j in perm_y\n",
    "            if i_x-j_x > 0 and i_y-j_y < 0:\n",
    "                ndis += 1\n",
    "            elif i_x-j_x < 0 and i_y-j_y > 0:\n",
    "                ndis += 1\n",
    "            elif i_x-j_x > 0 and i_y-j_y > 0:\n",
    "                ncon += 1\n",
    "            elif i_x-j_x < 0 and i_y-j_y < 0:\n",
    "                ncon += 1\n",
    "    return ncon, ndis\n",
    "\n",
    "def tau(perm_x,perm_y):\n",
    "    n = len(perm_x)\n",
    "    ncon,ndis = calc_con_dis(perm_x,perm_y)\n",
    "    return (ncon - ndis)/nCr(n,2)"
   ]
  },
  {
   "cell_type": "code",
   "execution_count": 3,
   "metadata": {},
   "outputs": [],
   "source": [
    "perfect_ranking = np.arange(10)\n",
    "perm1 = perfect_ranking.copy()\n",
    "np.random.shuffle(perm1)\n",
    "perm2 = perfect_ranking.copy()\n",
    "np.random.shuffle(perm2)"
   ]
  },
  {
   "cell_type": "code",
   "execution_count": 4,
   "metadata": {},
   "outputs": [
    {
     "name": "stdout",
     "output_type": "stream",
     "text": [
      "stats.kendalltau without argsort\n",
      "25.63433 seconds\n"
     ]
    }
   ],
   "source": [
    "start = time.time()\n",
    "for i in range(50000):\n",
    "    tau1, _ = stats.kendalltau(perm1, perm2)\n",
    "nosort_duration = time.time() - start\n",
    "print(\"stats.kendalltau without argsort\")\n",
    "print(\"{:.5f} seconds\".format(nosort_duration))"
   ]
  },
  {
   "cell_type": "code",
   "execution_count": 5,
   "metadata": {},
   "outputs": [
    {
     "name": "stdout",
     "output_type": "stream",
     "text": [
      "stats.kendalltau with argsort\n",
      "33.57684 seconds\n"
     ]
    }
   ],
   "source": [
    "start = time.time()\n",
    "for i in range(50000):\n",
    "    tau1, _ = stats.kendalltau(np.argsort(perm1), np.argsort(perm2))\n",
    "with_sort_duration = time.time() - start\n",
    "print(\"stats.kendalltau with argsort\")\n",
    "print(\"{:.5f} seconds\".format(with_sort_duration))"
   ]
  },
  {
   "cell_type": "code",
   "execution_count": 6,
   "metadata": {},
   "outputs": [
    {
     "name": "stdout",
     "output_type": "stream",
     "text": [
      "our own tau\n",
      "63.83092 seconds\n"
     ]
    }
   ],
   "source": [
    "start = time.time()\n",
    "for i in range(50000):\n",
    "    tau1 = tau(perm1, perm2)\n",
    "our_duration = time.time() - start\n",
    "print(\"our own tau\")\n",
    "print(\"{:.5f} seconds\".format(our_duration))"
   ]
  },
  {
   "cell_type": "code",
   "execution_count": 7,
   "metadata": {},
   "outputs": [
    {
     "name": "stdout",
     "output_type": "stream",
     "text": [
      "Using argsort increases duration by 30.98%\n"
     ]
    }
   ],
   "source": [
    "print(\"Using argsort increases duration by {:.2f}%\".format((with_sort_duration - nosort_duration)/nosort_duration*100))"
   ]
  }
 ],
 "metadata": {
  "kernelspec": {
   "display_name": "Python 3",
   "language": "python",
   "name": "python3"
  },
  "language_info": {
   "codemirror_mode": {
    "name": "ipython",
    "version": 3
   },
   "file_extension": ".py",
   "mimetype": "text/x-python",
   "name": "python",
   "nbconvert_exporter": "python",
   "pygments_lexer": "ipython3",
   "version": "3.6.9"
  }
 },
 "nbformat": 4,
 "nbformat_minor": 4
}
