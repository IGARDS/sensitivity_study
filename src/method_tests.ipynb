{
 "cells": [
  {
   "cell_type": "code",
   "execution_count": 23,
   "metadata": {},
   "outputs": [],
   "source": [
    "import unittest\n",
    "from sensitivity_tests import *\n",
    "import numpy as np"
   ]
  },
  {
   "cell_type": "code",
   "execution_count": 27,
   "metadata": {},
   "outputs": [
    {
     "name": "stderr",
     "output_type": "stream",
     "text": [
      "......\n",
      "----------------------------------------------------------------------\n",
      "Ran 6 tests in 0.006s\n",
      "\n",
      "OK\n"
     ]
    }
   ],
   "source": [
    "class TestRankingAlgs(unittest.TestCase):\n",
    "    def test_massey(self):\n",
    "        est = np.array([[0,1,0,0,0],\n",
    "                        [0,0,1,0,0],\n",
    "                        [0,0,0,1,0],\n",
    "                        [0,0,0,0,1],\n",
    "                        [0,0,0,0,0]])\n",
    "        fivegood = np.array([[0,1,0,0,0],\n",
    "                        [0,0,1,0,0],\n",
    "                        [0,0,0,1,0],\n",
    "                        [0,0,0,0,1],\n",
    "                        [1,1,1,1,0]])\n",
    "        perf = np.array([[0,1,1,1,1],\n",
    "                        [0,0,1,1,1],\n",
    "                        [0,0,0,1,1],\n",
    "                        [0,0,0,0,1],\n",
    "                        [0,0,0,0,0]])\n",
    "        t1 = np.array([ [0,5,5,5,5],\n",
    "                        [0,0,400,100,100],\n",
    "                        [0,0,0,1,1],\n",
    "                        [0,0,0,0,1], \n",
    "                        [0,0,0,0,0]])\n",
    "        masseyAlg = MasseyRankingAlgorithm()\n",
    "        self.assertEqual(masseyAlg.rank(t1), [5, 3, 4, 2, 1])\n",
    "        self.assertEqual(masseyAlg.rank(est), [5, 4, 3, 2, 1])\n",
    "\n",
    "    def test_colley(self):\n",
    "        est = np.array([[0,1,0,0,0],\n",
    "                        [0,0,1,0,0],\n",
    "                        [0,0,0,1,0],\n",
    "                        [0,0,0,0,1],\n",
    "                        [0,0,0,0,0]])\n",
    "        fivegood = np.array([[0,1,0,0,0],\n",
    "                        [0,0,1,0,0],\n",
    "                        [0,0,0,1,0],\n",
    "                        [0,0,0,0,1],\n",
    "                        [1,1,1,1,0]])\n",
    "        perf = np.array([[0,1,1,1,1],\n",
    "                        [0,0,1,1,1],\n",
    "                        [0,0,0,1,1],\n",
    "                        [0,0,0,0,1],\n",
    "                        [0,0,0,0,0]])\n",
    "        colleyAlg = ColleyRankingAlgorithm()\n",
    "        self.assertEqual(colleyAlg.rank(est), [5, 4, 3, 2, 1])\n",
    "        self.assertEqual(colleyAlg.rank(fivegood), [3, 2, 4, 1, 5])\n",
    "        self.assertEqual(colleyAlg.rank(perf), [5, 4, 3, 2, 1])\n",
    "    \n",
    "    \n",
    "    def test_markov(self):\n",
    "        pass\n",
    "\n",
    "if __name__ == '__main__':\n",
    "    unittest.main(argv=['first-arg-is-ignored'], exit=False)"
   ]
  },
  {
   "cell_type": "code",
   "execution_count": null,
   "metadata": {},
   "outputs": [],
   "source": []
  }
 ],
 "metadata": {
  "kernelspec": {
   "display_name": "Python 3",
   "language": "python",
   "name": "python3"
  },
  "language_info": {
   "codemirror_mode": {
    "name": "ipython",
    "version": 3
   },
   "file_extension": ".py",
   "mimetype": "text/x-python",
   "name": "python",
   "nbconvert_exporter": "python",
   "pygments_lexer": "ipython3",
   "version": "3.6.9"
  }
 },
 "nbformat": 4,
 "nbformat_minor": 4
}
