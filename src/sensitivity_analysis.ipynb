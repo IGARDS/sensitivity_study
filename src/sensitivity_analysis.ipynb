{
 "cells": [
  {
   "cell_type": "markdown",
   "metadata": {},
   "source": [
    "# Sensitivity Analysis\n",
    "This notebook analyzes sensitivity datasets to explore correlations between rankability and sensitivity."
   ]
  },
  {
   "cell_type": "code",
   "execution_count": null,
   "metadata": {},
   "outputs": [],
   "source": [
    "import numpy as np\n",
    "import matplotlib.pyplot as plt\n",
    "import pandas as pd\n",
    "import json\n",
    "from scipy import stats\n",
    "from sklearn.linear_model import LinearRegression"
   ]
  },
  {
   "cell_type": "code",
   "execution_count": null,
   "metadata": {},
   "outputs": [],
   "source": [
    "DATA_CSV_NAME = \"sensitivity_dataset_real.csv\""
   ]
  },
  {
   "cell_type": "code",
   "execution_count": null,
   "metadata": {},
   "outputs": [],
   "source": [
    "data = pd.read_csv(DATA_CSV_NAME)\n",
    "len(data)"
   ]
  },
  {
   "cell_type": "code",
   "execution_count": null,
   "metadata": {},
   "outputs": [],
   "source": [
    "list(data.columns)"
   ]
  },
  {
   "cell_type": "code",
   "execution_count": null,
   "metadata": {},
   "outputs": [],
   "source": [
    "sensitivities = [col for col in data.columns if \"mean_sensitivity\" in col]\n",
    "sensitivities"
   ]
  },
  {
   "cell_type": "code",
   "execution_count": null,
   "metadata": {},
   "outputs": [],
   "source": [
    "data[\"overall_mean_sensitivity\"] = data[sensitivities].mean(axis=1)"
   ]
  },
  {
   "cell_type": "code",
   "execution_count": null,
   "metadata": {},
   "outputs": [],
   "source": [
    "true_max_L2 = data[\"n_items\"].apply(lambda x: np.sqrt((x/3.0)*(x**2-1)))\n",
    "data[\"max_L2_dist\"] = data[\"max_L2_dist\"] / true_max_L2\n",
    "data[\"mean_L2_dist\"] = data[\"mean_L2_dist\"] / true_max_L2"
   ]
  },
  {
   "cell_type": "code",
   "execution_count": null,
   "metadata": {},
   "outputs": [],
   "source": [
    "def read_P(string):\n",
    "    return json.loads(string.replace(\"(\", \"[\").replace(\")\", \"]\"))\n",
    "\n",
    "def read_D(string):\n",
    "    return np.array(json.loads(string))\n",
    "\n",
    "def compute_from_D(string, func=np.sum):\n",
    "    return func(read_D(string))"
   ]
  },
  {
   "cell_type": "code",
   "execution_count": null,
   "metadata": {},
   "outputs": [],
   "source": [
    "# TODO (jwaschur): create train/test split for meaningful R_squared\n",
    "\n",
    "def run_linear_model(X, y, verbose=False):\n",
    "    if verbose:\n",
    "        print(\"##############################\")\n",
    "        print(\"Linear model:\")\n",
    "        print(\"Predicting {} from {}\".format(y.name, list(X.columns)))\n",
    "    \n",
    "    lm = LinearRegression()\n",
    "    model = lm.fit(X,y)\n",
    "    \n",
    "    predictions = lm.predict(X)\n",
    "    residuals = y - predictions\n",
    "    R_squared = lm.score(X,y)\n",
    "    coefficients = lm.coef_\n",
    "    intercept = lm.intercept_\n",
    "    \n",
    "    # Get p-values for each of the parameters\n",
    "    # Code found at https://stackoverflow.com/questions/27928275/find-p-value-significance-in-scikit-learn-linearregression\n",
    "    params = np.append(intercept,coefficients)\n",
    "    newX = pd.DataFrame({\"Constant\":np.ones(len(X))}).join(pd.DataFrame(X.reset_index(drop=True)))\n",
    "    MSE = (sum((y-predictions)**2))/(len(newX)-len(newX.columns))\n",
    "    var_b = MSE*(np.linalg.inv(np.dot(newX.T,newX)).diagonal())\n",
    "    sd_b = np.sqrt(var_b)\n",
    "    ts_b = params/ sd_b\n",
    "    p_values =[2*(1-stats.t.cdf(np.abs(i),(len(newX)-len(newX.columns)-1))) for i in ts_b]\n",
    "    \n",
    "    # Plot the model with predictions if only one predictor\n",
    "    if len(X.columns) == 1:\n",
    "        col = X.columns[0]\n",
    "        plt.scatter(X[col], y, alpha=0.1, color=\"b\")\n",
    "        plt.plot(X[col], predictions, color=\"r\", label=\"y = {:.3E}*x + {:.3E}\".format(coefficients[0], intercept))\n",
    "        plt.xlabel(col)\n",
    "        plt.ylabel(y.name)\n",
    "        plt.legend()\n",
    "        plt.title(\"Linear Model (R^2 = {:.3f}, p = {:.2E})\".format(R_squared, p_values[1]))\n",
    "        plt.show()\n",
    "        plt.clf()\n",
    "    else:\n",
    "        print(\"\\nR^2 = {:.3f}\\n\".format(R_squared))\n",
    "        print(\"{:15}  {:8} (p-value)\".format(\"Predictor\", \"Coeff\"))\n",
    "        print(\"---------------------------------------\")\n",
    "        print(\"{:15}: {:8.4f} (p = {:.2E})\".format(\"Intercept\", intercept, p_values[0]))\n",
    "        for idx, col in enumerate(X.columns):\n",
    "            print(\"{:15}: {:8.4f} (p = {:.2E})\".format(col, coefficients[idx], p_values[idx+1]))\n",
    "    \n",
    "    if verbose:\n",
    "        # Plot the histogram of residuals\n",
    "        plt.hist(residuals, bins=30, density=True)\n",
    "        plt.xlabel(\"Residual\")\n",
    "        plt.ylabel(\"Density\")\n",
    "        plt.title(\"Residual Density Histogram\")\n",
    "        plt.show()\n",
    "\n",
    "        print(\"##############################\\n\")"
   ]
  },
  {
   "cell_type": "code",
   "execution_count": null,
   "metadata": {},
   "outputs": [],
   "source": [
    "rankability_measures = [\"kendall_w\", \"p_lowerbound\", \"max_L2_dist\", \"mean_L2_dist\", \"min_tau\", \"mean_tau\", \"k\", \"degree_of_linearity\"]\n",
    "\n",
    "for measure in rankability_measures:\n",
    "    X = data[[measure]]\n",
    "    y = data[\"overall_mean_sensitivity\"]\n",
    "    run_linear_model(X, y, verbose=True)\n",
    "\n",
    "run_linear_model(data[rankability_measures],\n",
    "                 data[\"overall_mean_sensitivity\"],\n",
    "                 verbose=True)"
   ]
  },
  {
   "cell_type": "code",
   "execution_count": null,
   "metadata": {},
   "outputs": [],
   "source": [
    "for sensitivity in sensitivities:\n",
    "    X = data[[\"k\"]]\n",
    "    y = data[sensitivity]\n",
    "    run_linear_model(X, y, verbose=True)\n",
    "\n",
    "run_linear_model(data[[\"k\"]],\n",
    "                 data[\"overall_mean_sensitivity\"],\n",
    "                 verbose=True)"
   ]
  },
  {
   "cell_type": "code",
   "execution_count": null,
   "metadata": {},
   "outputs": [],
   "source": [
    "for measure in rankability_measures:\n",
    "    if measure == \"k\":\n",
    "        continue\n",
    "    run_linear_model(data[[measure]], data[\"k\"], verbose=True)"
   ]
  },
  {
   "cell_type": "code",
   "execution_count": null,
   "metadata": {},
   "outputs": [],
   "source": [
    "data_temp_mask = (data[\"k\"] > 55) & (data[\"k\"] < 68)\n",
    "data_temp = data.loc[data_temp_mask]\n",
    "run_linear_model(data_temp[[\"k\"]],\n",
    "                 data_temp[\"overall_mean_sensitivity\"],\n",
    "                 verbose=True)"
   ]
  },
  {
   "cell_type": "code",
   "execution_count": null,
   "metadata": {},
   "outputs": [],
   "source": [
    "def read_P(string):\n",
    "    return json.loads(string.replace(\"(\", \"[\").replace(\")\", \"]\"))\n",
    "\n",
    "predicted_ps = []\n",
    "for P_str in data[\"P_repeats\"]:\n",
    "    P_repeats = read_P(P_str)\n",
    "    P_repeats = [str(r) for r in P_repeats]\n",
    "    repeats = pd.Series(P_repeats).value_counts().value_counts()\n",
    "    f1 = repeats.loc[1] if 1 in repeats.index else 0\n",
    "    f2 = repeats.loc[2] if 2 in repeats.index else 0.5\n",
    "    predicted_ps.append(repeats.sum() + f1**2/(2*f2))\n",
    "predicted_ps = pd.Series(predicted_ps, name=\"predicted_p\")\n",
    "print(predicted_ps - data[\"p_lowerbound\"])\n",
    "run_linear_model(pd.DataFrame(predicted_ps), data[\"overall_mean_sensitivity\"], verbose=True)"
   ]
  }
 ],
 "metadata": {
  "kernelspec": {
   "display_name": "Python 3",
   "language": "python",
   "name": "python3"
  },
  "language_info": {
   "codemirror_mode": {
    "name": "ipython",
    "version": 3
   },
   "file_extension": ".py",
   "mimetype": "text/x-python",
   "name": "python",
   "nbconvert_exporter": "python",
   "pygments_lexer": "ipython3",
   "version": "3.6.9"
  }
 },
 "nbformat": 4,
 "nbformat_minor": 4
}
