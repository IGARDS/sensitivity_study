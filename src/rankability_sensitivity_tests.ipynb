{
 "cells": [
  {
   "cell_type": "code",
   "execution_count": 1,
   "metadata": {},
   "outputs": [],
   "source": [
    "%load_ext autoreload\n",
    "%autoreload 2"
   ]
  },
  {
   "cell_type": "code",
   "execution_count": 2,
   "metadata": {},
   "outputs": [
    {
     "name": "stdout",
     "output_type": "stream",
     "text": [
      "Academic license - for non-commercial use only\n"
     ]
    }
   ],
   "source": [
    "from sensitivity_tests import *\n",
    "import matplotlib.pyplot as plt\n",
    "import pandas as pd\n",
    "from tqdm import tqdm\n",
    "from pathlib import Path\n",
    "import os\n",
    "\n",
    "from gurobipy import *\n",
    "setParam(\"OutputFlag\", 0)"
   ]
  },
  {
   "cell_type": "code",
   "execution_count": null,
   "metadata": {},
   "outputs": [
    {
     "name": "stderr",
     "output_type": "stream",
     "text": [
      "  0%|          | 0/2 [00:00<?, ?it/s]"
     ]
    }
   ],
   "source": [
    "ELO_var = [10, 20]\n",
    "n_instances = 1000\n",
    "n_trials = 250\n",
    "n_items = 15\n",
    "\n",
    "dataset = []\n",
    "for var in tqdm(ELO_var):\n",
    "    data_source = SynthELOTournamentSource(n_items, n_games=1, comp_var=var)\n",
    "    for instance_idx in range(n_instances):\n",
    "        dataset.append(ProblemInstance(data_source).collect_data(n_sensitivity_trials=n_trials))\n",
    "df = pd.DataFrame(dataset)"
   ]
  },
  {
   "cell_type": "code",
   "execution_count": null,
   "metadata": {},
   "outputs": [],
   "source": [
    "df.to_csv(\"sensitivity_dataset_binary.csv\")"
   ]
  },
  {
   "cell_type": "code",
   "execution_count": null,
   "metadata": {},
   "outputs": [],
   "source": [
    "sensitivities = [col for col in df.columns if \"mean_sensitivity\" in col]\n",
    "sensitivities"
   ]
  },
  {
   "cell_type": "code",
   "execution_count": null,
   "metadata": {},
   "outputs": [],
   "source": [
    "df[\"overall_mean_sensitivity\"] = df[sensitivities].mean(axis=1)"
   ]
  },
  {
   "cell_type": "code",
   "execution_count": null,
   "metadata": {},
   "outputs": [],
   "source": [
    "df.plot.scatter(\"p_lowerbound\", \"overall_mean_sensitivity\", title=\"Sensitivity by p\")"
   ]
  },
  {
   "cell_type": "code",
   "execution_count": null,
   "metadata": {},
   "outputs": [],
   "source": [
    "df.plot.scatter(\"kendall_w\", \"overall_mean_sensitivity\", title=\"Sensitivity by Kendall W\")"
   ]
  },
  {
   "cell_type": "code",
   "execution_count": null,
   "metadata": {},
   "outputs": [],
   "source": [
    "df.plot.scatter(\"max_L2_dist\", \"overall_mean_sensitivity\", title=\"Sensitivity by Max L2 Dist\")"
   ]
  },
  {
   "cell_type": "code",
   "execution_count": null,
   "metadata": {},
   "outputs": [],
   "source": [
    "df.plot.scatter(\"mean_L2_dist\", \"overall_mean_sensitivity\", title=\"Sensitivity by Mean L2 Dist\")"
   ]
  },
  {
   "cell_type": "code",
   "execution_count": null,
   "metadata": {},
   "outputs": [],
   "source": [
    "df.plot.scatter(\"min_tau\", \"overall_mean_sensitivity\", title=\"Sensitivity by Min Tau\")"
   ]
  },
  {
   "cell_type": "code",
   "execution_count": null,
   "metadata": {},
   "outputs": [],
   "source": [
    "df.plot.scatter(\"mean_tau\", \"overall_mean_sensitivity\", title=\"Sensitivity by Mean Tau\")"
   ]
  },
  {
   "cell_type": "code",
   "execution_count": null,
   "metadata": {},
   "outputs": [],
   "source": [
    "def plot_taus(rankability_vals, taus, method_name, scatter_alpha=0.01, histogram_bins=30, save_dir=\"rankability_figures_run5\"):\n",
    "    # Create directory for saving if specified\n",
    "    saving = False\n",
    "    if save_dir is not None and save_dir != \"\":\n",
    "        Path(save_dir).mkdir(parents=True, exist_ok=True)\n",
    "        saving = True\n",
    "    \n",
    "    # Plot scatter plot\n",
    "    plt.scatter(rankability_vals, taus, alpha=scatter_alpha)\n",
    "    title = \"%s Sensitivity Scatter\" % method_name\n",
    "    plt.title(title)\n",
    "    plt.xlabel('Rankability')\n",
    "    plt.xlim(0.0, 1.0)\n",
    "    plt.ylabel('Tau')\n",
    "    plt.ylim(-1.0, 1.0)\n",
    "    if saving:\n",
    "        save_path = os.path.join(save_dir, title.replace(\" \", \"_\") + \".png\")\n",
    "        plt.savefig(save_path)\n",
    "    plt.show()\n",
    "    \n",
    "    # Plot 2D Histogram\n",
    "    plt.hist2d(rankability_vals, taus, bins=histogram_bins, range=[[0.0, 1.0], [-1.0, 1.0]])\n",
    "    title = \"%s Sensitivity Histogram\" % method_name\n",
    "    plt.title(title)\n",
    "    plt.xlabel('Rankability')\n",
    "    plt.ylabel('Tau')\n",
    "    if saving:\n",
    "        save_path = os.path.join(save_dir, title.replace(\" \", \"_\") + \".png\")\n",
    "        plt.savefig(save_path)\n",
    "    plt.show()"
   ]
  }
 ],
 "metadata": {
  "kernelspec": {
   "display_name": "Python 3",
   "language": "python",
   "name": "python3"
  },
  "language_info": {
   "codemirror_mode": {
    "name": "ipython",
    "version": 3
   },
   "file_extension": ".py",
   "mimetype": "text/x-python",
   "name": "python",
   "nbconvert_exporter": "python",
   "pygments_lexer": "ipython3",
   "version": "3.6.9"
  }
 },
 "nbformat": 4,
 "nbformat_minor": 4
}
