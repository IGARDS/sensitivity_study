{
 "cells": [
  {
   "cell_type": "markdown",
   "metadata": {},
   "source": [
    "# March Madness Experiment Refactored\n"
   ]
  },
  {
   "cell_type": "code",
   "execution_count": 1,
   "metadata": {},
   "outputs": [],
   "source": [
    "%load_ext autoreload\n",
    "%autoreload 2\n",
    "%matplotlib inline"
   ]
  },
  {
   "cell_type": "code",
   "execution_count": 8,
   "metadata": {},
   "outputs": [],
   "source": [
    "import pandas as pd\n",
    "import numpy as np\n",
    "import matplotlib.pyplot as plt\n",
    "from tqdm import tqdm\n",
    "from sklearn.dummy import DummyRegressor\n",
    "from sklearn.linear_model import LinearRegression\n",
    "\n",
    "from pathlib import Path\n",
    "home = str(Path.home())\n",
    "import sys\n",
    "sys.path.insert(0,\"%s/sensitivity_study/src\"%home)\n",
    "from experiment import read_raw_pairwise, construct_support_matrix, get_features_from_support, get_target_stability, eval_models\n",
    "from sensitivity_tests import *\n",
    "import utilities"
   ]
  },
  {
   "cell_type": "code",
   "execution_count": 3,
   "metadata": {},
   "outputs": [],
   "source": [
    "years = [\"2002\", \"2003\", \"2004\", \"2005\", \"2006\", \"2007\", \"2008\", \"2009\",\n",
    "             \"2010\", \"2011\", \"2012\", \"2013\", \"2014\", \"2015\", \"2016\", \"2017\", \"2018\"]\n",
    "\n",
    "config = {\n",
    "    \"col_mapping\": {\n",
    "        \"team1_name\":\"team1_name\",\n",
    "        \"team1_score\":\"points1\",\n",
    "        \"team2_name\":\"team2_name\",\n",
    "        \"team2_score\":\"points2\",\n",
    "        \"team1_select\": \"team1_madness\",\n",
    "        \"team2_select\": \"team2_madness\",\n",
    "        \"date\":\"date\"\n",
    "    },\n",
    "    \"rankingMethod\": MasseyRankingAlgorithm(),\n",
    "    \"correlationMethod\":utilities.kendall_tau,\n",
    "    \"pair\": (.75, 1.0),\n",
    "    \"n_restarts\": 5,\n",
    "    \"direct_thres\": 2,\n",
    "    \"spread_thres\": 2,\n",
    "    \"weight_indirect\": 0.5,\n",
    "    \"raw_filepaths\": [\"{}/sensitivity_study/data/MarchMadnessDataFrames/march_madness_{}.csv\".format(home,yr) for yr in years],\n",
    "    \"model_list\": [{\"model\":DummyRegressor(), \"param_grid\": {}},\n",
    "                   {\"model\":LinearRegression(), \"param_grid\": {'fit_intercept': [True, False]}}]\n",
    "}"
   ]
  },
  {
   "cell_type": "code",
   "execution_count": 4,
   "metadata": {},
   "outputs": [
    {
     "name": "stderr",
     "output_type": "stream",
     "text": [
      "100%|██████████| 17/17 [00:00<00:00, 38.47it/s]\n"
     ]
    }
   ],
   "source": [
    "games = {fp: read_raw_pairwise(fp, config[\"col_mapping\"]) for fp in tqdm(config[\"raw_filepaths\"])}"
   ]
  },
  {
   "cell_type": "code",
   "execution_count": 5,
   "metadata": {},
   "outputs": [
    {
     "name": "stderr",
     "output_type": "stream",
     "text": [
      "  0%|          | 0/17 [00:00<?, ?it/s]"
     ]
    },
    {
     "name": "stdout",
     "output_type": "stream",
     "text": [
      "Academic license - for non-commercial use only\n"
     ]
    },
    {
     "name": "stderr",
     "output_type": "stream",
     "text": [
      "100%|██████████| 17/17 [06:39<00:00, 23.50s/it]\n"
     ]
    }
   ],
   "source": [
    "target_list = []\n",
    "support_matricies = {}\n",
    "feature_df_list = []\n",
    "# For each raw file (equivalent to a season / tournament / single scenario)\n",
    "# get feature vector and target scalar\n",
    "for fp in tqdm(games.keys()):\n",
    "    support_matricies[fp] = {}\n",
    "    # For both fractions in pair, construct the support matrices\n",
    "    for frac in config[\"pair\"]:\n",
    "        support_matricies[fp][frac] = construct_support_matrix(games[fp],\n",
    "                                                               frac,\n",
    "                                                               direct_thres=config[\"direct_thres\"],\n",
    "                                                               spread_thres=config[\"spread_thres\"],\n",
    "                                                               weight_indirect=config[\"weight_indirect\"])\n",
    "    # Now from the less-informed support, get features\n",
    "    feature_df_list.append(get_features_from_support(support_matricies[fp][config[\"pair\"][0]], config[\"n_restarts\"]))\n",
    "    feature_df_list[-1].name = fp\n",
    "\n",
    "    # From both less-informed and more informed supports, get target (rank correlations)\n",
    "    target_list.append(get_target_stability(support_matricies[fp][config[\"pair\"][0]],\n",
    "                                            support_matricies[fp][config[\"pair\"][1]],\n",
    "                                            config[\"rankingMethod\"],\n",
    "                                            config[\"correlationMethod\"]))\n",
    "# good spot for a checkpoint: support_matricies\n",
    "features = pd.DataFrame(feature_df_list)\n",
    "targets = pd.Series(target_list,index=features.index)\n",
    "# good spot for a checkpoint: features, targets"
   ]
  },
  {
   "cell_type": "code",
   "execution_count": 6,
   "metadata": {},
   "outputs": [
    {
     "name": "stderr",
     "output_type": "stream",
     "text": [
      "100%|██████████| 8190/8190 [06:49<00:00, 20.02it/s]\n",
      "100%|██████████| 8190/8190 [12:18<00:00, 11.09it/s]\n"
     ]
    }
   ],
   "source": [
    "results_dict = eval_models(features, targets, config[\"model_list\"])"
   ]
  },
  {
   "cell_type": "code",
   "execution_count": 9,
   "metadata": {},
   "outputs": [
    {
     "data": {
      "image/png": "[encoded data removed]",
      "text/plain": [
       "<Figure size 432x288 with 1 Axes>"
      ]
     },
     "metadata": {
      "needs_background": "light"
     },
     "output_type": "display_data"
    }
   ],
   "source": [
    "x = results_dict.keys()\n",
    "maes = [results_dict[model][\"MAE\"] for model in x]\n",
    "x_pos = [i for i, _ in enumerate(x)]\n",
    "\n",
    "plt.bar(x_pos, maes)\n",
    "plt.xlabel(\"Model\")\n",
    "plt.ylabel(\"Error\")\n",
    "plt.title(\"Mean Absolute Error of Regression Models\")\n",
    "\n",
    "plt.xticks(x_pos, x)\n",
    "\n",
    "plt.show()"
   ]
  },
  {
   "cell_type": "code",
   "execution_count": null,
   "metadata": {},
   "outputs": [],
   "source": []
  }
 ],
 "metadata": {
  "kernelspec": {
   "display_name": "Python 3",
   "language": "python",
   "name": "python3"
  },
  "language_info": {
   "codemirror_mode": {
    "name": "ipython",
    "version": 3
   },
   "file_extension": ".py",
   "mimetype": "text/x-python",
   "name": "python",
   "nbconvert_exporter": "python",
   "pygments_lexer": "ipython3",
   "version": "3.6.9"
  }
 },
 "nbformat": 4,
 "nbformat_minor": 4
}
