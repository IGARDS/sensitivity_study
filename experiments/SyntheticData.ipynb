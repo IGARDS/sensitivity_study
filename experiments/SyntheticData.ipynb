{
 "cells": [
  {
   "cell_type": "markdown",
   "metadata": {},
   "source": [
    "## Rankability Predicting Sensitivity\n",
    "### Synthetic Data"
   ]
  },
  {
   "cell_type": "code",
   "execution_count": 1,
   "metadata": {},
   "outputs": [],
   "source": [
    "%load_ext autoreload\n",
    "%autoreload 2\n",
    "%matplotlib inline"
   ]
  },
  {
   "cell_type": "code",
   "execution_count": 2,
   "metadata": {},
   "outputs": [],
   "source": [
    "import copy\n",
    "import os\n",
    "import random\n",
    "import pandas as pd\n",
    "import numpy as np\n",
    "import matplotlib.pyplot as plt\n",
    "from scipy.stats import pearsonr\n",
    "from scipy.stats import skew"
   ]
  },
  {
   "cell_type": "code",
   "execution_count": 3,
   "metadata": {},
   "outputs": [],
   "source": [
    "import sys\n",
    "# We need to include the path to pyrankability. This could be different for Tim, but altneratively he could point to your copy\n",
    "sys.path.insert(0,\"/disk/home/jwaschur/rankability_toolbox_dev\")\n",
    "import pyrankability"
   ]
  },
  {
   "cell_type": "code",
   "execution_count": 4,
   "metadata": {},
   "outputs": [],
   "source": [
    "sys.path.insert(0,\"/disk/home/jwaschur/sensitivity_study/src\")\n",
    "from sensitivity_tests import *\n",
    "from utilities import *\n",
    "from base import *"
   ]
  },
  {
   "cell_type": "code",
   "execution_count": 5,
   "metadata": {},
   "outputs": [
    {
     "data": {
      "image/png": "[encoded data removed]",
      "text/plain": [
       "<Figure size 432x288 with 1 Axes>"
      ]
     },
     "metadata": {
      "needs_background": "light"
     },
     "output_type": "display_data"
    }
   ],
   "source": [
    "def sigmoid(x):\n",
    "    return 1 / (1 + np.exp(-x))\n",
    "\n",
    "ELO_scale = 0.25\n",
    "\n",
    "xs = np.linspace(0.0, 1.0, endpoint=True, num=100)\n",
    "ys = sigmoid(xs/ELO_scale)*100.0\n",
    "\n",
    "plt.grid(True, axis=\"both\", which=\"both\", linestyle=\":\")\n",
    "plt.plot(xs, ys)\n",
    "plt.title(\"Skill Difference to P(win) curve\")\n",
    "plt.show()"
   ]
  },
  {
   "cell_type": "code",
   "execution_count": 6,
   "metadata": {},
   "outputs": [],
   "source": [
    "def generate_synth_games(n_games=748, n_teams=32, n_pts=64):\n",
    "    # Columns are team1, team2, points1, points2, date\n",
    "    df = {\n",
    "        \"team1\":[],\n",
    "        \"team2\":[],\n",
    "        \"team1_name\":[],\n",
    "        \"team2_name\":[],\n",
    "        \"points1\":[],\n",
    "        \"points2\":[]\n",
    "    }\n",
    "    all_teams = range(n_teams)\n",
    "    all_skills = np.linspace(0.0, 1.0, endpoint=True, num=n_teams)\n",
    "    for date in range(n_games):\n",
    "        t1 = date % n_teams\n",
    "        t2 = t1\n",
    "        while t2 == t1:\n",
    "            t2 = random.choice(all_teams)\n",
    "        scaled_elo_diff = (all_skills[t1] - all_skills[t2])/ELO_scale\n",
    "        prob_t1_win = sigmoid(scaled_elo_diff)\n",
    "        t1_pts = n_pts*np.random.binomial(n=1, p=prob_t1_win)\n",
    "        t2_pts = n_pts - t1_pts\n",
    "        df[\"team1\"].append(t1)\n",
    "        df[\"team2\"].append(t2)\n",
    "        df[\"team1_name\"].append(str(t1))\n",
    "        df[\"team2_name\"].append(str(t2))\n",
    "        df[\"points1\"].append(t1_pts)\n",
    "        df[\"points2\"].append(t2_pts)\n",
    "    return pd.DataFrame(df)"
   ]
  },
  {
   "cell_type": "code",
   "execution_count": 7,
   "metadata": {},
   "outputs": [
    {
     "data": {
      "text/html": [
       "<div>\n",
       "<style scoped>\n",
       "    .dataframe tbody tr th:only-of-type {\n",
       "        vertical-align: middle;\n",
       "    }\n",
       "\n",
       "    .dataframe tbody tr th {\n",
       "        vertical-align: top;\n",
       "    }\n",
       "\n",
       "    .dataframe thead th {\n",
       "        text-align: right;\n",
       "    }\n",
       "</style>\n",
       "<table border=\"1\" class=\"dataframe\">\n",
       "  <thead>\n",
       "    <tr style=\"text-align: right;\">\n",
       "      <th></th>\n",
       "      <th>team1</th>\n",
       "      <th>team2</th>\n",
       "      <th>team1_name</th>\n",
       "      <th>team2_name</th>\n",
       "      <th>points1</th>\n",
       "      <th>points2</th>\n",
       "    </tr>\n",
       "  </thead>\n",
       "  <tbody>\n",
       "    <tr>\n",
       "      <th>0</th>\n",
       "      <td>0</td>\n",
       "      <td>20</td>\n",
       "      <td>0</td>\n",
       "      <td>20</td>\n",
       "      <td>0</td>\n",
       "      <td>64</td>\n",
       "    </tr>\n",
       "    <tr>\n",
       "      <th>1</th>\n",
       "      <td>1</td>\n",
       "      <td>26</td>\n",
       "      <td>1</td>\n",
       "      <td>26</td>\n",
       "      <td>0</td>\n",
       "      <td>64</td>\n",
       "    </tr>\n",
       "    <tr>\n",
       "      <th>2</th>\n",
       "      <td>2</td>\n",
       "      <td>12</td>\n",
       "      <td>2</td>\n",
       "      <td>12</td>\n",
       "      <td>0</td>\n",
       "      <td>64</td>\n",
       "    </tr>\n",
       "    <tr>\n",
       "      <th>3</th>\n",
       "      <td>3</td>\n",
       "      <td>18</td>\n",
       "      <td>3</td>\n",
       "      <td>18</td>\n",
       "      <td>0</td>\n",
       "      <td>64</td>\n",
       "    </tr>\n",
       "    <tr>\n",
       "      <th>4</th>\n",
       "      <td>4</td>\n",
       "      <td>22</td>\n",
       "      <td>4</td>\n",
       "      <td>22</td>\n",
       "      <td>0</td>\n",
       "      <td>64</td>\n",
       "    </tr>\n",
       "    <tr>\n",
       "      <th>...</th>\n",
       "      <td>...</td>\n",
       "      <td>...</td>\n",
       "      <td>...</td>\n",
       "      <td>...</td>\n",
       "      <td>...</td>\n",
       "      <td>...</td>\n",
       "    </tr>\n",
       "    <tr>\n",
       "      <th>743</th>\n",
       "      <td>7</td>\n",
       "      <td>30</td>\n",
       "      <td>7</td>\n",
       "      <td>30</td>\n",
       "      <td>0</td>\n",
       "      <td>64</td>\n",
       "    </tr>\n",
       "    <tr>\n",
       "      <th>744</th>\n",
       "      <td>8</td>\n",
       "      <td>19</td>\n",
       "      <td>8</td>\n",
       "      <td>19</td>\n",
       "      <td>64</td>\n",
       "      <td>0</td>\n",
       "    </tr>\n",
       "    <tr>\n",
       "      <th>745</th>\n",
       "      <td>9</td>\n",
       "      <td>5</td>\n",
       "      <td>9</td>\n",
       "      <td>5</td>\n",
       "      <td>64</td>\n",
       "      <td>0</td>\n",
       "    </tr>\n",
       "    <tr>\n",
       "      <th>746</th>\n",
       "      <td>10</td>\n",
       "      <td>9</td>\n",
       "      <td>10</td>\n",
       "      <td>9</td>\n",
       "      <td>64</td>\n",
       "      <td>0</td>\n",
       "    </tr>\n",
       "    <tr>\n",
       "      <th>747</th>\n",
       "      <td>11</td>\n",
       "      <td>6</td>\n",
       "      <td>11</td>\n",
       "      <td>6</td>\n",
       "      <td>0</td>\n",
       "      <td>64</td>\n",
       "    </tr>\n",
       "  </tbody>\n",
       "</table>\n",
       "<p>748 rows × 6 columns</p>\n",
       "</div>"
      ],
      "text/plain": [
       "     team1  team2 team1_name team2_name  points1  points2\n",
       "0        0     20          0         20        0       64\n",
       "1        1     26          1         26        0       64\n",
       "2        2     12          2         12        0       64\n",
       "3        3     18          3         18        0       64\n",
       "4        4     22          4         22        0       64\n",
       "..     ...    ...        ...        ...      ...      ...\n",
       "743      7     30          7         30        0       64\n",
       "744      8     19          8         19       64        0\n",
       "745      9      5          9          5       64        0\n",
       "746     10      9         10          9       64        0\n",
       "747     11      6         11          6        0       64\n",
       "\n",
       "[748 rows x 6 columns]"
      ]
     },
     "execution_count": 7,
     "metadata": {},
     "output_type": "execute_result"
    }
   ],
   "source": [
    "games={}\n",
    "years = list(range(1000))\n",
    "for year in years:\n",
    "    games[year] = generate_synth_games()\n",
    "\n",
    "games[year]"
   ]
  },
  {
   "cell_type": "code",
   "execution_count": 8,
   "metadata": {},
   "outputs": [
    {
     "name": "stderr",
     "output_type": "stream",
     "text": [
      "  0%|          | 0/1000 [00:00<?, ?it/s]/disk/home/jwaschur/rankability_toolbox_dev/pyrankability/construct.py:36: SettingWithCopyWarning: \n",
      "A value is trying to be set on a copy of a slice from a DataFrame.\n",
      "Try using .loc[row_indexer,col_indexer] = value instead\n",
      "\n",
      "See the caveats in the documentation: https://pandas.pydata.org/pandas-docs/stable/user_guide/indexing.html#returning-a-view-versus-a-copy\n",
      "  game_df[\"game\"] = list(game_df.index)\n",
      "100%|██████████| 1000/1000 [18:39<00:00,  1.12s/it]\n"
     ]
    }
   ],
   "source": [
    "# Note to future self: Parameters from FODS paper but might need to be optimized\n",
    "direct_thres = 2\n",
    "spread_thres = 2\n",
    "weight_indirect = 0.5\n",
    "Ds = {}\n",
    "#fracs = [0.5, 0.75, 1.] # 25% of total data added per step\n",
    "fracs = [0.512, 0.64, 0.8, 1.] # 25% of current data added per step\n",
    "#fracs = [0.8, 1.0] # simpler case\n",
    "pairs = list(zip(fracs[:-1], fracs[1:]))\n",
    "pair_to_predict = pairs[0]\n",
    "\n",
    "for year in tqdm(games.keys()):\n",
    "    Ds[year] = {}\n",
    "    game_list = list(games[year].index)\n",
    "    \n",
    "    game_df = pd.DataFrame({\"team1_name\":games[year]['team1_name'],\n",
    "                            \"team1_score\":games[year]['points1'],\n",
    "                            \"team2_name\":games[year]['team2_name'],\n",
    "                            \"team2_score\":games[year]['points2']\n",
    "                           })\n",
    "    for frac in fracs:\n",
    "        upper = int(len(game_df)*frac)\n",
    "        game_df_sample = game_df.iloc[:upper,:]\n",
    "        map_func = lambda linked: support_map_vectorized_direct_indirect_weighted(linked,direct_thres=direct_thres,spread_thres=spread_thres,weight_indirect=weight_indirect)\n",
    "        Ds[year][frac] = pyrankability.construct.V_count_vectorized(game_df_sample,map_func)"
   ]
  },
  {
   "cell_type": "code",
   "execution_count": 9,
   "metadata": {},
   "outputs": [
    {
     "name": "stdout",
     "output_type": "stream",
     "text": [
      "team2    0    1   10   11    12    13   14   15   16   17  ...   29     3  \\\n",
      "team1                                                      ...              \n",
      "0      NaN  1.0  2.0  1.5   1.5   3.5  2.5  0.0  0.0  0.5  ...  0.0   2.5   \n",
      "1      3.0  NaN  4.5  0.5   1.0   2.0  1.5  0.0  0.0  1.0  ...  0.0   1.5   \n",
      "10     8.5  4.5  NaN  3.0   5.0   5.5  5.5  1.0  3.0  1.0  ...  0.0   5.0   \n",
      "11     3.0  2.5  3.0  NaN   2.0   3.0  4.5  1.5  0.5  0.5  ...  0.0   5.0   \n",
      "12     1.0  5.0  2.5  0.5   NaN   0.5  0.0  1.5  0.0  0.0  ...  0.0   6.0   \n",
      "13     7.5  5.5  8.0  1.5   5.5   NaN  4.5  1.5  2.5  0.5  ...  1.0   8.5   \n",
      "14     2.5  1.5  2.0  3.0   2.5   0.5  NaN  2.0  0.5  1.5  ...  0.0   4.5   \n",
      "15     2.0  2.0  2.0  3.0   3.0   3.0  5.5  NaN  3.0  4.0  ...  0.0   6.0   \n",
      "16     2.0  4.5  4.0  3.0   3.0   4.5  2.5  0.5  NaN  0.5  ...  0.5   1.5   \n",
      "17     5.5  5.5  1.5  5.5   5.0   4.0  5.5  4.0  4.5  NaN  ...  0.0   9.0   \n",
      "18     5.5  7.0  3.5  6.5   7.0   4.5  5.0  4.0  5.0  4.5  ...  0.5   8.5   \n",
      "19     5.0  5.5  4.5  6.5   6.5   4.5  5.5  6.5  4.0  4.5  ...  1.0   9.0   \n",
      "2      2.5  1.0  1.0  2.0   2.5   1.0  1.0  1.5  0.0  0.0  ...  0.0   9.0   \n",
      "20     2.0  6.0  2.5  4.5   2.5   1.0  2.0  6.5  2.5  3.5  ...  0.0   5.5   \n",
      "21     3.0  3.0  3.0  2.0   2.5   3.0  2.0  2.0  3.5  0.5  ...  1.0   3.0   \n",
      "22     8.0  5.0  7.0  5.0   7.0  12.0  2.5  2.0  1.0  1.5  ...  1.5   5.0   \n",
      "23     5.0  5.5  6.0  4.5  10.5  12.5  8.0  1.0  2.0  1.5  ...  2.5   7.0   \n",
      "24     2.0  4.0  1.5  4.0   5.5   4.5  1.5  4.5  1.5  3.0  ...  0.5  10.0   \n",
      "25     4.5  7.5  9.5  4.5   2.5   5.5  4.5  1.0  2.5  1.5  ...  0.5   3.0   \n",
      "26     9.0  7.5  8.0  7.0   4.5   6.0  4.5  2.5  3.0  2.5  ...  0.5   5.0   \n",
      "27     4.5  6.0  3.5  5.5   6.5   6.5  2.0  6.5  4.0  4.5  ...  1.5   5.0   \n",
      "28     3.5  8.0  5.5  6.0   9.0   7.0  4.5  3.0  1.5  2.5  ...  1.5   7.5   \n",
      "29     8.0  6.0  5.5  3.5  12.0   5.5  3.0  4.0  3.0  3.0  ...  NaN   9.0   \n",
      "3      1.0  1.5  0.5  2.0   4.0   0.0  1.0  1.0  0.0  1.0  ...  0.0   NaN   \n",
      "30     5.0  5.0  7.0  5.0   4.5   4.0  7.0  2.5  4.5  2.0  ...  1.0   3.5   \n",
      "31     5.5  7.5  8.0  8.0   7.5   9.0  3.5  1.5  3.0  3.5  ...  6.5   7.5   \n",
      "4      5.0  5.5  6.5  1.5   1.5   3.0  2.5  0.0  2.5  1.0  ...  0.0   0.5   \n",
      "5      3.5  0.5  2.0  2.0   1.5   2.5  4.5  0.5  0.5  1.0  ...  0.0   2.0   \n",
      "6      1.5  1.0  1.0  1.5   1.5   1.0  1.5  1.0  0.5  0.5  ...  0.0   4.0   \n",
      "7      4.0  2.0  1.5  1.0   2.5   2.5  1.5  0.0  1.5  0.0  ...  0.0   3.5   \n",
      "8      5.5  3.0  2.5  2.5   0.0   3.0  2.0  0.0  4.5  0.5  ...  0.0   1.5   \n",
      "9      5.5  2.0  3.5  2.5   2.5   2.0  2.0  0.5  3.0  0.0  ...  0.0   2.5   \n",
      "\n",
      "team2   30   31     4    5    6    7    8    9  \n",
      "team1                                           \n",
      "0      0.0  0.0   1.0  0.0  1.0  1.0  1.0  0.0  \n",
      "1      0.0  0.0   0.0  1.0  0.0  0.5  1.0  0.0  \n",
      "10     0.5  0.5   2.0  2.5  4.0  3.5  5.0  1.0  \n",
      "11     1.0  0.0   3.5  4.5  2.0  1.5  1.5  1.0  \n",
      "12     0.0  0.0   0.0  2.5  1.5  0.0  0.0  0.0  \n",
      "13     1.0  0.0   2.5  5.5  3.0  7.5  4.5  3.5  \n",
      "14     1.5  0.5   0.0  5.0  2.0  2.0  1.5  1.0  \n",
      "15     0.5  0.0   1.0  4.0  2.0  5.0  3.0  3.0  \n",
      "16     0.0  0.0   3.0  3.0  2.5  1.5  2.5  1.5  \n",
      "17     1.5  0.0   3.0  7.0  5.0  5.5  5.0  4.0  \n",
      "18     1.0  1.0   1.5  7.5  4.5  6.0  6.5  3.5  \n",
      "19     0.5  0.0   3.0  9.0  5.5  9.0  4.0  5.5  \n",
      "2      0.0  0.0   0.5  2.0  2.5  0.5  0.0  0.5  \n",
      "20     0.0  0.0   1.0  3.0  4.5  6.0  2.5  4.5  \n",
      "21     0.5  0.0   1.0  4.5  3.5  2.0  4.0  2.0  \n",
      "22     0.0  1.0   6.5  5.5  4.0  7.0  5.0  3.5  \n",
      "23     0.5  0.5   3.5  4.5  4.0  7.0  4.5  2.0  \n",
      "24     0.0  0.0   2.5  6.5  6.5  4.5  2.0  4.5  \n",
      "25     0.0  0.0  12.0  7.5  2.0  8.0  4.5  4.5  \n",
      "26     2.5  1.0   5.5  7.5  2.5  8.0  6.0  6.5  \n",
      "27     1.0  2.5   5.0  5.5  6.5  4.5  7.0  5.0  \n",
      "28     1.0  1.0   6.5  3.5  6.0  8.5  3.5  4.0  \n",
      "29     1.5  2.0   3.5  4.5  6.0  3.5  7.0  4.0  \n",
      "3      0.0  0.0   0.0  1.5  2.0  2.0  0.0  1.0  \n",
      "30     NaN  4.5   4.5  4.0  3.5  2.5  7.0  3.0  \n",
      "31     3.0  NaN   6.5  8.0  8.5  5.5  7.5  5.0  \n",
      "4      0.0  0.0   NaN  5.5  0.5  3.0  4.0  2.0  \n",
      "5      1.0  0.0   0.5  NaN  0.0  1.5  1.5  1.0  \n",
      "6      0.0  0.0   0.5  2.5  NaN  3.0  1.5  2.0  \n",
      "7      0.0  0.0   0.5  1.5  1.0  NaN  2.5  3.5  \n",
      "8      0.5  0.0   0.0  3.0  1.0  1.5  NaN  1.0  \n",
      "9      0.0  0.0   0.0  5.0  1.5  4.0  6.5  NaN  \n",
      "\n",
      "[32 rows x 32 columns]\n"
     ]
    },
    {
     "data": {
      "image/png": "[encoded data removed]",
      "text/plain": [
       "<Figure size 432x288 with 1 Axes>"
      ]
     },
     "metadata": {
      "needs_background": "light"
     },
     "output_type": "display_data"
    }
   ],
   "source": [
    "print(Ds[0][fracs[0]])\n",
    "\n",
    "plt.imshow(Ds[0][fracs[0]].fillna(0))\n",
    "plt.show()"
   ]
  },
  {
   "cell_type": "code",
   "execution_count": 10,
   "metadata": {},
   "outputs": [
    {
     "name": "stderr",
     "output_type": "stream",
     "text": [
      "100%|██████████| 1000/1000 [00:32<00:00, 30.51it/s]\n"
     ]
    }
   ],
   "source": [
    "rankings = {}\n",
    "taus = {}\n",
    "results = pd.DataFrame(columns=pairs+[\"Year\"]).set_index(\"Year\")\n",
    "\n",
    "for year in tqdm(games.keys()):\n",
    "    rankings[year] = []\n",
    "    taus[year] = {}\n",
    "    data = []\n",
    "    for i in range(len(pairs)):\n",
    "        pair = pairs[i]\n",
    "        D1 = Ds[year][pair[0]]\n",
    "        D2 = Ds[year][pair[1]]\n",
    "        ranking1 = MasseyRankingAlgorithm().rank(D1.fillna(0).values)\n",
    "        ranking2 = MasseyRankingAlgorithm().rank(D2.fillna(0).values)\n",
    "        rankings[year].append((ranking1,ranking2))\n",
    "        ranking1, ranking2 = rankings[year][i]\n",
    "        taus[year][pair] = kendall_tau(ranking1,ranking2)\n",
    "        data.append(taus[year][pair])\n",
    "    results = results.append(pd.Series(data,index=results.columns,name=year))"
   ]
  },
  {
   "cell_type": "code",
   "execution_count": 11,
   "metadata": {},
   "outputs": [
    {
     "data": {
      "image/png": "[encoded data removed]",
      "text/plain": [
       "<Figure size 432x288 with 1 Axes>"
      ]
     },
     "metadata": {
      "needs_background": "light"
     },
     "output_type": "display_data"
    },
    {
     "data": {
      "image/png": "[encoded data removed]",
      "text/plain": [
       "<Figure size 432x288 with 1 Axes>"
      ]
     },
     "metadata": {
      "needs_background": "light"
     },
     "output_type": "display_data"
    }
   ],
   "source": [
    "n_pairs = len(pairs)\n",
    "corrs = []\n",
    "for i in range(n_pairs-1):\n",
    "    results.plot.scatter(pairs[i], pairs[i+1])"
   ]
  },
  {
   "cell_type": "code",
   "execution_count": 12,
   "metadata": {},
   "outputs": [],
   "source": [
    "df_details = []\n",
    "def get_rankability_results(n_restarts=250):\n",
    "    df_ks = []\n",
    "    df_years = []\n",
    "    df_fracs = []\n",
    "    df_p_stats = {}\n",
    "    for year in tqdm(games.keys()):\n",
    "        for pair in pairs:\n",
    "            D = Ds[year][pair[0]].fillna(0)\n",
    "            #C = pyrankability.construct.C_count(D,0)\n",
    "            k,details = pyrankability.rank.solve(D,method='lop', num_random_restarts=n_restarts, lazy=False, cont=True)\n",
    "            p_stats = get_P_stats(details[\"P\"])\n",
    "            for name, val in p_stats.items():\n",
    "                if name not in df_p_stats:\n",
    "                    df_p_stats[name] = []\n",
    "                df_p_stats[name].append(val)\n",
    "            df_ks.append(k)\n",
    "            df_years.append(year)\n",
    "            df_fracs.append(pair[0])\n",
    "            df_details.append(details)\n",
    "\n",
    "    results_temp = {\"k\":df_ks,\"Year\":df_years,\"Fraction\":df_fracs}\n",
    "    for key, val in df_p_stats.items():\n",
    "        if key in results_temp:\n",
    "            raise ValueError(\"Duplicate column name! Fix collision before moving on!\")\n",
    "        results_temp[key] = val\n",
    "\n",
    "    return pd.DataFrame(results_temp)"
   ]
  },
  {
   "cell_type": "code",
   "execution_count": 13,
   "metadata": {},
   "outputs": [
    {
     "name": "stderr",
     "output_type": "stream",
     "text": [
      "  0%|          | 0/1000 [00:00<?, ?it/s]"
     ]
    },
    {
     "name": "stdout",
     "output_type": "stream",
     "text": [
      "Academic license - for non-commercial use only\n"
     ]
    },
    {
     "name": "stderr",
     "output_type": "stream",
     "text": [
      " 32%|███▏      | 320/1000 [10:40:03<21:35:50, 114.34s/it]"
     ]
    },
    {
     "ename": "OSError",
     "evalue": "[Errno 24] Too many open files: '/dev/shm/tmp85i8idd2'",
     "output_type": "error",
     "traceback": [
      "\u001b[0;31m---------------------------------------------------------------------------\u001b[0m",
      "\u001b[0;31mOSError\u001b[0m                                   Traceback (most recent call last)",
      "\u001b[0;32m<ipython-input-13-1807492e2efa>\u001b[0m in \u001b[0;36m<module>\u001b[0;34m\u001b[0m\n\u001b[0;32m----> 1\u001b[0;31m \u001b[0mrankability_results\u001b[0m \u001b[0;34m=\u001b[0m \u001b[0mget_rankability_results\u001b[0m\u001b[0;34m(\u001b[0m\u001b[0;34m)\u001b[0m\u001b[0;34m\u001b[0m\u001b[0;34m\u001b[0m\u001b[0m\n\u001b[0m\u001b[1;32m      2\u001b[0m \u001b[0mrankability_results\u001b[0m\u001b[0;34m\u001b[0m\u001b[0;34m\u001b[0m\u001b[0m\n",
      "\u001b[0;32m<ipython-input-12-4deabd808fa0>\u001b[0m in \u001b[0;36mget_rankability_results\u001b[0;34m(n_restarts)\u001b[0m\n\u001b[1;32m      9\u001b[0m             \u001b[0mD\u001b[0m \u001b[0;34m=\u001b[0m \u001b[0mDs\u001b[0m\u001b[0;34m[\u001b[0m\u001b[0myear\u001b[0m\u001b[0;34m]\u001b[0m\u001b[0;34m[\u001b[0m\u001b[0mpair\u001b[0m\u001b[0;34m[\u001b[0m\u001b[0;36m0\u001b[0m\u001b[0;34m]\u001b[0m\u001b[0;34m]\u001b[0m\u001b[0;34m.\u001b[0m\u001b[0mfillna\u001b[0m\u001b[0;34m(\u001b[0m\u001b[0;36m0\u001b[0m\u001b[0;34m)\u001b[0m\u001b[0;34m\u001b[0m\u001b[0;34m\u001b[0m\u001b[0m\n\u001b[1;32m     10\u001b[0m             \u001b[0;31m#C = pyrankability.construct.C_count(D,0)\u001b[0m\u001b[0;34m\u001b[0m\u001b[0;34m\u001b[0m\u001b[0;34m\u001b[0m\u001b[0m\n\u001b[0;32m---> 11\u001b[0;31m             \u001b[0mk\u001b[0m\u001b[0;34m,\u001b[0m\u001b[0mdetails\u001b[0m \u001b[0;34m=\u001b[0m \u001b[0mpyrankability\u001b[0m\u001b[0;34m.\u001b[0m\u001b[0mrank\u001b[0m\u001b[0;34m.\u001b[0m\u001b[0msolve\u001b[0m\u001b[0;34m(\u001b[0m\u001b[0mD\u001b[0m\u001b[0;34m,\u001b[0m\u001b[0mmethod\u001b[0m\u001b[0;34m=\u001b[0m\u001b[0;34m'lop'\u001b[0m\u001b[0;34m,\u001b[0m \u001b[0mnum_random_restarts\u001b[0m\u001b[0;34m=\u001b[0m\u001b[0mn_restarts\u001b[0m\u001b[0;34m,\u001b[0m \u001b[0mlazy\u001b[0m\u001b[0;34m=\u001b[0m\u001b[0;32mFalse\u001b[0m\u001b[0;34m,\u001b[0m \u001b[0mcont\u001b[0m\u001b[0;34m=\u001b[0m\u001b[0;32mTrue\u001b[0m\u001b[0;34m)\u001b[0m\u001b[0;34m\u001b[0m\u001b[0;34m\u001b[0m\u001b[0m\n\u001b[0m\u001b[1;32m     12\u001b[0m             \u001b[0mp_stats\u001b[0m \u001b[0;34m=\u001b[0m \u001b[0mget_P_stats\u001b[0m\u001b[0;34m(\u001b[0m\u001b[0mdetails\u001b[0m\u001b[0;34m[\u001b[0m\u001b[0;34m\"P\"\u001b[0m\u001b[0;34m]\u001b[0m\u001b[0;34m)\u001b[0m\u001b[0;34m\u001b[0m\u001b[0;34m\u001b[0m\u001b[0m\n\u001b[1;32m     13\u001b[0m             \u001b[0;32mfor\u001b[0m \u001b[0mname\u001b[0m\u001b[0;34m,\u001b[0m \u001b[0mval\u001b[0m \u001b[0;32min\u001b[0m \u001b[0mp_stats\u001b[0m\u001b[0;34m.\u001b[0m\u001b[0mitems\u001b[0m\u001b[0;34m(\u001b[0m\u001b[0;34m)\u001b[0m\u001b[0;34m:\u001b[0m\u001b[0;34m\u001b[0m\u001b[0;34m\u001b[0m\u001b[0m\n",
      "\u001b[0;32m~/rankability_toolbox_dev/pyrankability/rank.py\u001b[0m in \u001b[0;36msolve\u001b[0;34m(S_orig, c_orig, indices, method, num_random_restarts, lazy, verbose, find_pair, cont)\u001b[0m\n\u001b[1;32m    244\u001b[0m \u001b[0;34m\u001b[0m\u001b[0m\n\u001b[1;32m    245\u001b[0m     \u001b[0;32mfinally\u001b[0m\u001b[0;34m:\u001b[0m\u001b[0;34m\u001b[0m\u001b[0;34m\u001b[0m\u001b[0m\n\u001b[0;32m--> 246\u001b[0;31m         \u001b[0mshutil\u001b[0m\u001b[0;34m.\u001b[0m\u001b[0mrmtree\u001b[0m\u001b[0;34m(\u001b[0m\u001b[0mtemp_dir\u001b[0m\u001b[0;34m)\u001b[0m\u001b[0;34m\u001b[0m\u001b[0;34m\u001b[0m\u001b[0m\n\u001b[0m\u001b[1;32m    247\u001b[0m \u001b[0;34m\u001b[0m\u001b[0m\n\u001b[1;32m    248\u001b[0m     \u001b[0;32mreturn\u001b[0m \u001b[0mk\u001b[0m\u001b[0;34m,\u001b[0m\u001b[0mdetails\u001b[0m\u001b[0;34m\u001b[0m\u001b[0;34m\u001b[0m\u001b[0m\n",
      "\u001b[0;32m/usr/lib/python3.6/shutil.py\u001b[0m in \u001b[0;36mrmtree\u001b[0;34m(path, ignore_errors, onerror)\u001b[0m\n\u001b[1;32m    484\u001b[0m         \u001b[0;32mtry\u001b[0m\u001b[0;34m:\u001b[0m\u001b[0;34m\u001b[0m\u001b[0;34m\u001b[0m\u001b[0m\n\u001b[1;32m    485\u001b[0m             \u001b[0;32mif\u001b[0m \u001b[0mos\u001b[0m\u001b[0;34m.\u001b[0m\u001b[0mpath\u001b[0m\u001b[0;34m.\u001b[0m\u001b[0msamestat\u001b[0m\u001b[0;34m(\u001b[0m\u001b[0morig_st\u001b[0m\u001b[0;34m,\u001b[0m \u001b[0mos\u001b[0m\u001b[0;34m.\u001b[0m\u001b[0mfstat\u001b[0m\u001b[0;34m(\u001b[0m\u001b[0mfd\u001b[0m\u001b[0;34m)\u001b[0m\u001b[0;34m)\u001b[0m\u001b[0;34m:\u001b[0m\u001b[0;34m\u001b[0m\u001b[0;34m\u001b[0m\u001b[0m\n\u001b[0;32m--> 486\u001b[0;31m                 \u001b[0m_rmtree_safe_fd\u001b[0m\u001b[0;34m(\u001b[0m\u001b[0mfd\u001b[0m\u001b[0;34m,\u001b[0m \u001b[0mpath\u001b[0m\u001b[0;34m,\u001b[0m \u001b[0monerror\u001b[0m\u001b[0;34m)\u001b[0m\u001b[0;34m\u001b[0m\u001b[0;34m\u001b[0m\u001b[0m\n\u001b[0m\u001b[1;32m    487\u001b[0m                 \u001b[0;32mtry\u001b[0m\u001b[0;34m:\u001b[0m\u001b[0;34m\u001b[0m\u001b[0;34m\u001b[0m\u001b[0m\n\u001b[1;32m    488\u001b[0m                     \u001b[0mos\u001b[0m\u001b[0;34m.\u001b[0m\u001b[0mrmdir\u001b[0m\u001b[0;34m(\u001b[0m\u001b[0mpath\u001b[0m\u001b[0;34m)\u001b[0m\u001b[0;34m\u001b[0m\u001b[0;34m\u001b[0m\u001b[0m\n",
      "\u001b[0;32m/usr/lib/python3.6/shutil.py\u001b[0m in \u001b[0;36m_rmtree_safe_fd\u001b[0;34m(topfd, path, onerror)\u001b[0m\n\u001b[1;32m    406\u001b[0m     \u001b[0;32mexcept\u001b[0m \u001b[0mOSError\u001b[0m \u001b[0;32mas\u001b[0m \u001b[0merr\u001b[0m\u001b[0;34m:\u001b[0m\u001b[0;34m\u001b[0m\u001b[0;34m\u001b[0m\u001b[0m\n\u001b[1;32m    407\u001b[0m         \u001b[0merr\u001b[0m\u001b[0;34m.\u001b[0m\u001b[0mfilename\u001b[0m \u001b[0;34m=\u001b[0m \u001b[0mpath\u001b[0m\u001b[0;34m\u001b[0m\u001b[0;34m\u001b[0m\u001b[0m\n\u001b[0;32m--> 408\u001b[0;31m         \u001b[0monerror\u001b[0m\u001b[0;34m(\u001b[0m\u001b[0mos\u001b[0m\u001b[0;34m.\u001b[0m\u001b[0mlistdir\u001b[0m\u001b[0;34m,\u001b[0m \u001b[0mpath\u001b[0m\u001b[0;34m,\u001b[0m \u001b[0msys\u001b[0m\u001b[0;34m.\u001b[0m\u001b[0mexc_info\u001b[0m\u001b[0;34m(\u001b[0m\u001b[0;34m)\u001b[0m\u001b[0;34m)\u001b[0m\u001b[0;34m\u001b[0m\u001b[0;34m\u001b[0m\u001b[0m\n\u001b[0m\u001b[1;32m    409\u001b[0m     \u001b[0;32mfor\u001b[0m \u001b[0mname\u001b[0m \u001b[0;32min\u001b[0m \u001b[0mnames\u001b[0m\u001b[0;34m:\u001b[0m\u001b[0;34m\u001b[0m\u001b[0;34m\u001b[0m\u001b[0m\n\u001b[1;32m    410\u001b[0m         \u001b[0mfullname\u001b[0m \u001b[0;34m=\u001b[0m \u001b[0mos\u001b[0m\u001b[0;34m.\u001b[0m\u001b[0mpath\u001b[0m\u001b[0;34m.\u001b[0m\u001b[0mjoin\u001b[0m\u001b[0;34m(\u001b[0m\u001b[0mpath\u001b[0m\u001b[0;34m,\u001b[0m \u001b[0mname\u001b[0m\u001b[0;34m)\u001b[0m\u001b[0;34m\u001b[0m\u001b[0;34m\u001b[0m\u001b[0m\n",
      "\u001b[0;32m/usr/lib/python3.6/shutil.py\u001b[0m in \u001b[0;36m_rmtree_safe_fd\u001b[0;34m(topfd, path, onerror)\u001b[0m\n\u001b[1;32m    403\u001b[0m     \u001b[0mnames\u001b[0m \u001b[0;34m=\u001b[0m \u001b[0;34m[\u001b[0m\u001b[0;34m]\u001b[0m\u001b[0;34m\u001b[0m\u001b[0;34m\u001b[0m\u001b[0m\n\u001b[1;32m    404\u001b[0m     \u001b[0;32mtry\u001b[0m\u001b[0;34m:\u001b[0m\u001b[0;34m\u001b[0m\u001b[0;34m\u001b[0m\u001b[0m\n\u001b[0;32m--> 405\u001b[0;31m         \u001b[0mnames\u001b[0m \u001b[0;34m=\u001b[0m \u001b[0mos\u001b[0m\u001b[0;34m.\u001b[0m\u001b[0mlistdir\u001b[0m\u001b[0;34m(\u001b[0m\u001b[0mtopfd\u001b[0m\u001b[0;34m)\u001b[0m\u001b[0;34m\u001b[0m\u001b[0;34m\u001b[0m\u001b[0m\n\u001b[0m\u001b[1;32m    406\u001b[0m     \u001b[0;32mexcept\u001b[0m \u001b[0mOSError\u001b[0m \u001b[0;32mas\u001b[0m \u001b[0merr\u001b[0m\u001b[0;34m:\u001b[0m\u001b[0;34m\u001b[0m\u001b[0;34m\u001b[0m\u001b[0m\n\u001b[1;32m    407\u001b[0m         \u001b[0merr\u001b[0m\u001b[0;34m.\u001b[0m\u001b[0mfilename\u001b[0m \u001b[0;34m=\u001b[0m \u001b[0mpath\u001b[0m\u001b[0;34m\u001b[0m\u001b[0;34m\u001b[0m\u001b[0m\n",
      "\u001b[0;31mOSError\u001b[0m: [Errno 24] Too many open files: '/dev/shm/tmp85i8idd2'"
     ]
    }
   ],
   "source": [
    "rankability_results = get_rankability_results()\n",
    "rankability_results"
   ]
  },
  {
   "cell_type": "code",
   "execution_count": null,
   "metadata": {},
   "outputs": [],
   "source": [
    "for_corr = rankability_results.loc[rankability_results.Fraction==pair_to_predict[0]].set_index('Year').join(results)\n",
    "for_corr"
   ]
  },
  {
   "cell_type": "code",
   "execution_count": null,
   "metadata": {},
   "outputs": [],
   "source": [
    "for_corr.corr()"
   ]
  },
  {
   "cell_type": "code",
   "execution_count": null,
   "metadata": {},
   "outputs": [],
   "source": [
    "pearsonr(for_corr['k'],for_corr[pair_to_predict])"
   ]
  },
  {
   "cell_type": "code",
   "execution_count": null,
   "metadata": {},
   "outputs": [],
   "source": [
    "col_names = [\n",
    "    'Year',\n",
    "    '# X* frac',\n",
    "    'k',\n",
    "    '# X* frac top 40',\n",
    "    'kendall_w',\n",
    "    'p_lowerbound',\n",
    "    'max_L2_dist',\n",
    "    'mean_L2_dist',\n",
    "    'min_tau',\n",
    "    'mean_tau',\n",
    "    'Pair'\n",
    "]\n",
    "\n",
    "all_score_df = pd.DataFrame(columns=col_names)\n",
    "\n",
    "c=0\n",
    "for year in tqdm(games.keys()):\n",
    "    for pair in pairs:\n",
    "        V = Ds[year][pair_to_predict[0]]\n",
    "        rresults = rankability_results.iloc[c,:]\n",
    "        k = rresults['k']\n",
    "        details = df_details[c]\n",
    "        x = pd.DataFrame(details['x'],index=V.index,columns=V.columns)\n",
    "        r = x.sum(axis=0)\n",
    "        order = np.argsort(r)\n",
    "        xstar = x.iloc[order,:].iloc[:,order]\n",
    "        xstar.loc[:,:] = pyrankability.common.threshold_x(xstar.values)\n",
    "        inxs = np.triu_indices(len(xstar),k=1)\n",
    "        xstar_upper = xstar.values[inxs[0],inxs[1]]\n",
    "        nfrac_upper = sum((xstar_upper > 0) & (xstar_upper < 1))\n",
    "        flat_frac = ((xstar > 0) & (xstar < 1)).sum(axis=0)\n",
    "        nfrac_top_40 = flat_frac.iloc[:40].sum()\n",
    "        entry_data = [\n",
    "            year,\n",
    "            nfrac_upper*2,\n",
    "            k,\n",
    "            nfrac_top_40,\n",
    "            rresults[\"kendall_w\"],\n",
    "            rresults[\"p_lowerbound\"],\n",
    "            rresults[\"max_L2_dist\"],\n",
    "            rresults[\"mean_L2_dist\"],\n",
    "            rresults[\"min_tau\"],\n",
    "            rresults[\"mean_tau\"],\n",
    "            pair\n",
    "        ]\n",
    "        entry = pd.Series(entry_data,col_names,name=c)\n",
    "        c+=1\n",
    "        all_score_df = all_score_df.append(entry)\n",
    "all_score_df.set_index(\"Year\",inplace=True)"
   ]
  },
  {
   "cell_type": "code",
   "execution_count": null,
   "metadata": {},
   "outputs": [],
   "source": [
    "all_score_df = all_score_df.loc[all_score_df.Pair == pair_to_predict].drop('Pair',axis=1).join(results)"
   ]
  },
  {
   "cell_type": "code",
   "execution_count": null,
   "metadata": {},
   "outputs": [],
   "source": [
    "all_score_df"
   ]
  },
  {
   "cell_type": "code",
   "execution_count": null,
   "metadata": {},
   "outputs": [],
   "source": [
    "# TODO: Save all_score_df for easy reuse\n",
    "# TODO: add function to reload all_score_df from saved file\n",
    "#all_score_df.to_csv(\"all_synth_score_df.csv\")\n",
    "#all_score_df = pd.read_csv(\"all_synth_score_df.csv\")"
   ]
  },
  {
   "cell_type": "code",
   "execution_count": null,
   "metadata": {},
   "outputs": [],
   "source": [
    "for col in all_score_df.columns:\n",
    "    if col not in pairs:\n",
    "        all_score_df.plot.scatter(col, pair_to_predict, title=\"Final Sensitivity vs \" + col)"
   ]
  },
  {
   "cell_type": "code",
   "execution_count": null,
   "metadata": {},
   "outputs": [],
   "source": [
    "import sklearn.linear_model as skl_lm\n",
    "from sklearn.model_selection import cross_val_score\n",
    "from sklearn.model_selection import LeaveOneOut\n",
    "from sklearn.svm import SVR\n",
    "from sklearn.dummy import DummyRegressor\n",
    "from sklearn.model_selection import GridSearchCV\n",
    "\n",
    "all_feature_cols = [c for c in all_score_df.columns if c not in pairs]\n",
    "\n",
    "def evaluate(df,pred_col=pair_to_predict,feature_cols=all_feature_cols,model=DummyRegressor(),param_grid={}):\n",
    "    # fill in evaluat\n",
    "    loo = LeaveOneOut()\n",
    "    y = df[pred_col]\n",
    "    X = df[feature_cols]\n",
    "    \n",
    "    grid = GridSearchCV(model,param_grid,refit=True,verbose=0, cv=3,n_jobs=-1)\n",
    "    scores = cross_val_score(grid, X, y, scoring=\"neg_mean_absolute_error\", cv=loo, n_jobs=4, verbose=1)\n",
    "    return pd.Series([len(scores),np.mean(np.abs(scores)),np.std(scores)],index=[\"Folds\",\"MAE\",\"STD\"])"
   ]
  },
  {
   "cell_type": "code",
   "execution_count": null,
   "metadata": {},
   "outputs": [],
   "source": [
    "evaluate(all_score_df)"
   ]
  },
  {
   "cell_type": "code",
   "execution_count": null,
   "metadata": {},
   "outputs": [],
   "source": [
    "evaluate(all_score_df,model=SVR(gamma='scale'),param_grid = {'C': [0.1,1,10,100], 'epsilon': [0.1,0.5,1],'kernel': ['linear', 'rbf']})"
   ]
  },
  {
   "cell_type": "code",
   "execution_count": null,
   "metadata": {},
   "outputs": [],
   "source": []
  }
 ],
 "metadata": {
  "kernelspec": {
   "display_name": "Python 3",
   "language": "python",
   "name": "python3"
  },
  "language_info": {
   "codemirror_mode": {
    "name": "ipython",
    "version": 3
   },
   "file_extension": ".py",
   "mimetype": "text/x-python",
   "name": "python",
   "nbconvert_exporter": "python",
   "pygments_lexer": "ipython3",
   "version": "3.6.9"
  }
 },
 "nbformat": 4,
 "nbformat_minor": 4
}
