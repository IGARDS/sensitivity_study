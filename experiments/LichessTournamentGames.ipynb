{
 "cells": [
  {
   "cell_type": "markdown",
   "metadata": {},
   "source": [
    "# Lichess Tournament Games"
   ]
  },
  {
   "cell_type": "code",
   "execution_count": null,
   "metadata": {},
   "outputs": [],
   "source": [
    "import berserk, pandas, time\n",
    "from datetime import datetime\n",
    "from tqdm import tqdm\n",
    "\n",
    "# Token file in marisa's folder\n",
    "with open('lichess.token') as f:\n",
    "    API_TOKEN = f.read()\n",
    "\n",
    "session = berserk.TokenSession(API_TOKEN)\n",
    "client = berserk.Client(session=session)"
   ]
  },
  {
   "cell_type": "markdown",
   "metadata": {},
   "source": [
    "Gets id's of tournaments either created by a top user or recently finished"
   ]
  },
  {
   "cell_type": "code",
   "execution_count": null,
   "metadata": {},
   "outputs": [],
   "source": [
    "tournaments = []\n",
    "\n",
    "for user in tqdm(top_users):\n",
    "    time.sleep(0) # Don't overload API\n",
    "    try:\n",
    "        tournaments_by_user = client.tournaments.stream_by_creator(user)\n",
    "        tournaments += [tournament['id'] for tournament in list(tournaments_by_user)]\n",
    "    except:\n",
    "        continue\n",
    "\n",
    "latest_tournaments = client.tournaments.get()\n",
    "tournaments += [t['id'] for t in list(latest_tournaments['finished'])]"
   ]
  },
  {
   "cell_type": "markdown",
   "metadata": {},
   "source": [
    "Get games played during the tournaments"
   ]
  },
  {
   "cell_type": "code",
   "execution_count": null,
   "metadata": {},
   "outputs": [],
   "source": [
    "games = []\n",
    "for tournament in tqdm(tournaments):\n",
    "    try:\n",
    "        games_by_tournament = client.tournaments.export_games(tournament)\n",
    "        for game in games_by_tournament:\n",
    "            game['tournament_id'] = tournament\n",
    "            games.append(game)\n",
    "    except:\n",
    "        continue"
   ]
  },
  {
   "cell_type": "markdown",
   "metadata": {},
   "source": [
    "Convert to df"
   ]
  },
  {
   "cell_type": "code",
   "execution_count": null,
   "metadata": {},
   "outputs": [],
   "source": [
    "games_df = pd.concat([pd.json_normalize(game) for game in games], ignore_index=True)\n",
    "games_df['points1'] = games_df.apply(lambda row: 1 if row.winner == \"white\" else 0, axis = 1)\n",
    "games_df['points2'] = games_df.apply(lambda row: 1 if row.winner == \"black\" else 0, axis = 1)\n",
    "games_df = games_df.rename(columns={\n",
    "    \"createdAt\": \"date_time\",\n",
    "    \"players.white.user.name\": \"player1_name\", \n",
    "    \"players.black.user.name\": \"player2_name\"\n",
    "})[[\"date_time\", \"tournament_id\", \"player1_name\", \"player2_name\", \"points1\", \"points2\"]]\n",
    "games_df.sort_values(by='date_time').reset_index(drop=True)"
   ]
  },
  {
   "cell_type": "code",
   "execution_count": null,
   "metadata": {},
   "outputs": [],
   "source": [
    "games_df.to_csv('T-lichess-' + str(datetime.now()) + '.csv', index=False)"
   ]
  }
 ],
 "metadata": {
  "kernelspec": {
   "display_name": "Python 3",
   "language": "python",
   "name": "python3"
  },
  "language_info": {
   "codemirror_mode": {
    "name": "ipython",
    "version": 3
   },
   "file_extension": ".py",
   "mimetype": "text/x-python",
   "name": "python",
   "nbconvert_exporter": "python",
   "pygments_lexer": "ipython3",
   "version": "3.6.9"
  }
 },
 "nbformat": 4,
 "nbformat_minor": 4
}
