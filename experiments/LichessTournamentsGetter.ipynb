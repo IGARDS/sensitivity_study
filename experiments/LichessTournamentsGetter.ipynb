{
 "cells": [
  {
   "cell_type": "markdown",
   "metadata": {},
   "source": [
    "# Lichess Tournament Games"
   ]
  },
  {
   "cell_type": "code",
   "execution_count": null,
   "metadata": {},
   "outputs": [],
   "source": [
    "import berserk, pandas, time\n",
    "from datetime import datetime\n",
    "from tqdm import tqdm\n",
    "import pandas as pd\n",
    "import schedule\n",
    "\n",
    "# Token file in marisa's folder\n",
    "with open('lichess.token') as f:\n",
    "    API_TOKEN = f.read()\n",
    "\n",
    "session = berserk.TokenSession(API_TOKEN)\n",
    "client = berserk.Client(session=session)"
   ]
  },
  {
   "cell_type": "code",
   "execution_count": null,
   "metadata": {},
   "outputs": [],
   "source": [
    "# See how much time has elapsed between first and last tournaments among \"most recent\"\n",
    "# OK, looks like 2 hours passes\n",
    "dates = [t['finishesAt'] for t in client.tournaments.get()['finished']]\n",
    "str(max(dates) - min(dates))"
   ]
  },
  {
   "cell_type": "markdown",
   "metadata": {},
   "source": [
    "### Set-returning functions"
   ]
  },
  {
   "cell_type": "code",
   "execution_count": null,
   "metadata": {},
   "outputs": [],
   "source": [
    "def get_top_users():\n",
    "    return set(client.users.get_all_top_10())\n",
    "\n",
    "\n",
    "def get_latest_tournaments():\n",
    "    ''' \n",
    "    Return: Set of tournament id's from the past two hours.\n",
    "    Run every two hours.\n",
    "    Game data can be immediately extracted.\n",
    "    ''' \n",
    "    latest_tournaments = client.tournaments.get()\n",
    "    return {t['id'] for t in list(latest_tournaments['finished'])}\n",
    "\n",
    "\n",
    "def get_tournaments_from_users(users):\n",
    "    ''' \n",
    "    Param: Set of usernames\n",
    "    Return: Set of tournament id's created by the users\n",
    "    Game data can be immediately extracted.\n",
    "    ''' \n",
    "    tournaments = set()\n",
    "    for user in tqdm(users):\n",
    "        time.sleep(1)\n",
    "        tournaments_by_creator = list(client.tournaments.stream_by_creator(user))\n",
    "        if tournaments_by_creator:\n",
    "            tournaments = tournaments.union({t['id'] for t in tournaments_by_creator})\n",
    "    return tournaments\n",
    "\n",
    "\n",
    "def get_users_from_tournaments(t_ids):\n",
    "    '''\n",
    "    Param: Set of tournament ids\n",
    "    Return: Set of usernames of players in the tournament\n",
    "    '''\n",
    "    users = set()\n",
    "    for t_id in t_ids:\n",
    "        time.sleep(1)\n",
    "        try:\n",
    "            # API throws error if tournament not found\n",
    "            games_by_tournament = list(client.tournaments.export_games(t_id)) #Maybe don't listify\n",
    "            for game in games_by_tournament:\n",
    "                users.add(game['players']['white']['user']['name'])\n",
    "                users.add(game['players']['white']['user']['name'])\n",
    "        except:\n",
    "            continue\n",
    "    return users"
   ]
  },
  {
   "cell_type": "markdown",
   "metadata": {},
   "source": [
    "### Get tournaments using search-approach"
   ]
  },
  {
   "cell_type": "code",
   "execution_count": null,
   "metadata": {},
   "outputs": [],
   "source": [
    "all_users = get_top_users()\n",
    "all_tournaments = set()\n",
    "\n",
    "users = all_users\n",
    "tournaments = all_tournaments\n",
    "min_tournaments_required = 10 #Change as needed\n",
    "\n",
    "while all_tournaments < min_tournaments_required:\n",
    "    new_tournaments = get_tournaments_from_users(users)\n",
    "    tournaments = new_tournaments.difference(tournaments)\n",
    "    new_users = get_users_from_tournaments(tournaments)\n",
    "    users = new_users.difference(users)\n",
    "    all_users = all_users.union(tournaments)\n",
    "    all_tournaments = all_tournaments.union(users)\n",
    "    print(len(all_users), len(all_tournaments))\n",
    "    # TODO: Update csv"
   ]
  },
  {
   "cell_type": "markdown",
   "metadata": {},
   "source": [
    "### Get tournaments using timed-intervals"
   ]
  },
  {
   "cell_type": "code",
   "execution_count": null,
   "metadata": {},
   "outputs": [],
   "source": [
    "def combiner():\n",
    "    get_latest_tournaments()\n",
    "    # TODO: Update csv\n",
    "\n",
    "schedule.every(2).hours.do(combiner) \n",
    "\n",
    "while True:\n",
    "    schedule.run_pending()"
   ]
  },
  {
   "cell_type": "markdown",
   "metadata": {},
   "source": [
    "### Get games from tournaments (Run once tournament id's stored in csv)"
   ]
  },
  {
   "cell_type": "code",
   "execution_count": null,
   "metadata": {},
   "outputs": [],
   "source": [
    "# start_users = get_top_users()\n",
    "# tournaments = get_tournaments_from_users(start_users)\n",
    "# games = []\n",
    "\n",
    "for tournament in tqdm(tournaments):\n",
    "    try:\n",
    "        # API throws error if tournament not found\n",
    "        games_by_tournament = client.tournaments.export_games(tournament)\n",
    "        for game in games_by_tournament:\n",
    "            game['tournament_id'] = tournament\n",
    "            games.append(game)\n",
    "    except:\n",
    "        continue"
   ]
  },
  {
   "cell_type": "markdown",
   "metadata": {},
   "source": [
    "Convert to df"
   ]
  },
  {
   "cell_type": "code",
   "execution_count": null,
   "metadata": {},
   "outputs": [],
   "source": [
    "games_df = pd.concat([pd.json_normalize(game) for game in games], ignore_index=True)\n",
    "games_df['points1'] = games_df.apply(lambda row: 1 if row.winner == \"white\" else 0, axis = 1)\n",
    "games_df['points2'] = games_df.apply(lambda row: 1 if row.winner == \"black\" else 0, axis = 1)\n",
    "games_df = games_df.rename(columns={\n",
    "    \"createdAt\": \"date_time\",\n",
    "    \"players.white.user.name\": \"player1_name\", \n",
    "    \"players.black.user.name\": \"player2_name\"\n",
    "})[[\"date_time\", \"tournament_id\", \"player1_name\", \"player2_name\", \"points1\", \"points2\"]]\n",
    "games_df.sort_values(by='date_time').reset_index(drop=True)"
   ]
  },
  {
   "cell_type": "code",
   "execution_count": null,
   "metadata": {},
   "outputs": [],
   "source": [
    "games_df.to_csv('T-lichess-' + str(datetime.now()) + '.csv', index=False)"
   ]
  }
 ],
 "metadata": {
  "kernelspec": {
   "display_name": "Python 3",
   "language": "python",
   "name": "python3"
  },
  "language_info": {
   "codemirror_mode": {
    "name": "ipython",
    "version": 3
   },
   "file_extension": ".py",
   "mimetype": "text/x-python",
   "name": "python",
   "nbconvert_exporter": "python",
   "pygments_lexer": "ipython3",
   "version": "3.6.9"
  }
 },
 "nbformat": 4,
 "nbformat_minor": 4
}
