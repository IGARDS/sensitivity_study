{
 "cells": [
  {
   "cell_type": "markdown",
   "metadata": {},
   "source": [
    "# How Good is X*?\n",
    "## March Madness Dataset\n",
    "\n",
    "We want to determine whether X* is a good estimate of the rank distributions of each team."
   ]
  },
  {
   "cell_type": "code",
   "execution_count": null,
   "metadata": {},
   "outputs": [],
   "source": [
    "%load_ext autoreload\n",
    "%autoreload 2\n",
    "%matplotlib inline"
   ]
  },
  {
   "cell_type": "code",
   "execution_count": null,
   "metadata": {},
   "outputs": [],
   "source": [
    "import copy\n",
    "import os\n",
    "import pandas as pd\n",
    "import numpy as np\n",
    "import networkx as nx\n",
    "from scipy.stats import pearsonr\n",
    "from scipy.stats import skew\n",
    "from tqdm import tqdm\n",
    "import matplotlib.pyplot as plt"
   ]
  },
  {
   "cell_type": "code",
   "execution_count": null,
   "metadata": {},
   "outputs": [],
   "source": [
    "from pathlib import Path\n",
    "home = str(Path.home())\n",
    "home"
   ]
  },
  {
   "cell_type": "code",
   "execution_count": null,
   "metadata": {},
   "outputs": [],
   "source": [
    "import sys\n",
    "sys.path.insert(0,\"%s/rankability_toolbox_dev\"%home)\n",
    "import pyrankability"
   ]
  },
  {
   "cell_type": "code",
   "execution_count": null,
   "metadata": {},
   "outputs": [],
   "source": [
    "sys.path.insert(0,\"%s/sensitivity_study/src\"%home)\n",
    "from sensitivity_tests import *\n",
    "from utilities import *\n",
    "from base import *"
   ]
  },
  {
   "cell_type": "code",
   "execution_count": null,
   "metadata": {},
   "outputs": [],
   "source": [
    "games={}\n",
    "years = [\"2002\",\"2003\",\"2004\",\"2005\",\"2006\",\"2007\",\"2008\",\"2009\",\"2010\",\"2011\",\"2012\",\"2013\",\"2014\",\"2015\",\"2016\",\"2017\",\"2018\"]\n",
    "for year in years:\n",
    "    games[year] = read_data('../data/%steams.txt'%year,'../data/%sgames.txt'%year,'../data/%sMadnessTeams.txt'%year)\n",
    "print(year)\n",
    "games[year]"
   ]
  },
  {
   "cell_type": "code",
   "execution_count": null,
   "metadata": {},
   "outputs": [],
   "source": [
    "# Note to future self: Parameters from FODS paper but might need to be optimized\n",
    "direct_thres = 2\n",
    "spread_thres = 2\n",
    "weight_indirect = 0.5\n",
    "Ds = {}"
   ]
  },
  {
   "cell_type": "code",
   "execution_count": null,
   "metadata": {},
   "outputs": [],
   "source": [
    "for year in tqdm(games.keys()):\n",
    "    madness_teams = np.unique(list(games[year].team1_name.loc[games[year].team1_madness == 1]) + list(games[year].team2_name.loc[games[year].team2_madness == 1]))\n",
    "    game_list = list(games[year].index)\n",
    "    \n",
    "    game_df = pd.DataFrame({\"team1_name\":games[year]['team1_name'],\n",
    "                            \"team1_score\":games[year]['points1'],\n",
    "                            \"team1_H_A_N\": games[year]['H_A_N1'],\n",
    "                            \"team2_name\":games[year]['team2_name'],\n",
    "                            \"team2_score\":games[year]['points2'],\n",
    "                            \"team2_H_A_N\": games[year]['H_A_N1'],\n",
    "                            \"date\": games[year]['date']\n",
    "                           }).sort_values(by='date').drop('date',axis=1)\n",
    "    map_func = lambda linked: pyrankability.construct.support_map_vectorized_direct_indirect_weighted(linked,direct_thres=direct_thres,spread_thres=spread_thres,weight_indirect=weight_indirect)\n",
    "    Ds[year] = pyrankability.construct.V_count_vectorized(game_df,map_func).loc[madness_teams,madness_teams]"
   ]
  },
  {
   "cell_type": "code",
   "execution_count": null,
   "metadata": {},
   "outputs": [],
   "source": [
    "df_details = {}\n",
    "# This function constructs a dataframe of features\n",
    "# (collected from the first D matrix of each pair)\n",
    "# To be used to predict the movement of the pair (kendall tau of rankings)\n",
    "def get_rankability_results(n_restarts=200):\n",
    "    df_ks = []\n",
    "    df_years = []\n",
    "    df_p_stats = {}\n",
    "    for year in tqdm(games.keys()):\n",
    "        D = Ds[year].fillna(0)\n",
    "        k,details = pyrankability.rank.solve(D,method='lop', num_random_restarts=n_restarts, lazy=False, cont=True)\n",
    "        p_stats = get_P_stats(details[\"P\"])\n",
    "        for name, val in p_stats.items():\n",
    "            if name not in df_p_stats:\n",
    "                df_p_stats[name] = []\n",
    "            df_p_stats[name].append(val)\n",
    "        df_ks.append(k)\n",
    "        df_years.append(year)\n",
    "        df_details[year] = details\n",
    "\n",
    "    results_temp = {\"k\":df_ks,\"Year\":df_years}\n",
    "    for key, val in df_p_stats.items():\n",
    "        if key in results_temp:\n",
    "            raise ValueError(\"Duplicate column name! Fix collision before moving on!\")\n",
    "        results_temp[key] = val\n",
    "\n",
    "    return pd.DataFrame(results_temp).set_index(\"Year\")"
   ]
  },
  {
   "cell_type": "code",
   "execution_count": null,
   "metadata": {},
   "outputs": [],
   "source": [
    "rankability_results = get_rankability_results()\n",
    "rankability_results"
   ]
  },
  {
   "cell_type": "code",
   "execution_count": null,
   "metadata": {},
   "outputs": [],
   "source": [
    "for year in Ds.keys():\n",
    "    details = df_details[year]\n",
    "\n",
    "    opt_rank = list(details[\"Pfirst\"][0])\n",
    "\n",
    "    x_star_from_P = mean_x_star = np.zeros_like(details[\"x\"])\n",
    "    P_set = set(details[\"P\"])\n",
    "    for rank in P_set:\n",
    "        for i in range(len(rank)):\n",
    "            for j in range(i + 1, len(rank)):\n",
    "                x_star_from_P[rank[i],rank[j]] += 1.0\n",
    "    for i in range(len(x_star_from_P)):\n",
    "        for j in range(i + 1, len(x_star_from_P)):\n",
    "            total = x_star_from_P[i][j] + x_star_from_P[j][i]\n",
    "            if total > 0:\n",
    "                x_star_from_P[i][j] /= total\n",
    "                x_star_from_P[j][i] /= total\n",
    "\n",
    "    mean_x_star = np.zeros_like(details[\"x\"])\n",
    "    for x_star in details[\"xs\"]:\n",
    "        mean_x_star += x_star\n",
    "    mean_x_star /= len(details[\"xs\"])\n",
    "    plt.imshow(mean_x_star[opt_rank, :][:, opt_rank])\n",
    "    plt.title(\"Mean X_star for \" + year)\n",
    "    plt.show()\n",
    "\n",
    "    plt.imshow(x_star_from_P[opt_rank, :][:, opt_rank])\n",
    "    plt.title(\"Constructed X_star for \" + year + \" (\" + str(len(P_set)) + \")\")\n",
    "    plt.show()"
   ]
  },
  {
   "cell_type": "code",
   "execution_count": null,
   "metadata": {},
   "outputs": [],
   "source": []
  }
 ],
 "metadata": {
  "kernelspec": {
   "display_name": "Python 3",
   "language": "python",
   "name": "python3"
  },
  "language_info": {
   "codemirror_mode": {
    "name": "ipython",
    "version": 3
   },
   "file_extension": ".py",
   "mimetype": "text/x-python",
   "name": "python",
   "nbconvert_exporter": "python",
   "pygments_lexer": "ipython3",
   "version": "3.6.9"
  }
 },
 "nbformat": 4,
 "nbformat_minor": 4
}
