{
 "cells": [
  {
   "cell_type": "markdown",
   "metadata": {},
   "source": [
    "# Lichess Games"
   ]
  },
  {
   "cell_type": "code",
   "execution_count": 120,
   "metadata": {},
   "outputs": [],
   "source": [
    "import berserk, pandas, time\n",
    "from datetime import datetime\n",
    "from tqdm import tqdm\n",
    "\n",
    "# Token file in marisa's folder\n",
    "with open('lichess.token') as f:\n",
    "    API_TOKEN = f.read()\n",
    "\n",
    "session = berserk.TokenSession(API_TOKEN)\n",
    "client = berserk.Client(session=session)"
   ]
  },
  {
   "cell_type": "markdown",
   "metadata": {},
   "source": [
    "**Get top players**"
   ]
  },
  {
   "cell_type": "code",
   "execution_count": 100,
   "metadata": {},
   "outputs": [
    {
     "data": {
      "text/plain": [
       "['bullet',\n",
       " 'blitz',\n",
       " 'rapid',\n",
       " 'classical',\n",
       " 'ultraBullet',\n",
       " 'crazyhouse',\n",
       " 'chess960',\n",
       " 'kingOfTheHill',\n",
       " 'threeCheck',\n",
       " 'antichess',\n",
       " 'atomic',\n",
       " 'horde',\n",
       " 'racingKings',\n",
       " 'LeelaChess']"
      ]
     },
     "execution_count": 100,
     "metadata": {},
     "output_type": "execute_result"
    }
   ],
   "source": [
    "top_users = list(client.users.get_all_top_10()) + ['LeelaChess']\n",
    "top_users"
   ]
  },
  {
   "cell_type": "markdown",
   "metadata": {},
   "source": [
    "**Show what game data looks like for a player**"
   ]
  },
  {
   "cell_type": "code",
   "execution_count": 121,
   "metadata": {},
   "outputs": [
    {
     "data": {
      "text/plain": [
       "[{'id': 'r3hMCWrp',\n",
       "  'rated': False,\n",
       "  'variant': 'standard',\n",
       "  'speed': 'blitz',\n",
       "  'perf': 'blitz',\n",
       "  'createdAt': datetime.datetime(2020, 4, 14, 2, 57, 30, 645000, tzinfo=datetime.timezone.utc),\n",
       "  'lastMoveAt': datetime.datetime(2020, 4, 14, 2, 58, 40, 355000, tzinfo=datetime.timezone.utc),\n",
       "  'status': 'outoftime',\n",
       "  'players': {'white': {'user': {'name': 'LeelaChess',\n",
       "     'title': 'BOT',\n",
       "     'id': 'leelachess'},\n",
       "    'rating': 2658},\n",
       "   'black': {'user': {'name': 'rabidllama', 'id': 'rabidllama'},\n",
       "    'rating': 1538}},\n",
       "  'winner': 'white',\n",
       "  'moves': 'e4 e5 Nf3 Nc6 Bc4 h6 d4 exd4 Nxd4 Nxd4 Qxd4 d6 Nc3',\n",
       "  'clock': {'initial': 300, 'increment': 0, 'totalTime': 300}},\n",
       " {'id': 'D6FXEI5C',\n",
       "  'rated': False,\n",
       "  'variant': 'standard',\n",
       "  'speed': 'blitz',\n",
       "  'perf': 'blitz',\n",
       "  'createdAt': datetime.datetime(2020, 4, 14, 2, 55, 4, 952000, tzinfo=datetime.timezone.utc),\n",
       "  'lastMoveAt': datetime.datetime(2020, 4, 14, 2, 57, 24, 99000, tzinfo=datetime.timezone.utc),\n",
       "  'status': 'resign',\n",
       "  'players': {'white': {'user': {'name': 'Limbert15', 'id': 'limbert15'},\n",
       "    'rating': 1846},\n",
       "   'black': {'user': {'name': 'LeelaChess',\n",
       "     'title': 'BOT',\n",
       "     'id': 'leelachess'},\n",
       "    'rating': 2658}},\n",
       "  'winner': 'black',\n",
       "  'moves': 'd4 Nf6 c4 g6 Nc3 Bg7 e3 d5 Nf3 O-O Be2 c5 dxc5 dxc4 Qxd8 Rxd8 Bxc4 Nbd7 O-O Nxc5 a3 Bd7 Nd4 Rac8 b4 Na4 Bxf7+ Kxf7 Nce2 h6 Bb2 Nxb2 Rab1 h5 Rxb2 h4 Rd2 h3 Rfd1 Ne4 Rd3 Ba4 Ra1 e5 Nf3 Rxd3',\n",
       "  'clock': {'initial': 180, 'increment': 0, 'totalTime': 180}},\n",
       " {'id': 'HIbvNTVL',\n",
       "  'rated': False,\n",
       "  'variant': 'standard',\n",
       "  'speed': 'bullet',\n",
       "  'perf': 'bullet',\n",
       "  'createdAt': datetime.datetime(2020, 4, 14, 2, 53, 14, 782000, tzinfo=datetime.timezone.utc),\n",
       "  'lastMoveAt': datetime.datetime(2020, 4, 14, 2, 53, 40, 852000, tzinfo=datetime.timezone.utc),\n",
       "  'status': 'mate',\n",
       "  'players': {'white': {'user': {'name': 'LeelaChess',\n",
       "     'title': 'BOT',\n",
       "     'id': 'leelachess'},\n",
       "    'rating': 2601},\n",
       "   'black': {'user': {'name': 'longboardacat', 'id': 'longboardacat'},\n",
       "    'rating': 1471}},\n",
       "  'winner': 'white',\n",
       "  'moves': 'e4 c5 Nc3 d6 Nf3 a6 d4 cxd4 Nxd4 Nf6 Be3 e6 f3 Be7 g4 O-O g5 Ne8 h4 b6 Qd2 g6 h5 Bb7 hxg6 hxg6 Qh2 f6 Qh7#',\n",
       "  'clock': {'initial': 60, 'increment': 0, 'totalTime': 60}}]"
      ]
     },
     "execution_count": 121,
     "metadata": {},
     "output_type": "execute_result"
    }
   ],
   "source": [
    "start = berserk.utils.to_millis(datetime(2010, 1, 1))\n",
    "end = berserk.utils.to_millis(datetime(2020, 1, 1))\n",
    "\n",
    "list(client.games.export_by_player('LeelaChess', since=start, until=end, max=3))"
   ]
  },
  {
   "cell_type": "markdown",
   "metadata": {},
   "source": [
    "**Get game data for all top users**"
   ]
  },
  {
   "cell_type": "code",
   "execution_count": 127,
   "metadata": {},
   "outputs": [
    {
     "name": "stderr",
     "output_type": "stream",
     "text": [
      "\n",
      "  0%|          | 0/14 [00:00<?, ?it/s]\u001b[A\n",
      "  7%|▋         | 1/14 [00:06<01:22,  6.31s/it]\u001b[A\n",
      " 14%|█▍        | 2/14 [00:11<01:11,  5.97s/it]\u001b[A\n",
      " 21%|██▏       | 3/14 [00:19<01:13,  6.67s/it]\u001b[A\n",
      " 29%|██▊       | 4/14 [00:24<01:02,  6.22s/it]\u001b[A\n",
      " 36%|███▌      | 5/14 [00:33<01:01,  6.88s/it]\u001b[A\n",
      " 43%|████▎     | 6/14 [00:38<00:51,  6.38s/it]\u001b[A\n",
      " 50%|█████     | 7/14 [00:43<00:42,  6.07s/it]\u001b[A\n",
      " 57%|█████▋    | 8/14 [00:49<00:35,  5.86s/it]\u001b[A\n",
      " 64%|██████▍   | 9/14 [00:55<00:29,  5.99s/it]\u001b[A\n",
      " 71%|███████▏  | 10/14 [01:03<00:26,  6.71s/it]\u001b[A\n",
      " 79%|███████▊  | 11/14 [01:09<00:18,  6.24s/it]\u001b[A\n",
      " 86%|████████▌ | 12/14 [01:14<00:11,  5.96s/it]\u001b[A\n",
      " 93%|█████████▎| 13/14 [01:19<00:05,  5.72s/it]\u001b[A\n",
      "100%|██████████| 14/14 [01:27<00:00,  6.28s/it]\u001b[A\n"
     ]
    }
   ],
   "source": [
    "max_games = 100 # Limit games queried per user, if needed\n",
    "\n",
    "games = []\n",
    "for user in tqdm(top_users):\n",
    "    games.append(list(client.games.export_by_player(user, since=start, until=end, max=max_games)))\n",
    "    time.sleep(5) # Don't overload API"
   ]
  },
  {
   "cell_type": "code",
   "execution_count": 128,
   "metadata": {},
   "outputs": [
    {
     "data": {
      "text/html": [
       "<div>\n",
       "<style scoped>\n",
       "    .dataframe tbody tr th:only-of-type {\n",
       "        vertical-align: middle;\n",
       "    }\n",
       "\n",
       "    .dataframe tbody tr th {\n",
       "        vertical-align: top;\n",
       "    }\n",
       "\n",
       "    .dataframe thead th {\n",
       "        text-align: right;\n",
       "    }\n",
       "</style>\n",
       "<table border=\"1\" class=\"dataframe\">\n",
       "  <thead>\n",
       "    <tr style=\"text-align: right;\">\n",
       "      <th></th>\n",
       "      <th>date_time</th>\n",
       "      <th>player1_name</th>\n",
       "      <th>player2_name</th>\n",
       "      <th>points1</th>\n",
       "      <th>points2</th>\n",
       "    </tr>\n",
       "  </thead>\n",
       "  <tbody>\n",
       "    <tr>\n",
       "      <th>0</th>\n",
       "      <td>2011-05-15 10:54:41+00:00</td>\n",
       "      <td>BULLET</td>\n",
       "      <td>NaN</td>\n",
       "      <td>0</td>\n",
       "      <td>1</td>\n",
       "    </tr>\n",
       "    <tr>\n",
       "      <th>1</th>\n",
       "      <td>2011-05-15 11:11:45+00:00</td>\n",
       "      <td>BULLET</td>\n",
       "      <td>NaN</td>\n",
       "      <td>0</td>\n",
       "      <td>1</td>\n",
       "    </tr>\n",
       "    <tr>\n",
       "      <th>2</th>\n",
       "      <td>2011-05-15 11:16:46+00:00</td>\n",
       "      <td>ngrju</td>\n",
       "      <td>BULLET</td>\n",
       "      <td>0</td>\n",
       "      <td>1</td>\n",
       "    </tr>\n",
       "    <tr>\n",
       "      <th>3</th>\n",
       "      <td>2011-05-15 11:26:28+00:00</td>\n",
       "      <td>NaN</td>\n",
       "      <td>BULLET</td>\n",
       "      <td>1</td>\n",
       "      <td>0</td>\n",
       "    </tr>\n",
       "    <tr>\n",
       "      <th>4</th>\n",
       "      <td>2011-05-15 11:28:34+00:00</td>\n",
       "      <td>BULLET</td>\n",
       "      <td>suvarnabhumi</td>\n",
       "      <td>0</td>\n",
       "      <td>1</td>\n",
       "    </tr>\n",
       "    <tr>\n",
       "      <th>...</th>\n",
       "      <td>...</td>\n",
       "      <td>...</td>\n",
       "      <td>...</td>\n",
       "      <td>...</td>\n",
       "      <td>...</td>\n",
       "    </tr>\n",
       "    <tr>\n",
       "      <th>485</th>\n",
       "      <td>2020-04-14 02:38:43.738000+00:00</td>\n",
       "      <td>LeelaChess</td>\n",
       "      <td>kopdog</td>\n",
       "      <td>1</td>\n",
       "      <td>0</td>\n",
       "    </tr>\n",
       "    <tr>\n",
       "      <th>486</th>\n",
       "      <td>2020-04-14 02:44:39.111000+00:00</td>\n",
       "      <td>LeelaChess</td>\n",
       "      <td>kopdog</td>\n",
       "      <td>1</td>\n",
       "      <td>0</td>\n",
       "    </tr>\n",
       "    <tr>\n",
       "      <th>487</th>\n",
       "      <td>2020-04-14 02:53:14.782000+00:00</td>\n",
       "      <td>LeelaChess</td>\n",
       "      <td>longboardacat</td>\n",
       "      <td>1</td>\n",
       "      <td>0</td>\n",
       "    </tr>\n",
       "    <tr>\n",
       "      <th>488</th>\n",
       "      <td>2020-04-14 02:55:04.952000+00:00</td>\n",
       "      <td>Limbert15</td>\n",
       "      <td>LeelaChess</td>\n",
       "      <td>0</td>\n",
       "      <td>1</td>\n",
       "    </tr>\n",
       "    <tr>\n",
       "      <th>489</th>\n",
       "      <td>2020-04-14 02:57:30.645000+00:00</td>\n",
       "      <td>LeelaChess</td>\n",
       "      <td>rabidllama</td>\n",
       "      <td>1</td>\n",
       "      <td>0</td>\n",
       "    </tr>\n",
       "  </tbody>\n",
       "</table>\n",
       "<p>490 rows × 5 columns</p>\n",
       "</div>"
      ],
      "text/plain": [
       "                           date_time player1_name   player2_name  points1  \\\n",
       "0          2011-05-15 10:54:41+00:00       BULLET            NaN        0   \n",
       "1          2011-05-15 11:11:45+00:00       BULLET            NaN        0   \n",
       "2          2011-05-15 11:16:46+00:00        ngrju         BULLET        0   \n",
       "3          2011-05-15 11:26:28+00:00          NaN         BULLET        1   \n",
       "4          2011-05-15 11:28:34+00:00       BULLET   suvarnabhumi        0   \n",
       "..                               ...          ...            ...      ...   \n",
       "485 2020-04-14 02:38:43.738000+00:00   LeelaChess         kopdog        1   \n",
       "486 2020-04-14 02:44:39.111000+00:00   LeelaChess         kopdog        1   \n",
       "487 2020-04-14 02:53:14.782000+00:00   LeelaChess  longboardacat        1   \n",
       "488 2020-04-14 02:55:04.952000+00:00    Limbert15     LeelaChess        0   \n",
       "489 2020-04-14 02:57:30.645000+00:00   LeelaChess     rabidllama        1   \n",
       "\n",
       "     points2  \n",
       "0          1  \n",
       "1          1  \n",
       "2          1  \n",
       "3          0  \n",
       "4          1  \n",
       "..       ...  \n",
       "485        0  \n",
       "486        0  \n",
       "487        0  \n",
       "488        1  \n",
       "489        0  \n",
       "\n",
       "[490 rows x 5 columns]"
      ]
     },
     "execution_count": 128,
     "metadata": {},
     "output_type": "execute_result"
    }
   ],
   "source": [
    "games_df = pd.concat([pd.json_normalize(game) for game in games], ignore_index=True)\n",
    "games_df['points1'] = games_df.apply(lambda row: 1 if row.winner == \"white\" else 0, axis = 1)\n",
    "games_df['points2'] = games_df.apply(lambda row: 1 if row.winner == \"black\" else 0, axis = 1)\n",
    "games_df = games_df.rename(columns={\n",
    "    \"createdAt\": \"date_time\",\n",
    "    \"players.white.user.name\": \"player1_name\", \n",
    "    \"players.black.user.name\": \"player2_name\"\n",
    "})[[\"date_time\", \"player1_name\", \"player2_name\", \"points1\", \"points2\"]]\n",
    "games_df.sort_values(by='date_time').reset_index(drop=True)"
   ]
  }
 ],
 "metadata": {
  "kernelspec": {
   "display_name": "Python 3",
   "language": "python",
   "name": "python3"
  },
  "language_info": {
   "codemirror_mode": {
    "name": "ipython",
    "version": 3
   },
   "file_extension": ".py",
   "mimetype": "text/x-python",
   "name": "python",
   "nbconvert_exporter": "python",
   "pygments_lexer": "ipython3",
   "version": "3.6.9"
  }
 },
 "nbformat": 4,
 "nbformat_minor": 4
}
